{
  "nbformat": 4,
  "nbformat_minor": 0,
  "metadata": {
    "colab": {
      "name": "Fast KNN: LSH.ipynb",
      "provenance": [],
      "collapsed_sections": [],
      "authorship_tag": "ABX9TyMHwwo+TCnNdW12QHjTGFBR",
      "include_colab_link": true
    },
    "kernelspec": {
      "name": "python3",
      "display_name": "Python 3"
    },
    "language_info": {
      "name": "python"
    }
  },
  "cells": [
    {
      "cell_type": "markdown",
      "metadata": {
        "id": "view-in-github",
        "colab_type": "text"
      },
      "source": [
        "<a href=\"https://colab.research.google.com/github/yexf308/AdvancedMachineLearning/blob/main/Fast_KNN_LSH.ipynb\" target=\"_parent\"><img src=\"https://colab.research.google.com/assets/colab-badge.svg\" alt=\"Open In Colab\"/></a>"
      ]
    },
    {
      "cell_type": "code",
      "execution_count": null,
      "metadata": {
        "id": "JB3cHvmzuPr3"
      },
      "outputs": [],
      "source": [
        "from IPython.display import Image"
      ]
    },
    {
      "cell_type": "markdown",
      "source": [
        "reference [Emily Fox course](https://courses.cs.washington.edu/courses/cse547) and [her open course](https://www.coursera.org/learn/ml-clustering-and-retrieval). "
      ],
      "metadata": {
        "id": "tPeQ4FztoCWN"
      }
    },
    {
      "cell_type": "markdown",
      "source": [
        "$\\def\\m#1{\\mathbf{#1}}$\n",
        "$\\def\\mb#1{\\mathbb{#1}}$\n",
        "$\\def\\c#1{\\mathcal{#1}}$\n",
        "# Locality\tSensitive\tHashing\t(LSH)\n",
        "\n",
        "K-d trees are very helpful, but it is non-trivial\tto\timplement\tefficiently and can only handle dimension $d\\le 20$. In fact, it could be shown that under some conditions\n",
        "that you visit at least $2^d$ nodes to get a good approximation of nearest neighbour. \n",
        "\n",
        "\n",
        "\n",
        "In practice, we only need to find **approximate neighbours**. It is okay for many applications, especially in big data situation. \n",
        "\n",
        "## Hash table\n",
        "One idea works extremely well, is to use a hash table. Suppose we have a “hash”\n",
        "function $g$ which of the form $g: \\c{X}\\rightarrow \\{0,1\\}^k$, e.g. it maps data to binary strings.  Suppose this function is cheap to compute, which can often be achieved easily. \n",
        "\n",
        "Hopefully we can find neighbours that falls into the same bin(hash value) of the query point. \n",
        "\n",
        "But by the design, for a query point $\\m{x}$, \n",
        "$$ \\mb{P}(g(\\m{x})= g(\\m{x}'))=\\frac{1}{2^k}$$\n",
        "for any $\\m{x}'\\in \\c{X}$. Even if $g(\\m{x})\\approx g(\\m{x}')$, it doesn't immediately imply $d(\\m{x}, \\m{x}')$ is small.  \n",
        "\n",
        "- It is challenging to find good hashing function since points close together get split into separate bins. \n",
        "\n",
        "- Large computational cost: bins might contain many points, so still\n",
        "searching over large set for each NN query.\n",
        "\n",
        "- But can serve most of purpose here. \n",
        "\n",
        "\n",
        "### Example\n",
        "<img src=\"https://github.com/yexf308/AdvancedMachineLearning/blob/main/image/lsh1.png?raw=true\" width=\"400\" />\n",
        "<img src=\"https://github.com/yexf308/AdvancedMachineLearning/blob/main/image/lsh2.png?raw=true\" width=\"400\" />\n",
        "\n",
        "<br>\n",
        "<img src=\"https://github.com/yexf308/AdvancedMachineLearning/blob/main/image/lsh3.png?raw=true\" width=\"400\" />\n",
        "<img src=\"https://github.com/yexf308/AdvancedMachineLearning/blob/main/image/lsh4.png?raw=true\" width=\"400\" />"
      ],
      "metadata": {
        "id": "T3W-XcMB-Fvc"
      }
    },
    {
      "cell_type": "markdown",
      "source": [
        "## Locality\tSensitive\tHashing\t\n",
        "A\tLSH\tfunction $h$ satisfies\t(for example), for some distance function $d$, for $r>0$ and $\\alpha>1$, \n",
        "\n",
        "- If $d(\\m{x}, \\m{x}')< r $, then $\\mb{P}(h(\\m{x})=h(\\m{x}'))$ is high (with probability at least $P_{1}$).\n",
        "\n",
        "- If $d(\\m{x}, \\m{x}')> \\alpha \\cdot r$, then $\\mb{P}(h(\\m{x})=h(\\m{x}'))$ is low (with probability at most $P_{2}$).\n",
        "\n",
        "- (in\tbetween,\tnot\tsure\tabout\tprobability)\t\n",
        "\n",
        "<img src=\"https://github.com/yexf308/AdvancedMachineLearning/blob/main/image/lsh5.png?raw=true\" width=\"400\" />\n",
        "\n",
        "How to find LSH function with low cost?\n",
        "**Random Projection!!**\n",
        "\n",
        "\n"
      ],
      "metadata": {
        "id": "OZZMmi6LkPNc"
      }
    },
    {
      "cell_type": "markdown",
      "source": [
        "### Random projection\n",
        "- Pick\t$d$ indepdent Gaussian random\tvectors $\\{\\m{v}^{(i)}\\}_{i=1}^d$, i.e., $v_j^{(i)} \\sim N(0,1)$.\n",
        "\n",
        "- The LSH $h$ function is \n",
        "$$h(\\m{x})=\\begin{bmatrix}\\m{x} \\m{v}^{(1)},  \\m{x} \\m{v}^{(2)} ,\\cdots, \\m{x} \\m{v}^{(d)} \\end{bmatrix}\\in \\mb{R}^d. $$\n",
        "\n",
        "- From HW, we know $\\m{x}\\cdot (\\m{x'})^\\top \\approx h(\\m{x}) \\cdot (h(\\m{x'}))^\\top$ with high probability. So we can use cosine similarity here!\n",
        " We only need about $O(\\frac{\\log(N)}{\\epsilon^2})$ to approximate the inner product within $\\epsilon$. \n",
        "\n",
        "- But all sparsity in $\\m{x}$ is lost. Because $\\m{v}^{(i)}$ is dense, then $h(\\m{x})$ is also dense with high probability, even when $\\m{x}$ is sparse. "
      ],
      "metadata": {
        "id": "v-MUFLuBsbzC"
      }
    },
    {
      "cell_type": "markdown",
      "source": [
        "### Sparse random projection\n",
        "Step 0: Pick $d$ such that $N/2^d$ is smallish. \n",
        "\n",
        "\n",
        "Step 1: Transform to binary vector. \n",
        "\n",
        "- Simple 0/1 projection\n",
        "$$h_i(\\m{x})=\\begin{cases}1 & \\text{if } \\text{sign}(\\m{x}\\m{v}^{(i)})\\ge 0 \\\\ 0 & \\text{if } \\text{sign}(\\m{x}\\m{v}^{(i)})< 0\\end{cases} $$\n",
        "\n",
        "- Now\teach\tvector\tis\tapproximated\tby\ta\tbit-vector, like \n",
        "$$ h(\\m{x})=[1, 0, 1, \\dots, 1]$$\n",
        "Each bit-vector can be turned into an integer. There are total $2^d$ bins. \n",
        "\n",
        "- Approximation for cosine similarity: \n",
        "$$ \\text{similarity}=\\frac{\\m{x}(\\m{x'})^\\top}{\\|\\m{x}\\| \\|\\m{x'}\\|}=\\cos(\\theta_{\\m{x}\\m{x'}}) \\approx \\cos\\left( \\frac{\\pi}{d}\\text{HammDist}(h(\\m{x}), h(\\m{x'}))\\right)$$\n",
        "\n",
        "\n",
        "<img src=\"https://github.com/yexf308/AdvancedMachineLearning/blob/main/image/lsh6.png?raw=true\" width=\"400\" />\n",
        "\n",
        "Step 2: If we use $h(\\m{x})$ as index in the hashing table, very similar elements fall into the same bin. \n",
        "\n",
        "- When cosine similarity is high, $\\theta_{\\m{x}\\m{x'}}\\approx 0$ and $\\text{HammDist}(h(\\m{x}), h(\\m{x'}))\\approx 0$. Then $\\m{x}, \\m{x'}$ are in the same bin or in two different bins with very close Hamming distances. \n",
        "\n",
        "Step 3: Simple\tneighbor\tfinding\twith\tLSH\n",
        "\n",
        "- For\tbins\t$b$\tof\tincreasing\thamming\tdistance\tto $h(\\m{x})$, look for nearest neighbours of $\\m{x}$ in bin $b$.\n",
        "\n",
        "\n",
        "- For example, if $h(\\m{x})=[0,1,1,0]$, you should first look for $\\m{x}'$ in the same bin as the query point $\\m{x}$. Then check the bins that are one hamming distance away, such as $[1,1,1,0]$. Is it actually efficient?\n"
      ],
      "metadata": {
        "id": "NI9QHKBa7Sc0"
      }
    },
    {
      "cell_type": "markdown",
      "source": [
        "## Multiple table method\n",
        "\n",
        "Assume $\\delta$ is the probability that the random hyperplane split the query point and its nearest neighbor, which are $\\theta$ apart.\n",
        "\n",
        "\n",
        "### First method: single hash table + 1 bit off\n",
        "Pick two random hyperplanes and search\n",
        "bins 1 bit off from query. \n",
        "\n",
        "Search 3 bins and do not\n",
        "find NN with probability $\\delta^2$.\n",
        "\n",
        "<img src=\"https://github.com/yexf308/AdvancedMachineLearning/blob/main/image/lsh7.png?raw=true\" width=\"300\" />\n",
        "\n",
        "### Second method: multiple hash table + 0 bit off\n",
        "Repeat two hyperplane binning three times, but search\n",
        "only query bin per table. \n",
        "\n",
        "<img src=\"https://github.com/yexf308/AdvancedMachineLearning/blob/main/image/lsh8.png?raw=true\" width=\"500\" />\n",
        "\n",
        "What is chance\n",
        "that query pt\n",
        "and NN are split\n",
        "in all three tables? \n",
        "\n",
        "For each table, Probability NN \n",
        "in different bin is $1-(1-\\delta)^2 =2\\delta -\\delta^2$. \n",
        "\n",
        "Note $1-\\delta$ is probability that one random line doesn't split the query and NN. $(1-\\delta)^2$ is probability that two independent random lines don't split the query and NN. \n",
        "\n",
        "\n",
        "Probability NN \n",
        "in different bin in\n",
        "all 3 tables is $(2\\delta -\\delta^2)^3$\n",
        "\n",
        "### Summary for both methods\n",
        "\n",
        "<img src=\"https://github.com/yexf308/AdvancedMachineLearning/blob/main/image/lsh9.png?raw=true\" width=\"400\" />\n",
        "\n",
        "<img src=\"https://github.com/yexf308/AdvancedMachineLearning/blob/main/image/lsh10.png?raw=true\" width=\"400\" />\n",
        "\n",
        "So multiple hash table + 0 bit off is the better choice!\n",
        "\n",
        "\n",
        "### Extended to $h$ lines \n",
        "\n",
        "- Single hash table + 1 bit off: Search h+1 bins and do not find NN\n",
        "with probability is $1-(1-\\delta)^h-h\\delta(1-\\delta)^{h-1} $\n",
        "\n",
        "\n",
        "-  Multiple hash table + 0 bit off: Probability NN is\n",
        "in different bin in\n",
        "all $h+1$ tables: $(1-(1-\\delta)^h)^{h+1}$. "
      ],
      "metadata": {
        "id": "1iZMLFZcwQns"
      }
    },
    {
      "cell_type": "markdown",
      "source": [
        "# Example: wikipedia data"
      ],
      "metadata": {
        "id": "n5qMNtXFW27-"
      }
    },
    {
      "cell_type": "code",
      "source": [
        "from google.colab import drive\n",
        "drive.mount('/content/drive')\n",
        "import os,sys\n",
        "os.chdir(\"/content/drive/My Drive\")\n",
        "\n",
        "nb_path = '/content/notebooks'\n",
        "sys.path.insert(0,nb_path)"
      ],
      "metadata": {
        "colab": {
          "base_uri": "https://localhost:8080/"
        },
        "id": "XT5Z19t0SnqG",
        "outputId": "c94711d6-7855-4df6-f1cd-0db44d3d0927"
      },
      "execution_count": 2,
      "outputs": [
        {
          "output_type": "stream",
          "name": "stdout",
          "text": [
            "Drive already mounted at /content/drive; to attempt to forcibly remount, call drive.mount(\"/content/drive\", force_remount=True).\n"
          ]
        }
      ]
    },
    {
      "cell_type": "code",
      "source": [
        "!pip install --target=$nb_path turicreate\n"
      ],
      "metadata": {
        "id": "qRzLxdF76PHM"
      },
      "execution_count": null,
      "outputs": []
    },
    {
      "cell_type": "code",
      "source": [
        "from __future__ import print_function # to conform python 2.x print to python 3.x\n",
        "import numpy as np\n",
        "import turicreate\n",
        "from scipy.sparse import csr_matrix\n",
        "from sklearn.metrics.pairwise import pairwise_distances\n",
        "import time\n",
        "from copy import copy\n",
        "import matplotlib.pyplot as plt\n",
        "%matplotlib inline\n",
        "\n",
        "'''compute norm of a sparse vector\n",
        "   Thanks to: Jaiyam Sharma'''\n",
        "def norm(x):\n",
        "    sum_sq=x.dot(x.T)\n",
        "    norm=np.sqrt(sum_sq)\n",
        "    return(norm)"
      ],
      "metadata": {
        "id": "lFWslx2L6ZD6"
      },
      "execution_count": 3,
      "outputs": []
    },
    {
      "cell_type": "markdown",
      "source": [
        "## Data preparation: Load in the Wikipedia dataset\n",
        "The data is in: https://drive.google.com/file/d/1mdfgBObzQ51wXZJc-z0DJKTrf8OguWBv/view?usp=sharing\n",
        "\n",
        "Once you open the link in the brower, make sure you click the \"Add shortcut to Drive\" and now your google drive should show up the zip file.  Then you run the following code to link colab to your google drive."
      ],
      "metadata": {
        "id": "2jMXwgMF6gl7"
      }
    },
    {
      "cell_type": "code",
      "source": [
        "!unzip people_wiki.sframe.zip"
      ],
      "metadata": {
        "id": "o7wNHNtq6my0"
      },
      "execution_count": null,
      "outputs": []
    },
    {
      "cell_type": "code",
      "source": [
        "wiki = turicreate.SFrame('people_wiki.sframe/')\n",
        "wiki = wiki.add_row_number()"
      ],
      "metadata": {
        "id": "uQSqKrRh6pCD"
      },
      "execution_count": 4,
      "outputs": []
    },
    {
      "cell_type": "markdown",
      "source": [
        "## Extract TF-IDF matrix\n",
        "We first use Turi Create to compute a TF-IDF representation for each document."
      ],
      "metadata": {
        "id": "FpIDR6db6u4y"
      }
    },
    {
      "cell_type": "code",
      "source": [
        "wiki['tf_idf'] = turicreate.text_analytics.tf_idf(wiki['text'])\n",
        "wiki.head()"
      ],
      "metadata": {
        "colab": {
          "base_uri": "https://localhost:8080/",
          "height": 423
        },
        "id": "NZL3js5Q60j1",
        "outputId": "20d7b4d1-b7e6-4d8f-9757-59bf42795044"
      },
      "execution_count": 5,
      "outputs": [
        {
          "output_type": "execute_result",
          "data": {
            "text/html": [
              "<div style=\"max-height:1000px;max-width:1500px;overflow:auto;\"><table frame=\"box\" rules=\"cols\">\n",
              "    <tr>\n",
              "        <th style=\"padding-left: 1em; padding-right: 1em; text-align: center\">id</th>\n",
              "        <th style=\"padding-left: 1em; padding-right: 1em; text-align: center\">URI</th>\n",
              "        <th style=\"padding-left: 1em; padding-right: 1em; text-align: center\">name</th>\n",
              "        <th style=\"padding-left: 1em; padding-right: 1em; text-align: center\">text</th>\n",
              "        <th style=\"padding-left: 1em; padding-right: 1em; text-align: center\">tf_idf</th>\n",
              "    </tr>\n",
              "    <tr>\n",
              "        <td style=\"padding-left: 1em; padding-right: 1em; text-align: center; vertical-align: top\">0</td>\n",
              "        <td style=\"padding-left: 1em; padding-right: 1em; text-align: center; vertical-align: top\">&lt;http://dbpedia.org/resou<br>rce/Digby_Morrell&gt; ...</td>\n",
              "        <td style=\"padding-left: 1em; padding-right: 1em; text-align: center; vertical-align: top\">Digby Morrell</td>\n",
              "        <td style=\"padding-left: 1em; padding-right: 1em; text-align: center; vertical-align: top\">digby morrell born 10<br>october 1979 is a former ...</td>\n",
              "        <td style=\"padding-left: 1em; padding-right: 1em; text-align: center; vertical-align: top\">{&#x27;melbourne&#x27;:<br>3.8914310119380633, ...</td>\n",
              "    </tr>\n",
              "    <tr>\n",
              "        <td style=\"padding-left: 1em; padding-right: 1em; text-align: center; vertical-align: top\">1</td>\n",
              "        <td style=\"padding-left: 1em; padding-right: 1em; text-align: center; vertical-align: top\">&lt;http://dbpedia.org/resou<br>rce/Alfred_J._Lewy&gt; ...</td>\n",
              "        <td style=\"padding-left: 1em; padding-right: 1em; text-align: center; vertical-align: top\">Alfred J. Lewy</td>\n",
              "        <td style=\"padding-left: 1em; padding-right: 1em; text-align: center; vertical-align: top\">alfred j lewy aka sandy<br>lewy graduated from ...</td>\n",
              "        <td style=\"padding-left: 1em; padding-right: 1em; text-align: center; vertical-align: top\">{&#x27;time&#x27;:<br>1.3253342074200498, ...</td>\n",
              "    </tr>\n",
              "    <tr>\n",
              "        <td style=\"padding-left: 1em; padding-right: 1em; text-align: center; vertical-align: top\">2</td>\n",
              "        <td style=\"padding-left: 1em; padding-right: 1em; text-align: center; vertical-align: top\">&lt;http://dbpedia.org/resou<br>rce/Harpdog_Brown&gt; ...</td>\n",
              "        <td style=\"padding-left: 1em; padding-right: 1em; text-align: center; vertical-align: top\">Harpdog Brown</td>\n",
              "        <td style=\"padding-left: 1em; padding-right: 1em; text-align: center; vertical-align: top\">harpdog brown is a singer<br>and harmonica player who ...</td>\n",
              "        <td style=\"padding-left: 1em; padding-right: 1em; text-align: center; vertical-align: top\">{&#x27;society&#x27;:<br>2.4448047262085693, ...</td>\n",
              "    </tr>\n",
              "    <tr>\n",
              "        <td style=\"padding-left: 1em; padding-right: 1em; text-align: center; vertical-align: top\">3</td>\n",
              "        <td style=\"padding-left: 1em; padding-right: 1em; text-align: center; vertical-align: top\">&lt;http://dbpedia.org/resou<br>rce/Franz_Rottensteiner&gt; ...</td>\n",
              "        <td style=\"padding-left: 1em; padding-right: 1em; text-align: center; vertical-align: top\">Franz Rottensteiner</td>\n",
              "        <td style=\"padding-left: 1em; padding-right: 1em; text-align: center; vertical-align: top\">franz rottensteiner born<br>in waidmannsfeld lower ...</td>\n",
              "        <td style=\"padding-left: 1em; padding-right: 1em; text-align: center; vertical-align: top\">{&#x27;kurdlawitzpreis&#x27;:<br>10.986495389225194, ...</td>\n",
              "    </tr>\n",
              "    <tr>\n",
              "        <td style=\"padding-left: 1em; padding-right: 1em; text-align: center; vertical-align: top\">4</td>\n",
              "        <td style=\"padding-left: 1em; padding-right: 1em; text-align: center; vertical-align: top\">&lt;http://dbpedia.org/resou<br>rce/G-Enka&gt; ...</td>\n",
              "        <td style=\"padding-left: 1em; padding-right: 1em; text-align: center; vertical-align: top\">G-Enka</td>\n",
              "        <td style=\"padding-left: 1em; padding-right: 1em; text-align: center; vertical-align: top\">henry krvits born 30<br>december 1974 in tallinn ...</td>\n",
              "        <td style=\"padding-left: 1em; padding-right: 1em; text-align: center; vertical-align: top\">{&#x27;curtis&#x27;:<br>5.299520032885375, ...</td>\n",
              "    </tr>\n",
              "    <tr>\n",
              "        <td style=\"padding-left: 1em; padding-right: 1em; text-align: center; vertical-align: top\">5</td>\n",
              "        <td style=\"padding-left: 1em; padding-right: 1em; text-align: center; vertical-align: top\">&lt;http://dbpedia.org/resou<br>rce/Sam_Henderson&gt; ...</td>\n",
              "        <td style=\"padding-left: 1em; padding-right: 1em; text-align: center; vertical-align: top\">Sam Henderson</td>\n",
              "        <td style=\"padding-left: 1em; padding-right: 1em; text-align: center; vertical-align: top\">sam henderson born<br>october 18 1969 is an ...</td>\n",
              "        <td style=\"padding-left: 1em; padding-right: 1em; text-align: center; vertical-align: top\">{&#x27;asses&#x27;:<br>9.600201028105303, &#x27;s ...</td>\n",
              "    </tr>\n",
              "    <tr>\n",
              "        <td style=\"padding-left: 1em; padding-right: 1em; text-align: center; vertical-align: top\">6</td>\n",
              "        <td style=\"padding-left: 1em; padding-right: 1em; text-align: center; vertical-align: top\">&lt;http://dbpedia.org/resou<br>rce/Aaron_LaCrate&gt; ...</td>\n",
              "        <td style=\"padding-left: 1em; padding-right: 1em; text-align: center; vertical-align: top\">Aaron LaCrate</td>\n",
              "        <td style=\"padding-left: 1em; padding-right: 1em; text-align: center; vertical-align: top\">aaron lacrate is an<br>american music producer ...</td>\n",
              "        <td style=\"padding-left: 1em; padding-right: 1em; text-align: center; vertical-align: top\">{&#x27;streamz&#x27;:<br>10.986495389225194, ...</td>\n",
              "    </tr>\n",
              "    <tr>\n",
              "        <td style=\"padding-left: 1em; padding-right: 1em; text-align: center; vertical-align: top\">7</td>\n",
              "        <td style=\"padding-left: 1em; padding-right: 1em; text-align: center; vertical-align: top\">&lt;http://dbpedia.org/resou<br>rce/Trevor_Ferguson&gt; ...</td>\n",
              "        <td style=\"padding-left: 1em; padding-right: 1em; text-align: center; vertical-align: top\">Trevor Ferguson</td>\n",
              "        <td style=\"padding-left: 1em; padding-right: 1em; text-align: center; vertical-align: top\">trevor ferguson aka john<br>farrow born 11 november ...</td>\n",
              "        <td style=\"padding-left: 1em; padding-right: 1em; text-align: center; vertical-align: top\">{&#x27;concordia&#x27;:<br>6.250296940830698, ...</td>\n",
              "    </tr>\n",
              "    <tr>\n",
              "        <td style=\"padding-left: 1em; padding-right: 1em; text-align: center; vertical-align: top\">8</td>\n",
              "        <td style=\"padding-left: 1em; padding-right: 1em; text-align: center; vertical-align: top\">&lt;http://dbpedia.org/resou<br>rce/Grant_Nelson&gt; ...</td>\n",
              "        <td style=\"padding-left: 1em; padding-right: 1em; text-align: center; vertical-align: top\">Grant Nelson</td>\n",
              "        <td style=\"padding-left: 1em; padding-right: 1em; text-align: center; vertical-align: top\">grant nelson born 27<br>april 1971 in london  ...</td>\n",
              "        <td style=\"padding-left: 1em; padding-right: 1em; text-align: center; vertical-align: top\">{&#x27;heavies&#x27;:<br>8.907053847545358, &#x27;n ...</td>\n",
              "    </tr>\n",
              "    <tr>\n",
              "        <td style=\"padding-left: 1em; padding-right: 1em; text-align: center; vertical-align: top\">9</td>\n",
              "        <td style=\"padding-left: 1em; padding-right: 1em; text-align: center; vertical-align: top\">&lt;http://dbpedia.org/resou<br>rce/Cathy_Caruth&gt; ...</td>\n",
              "        <td style=\"padding-left: 1em; padding-right: 1em; text-align: center; vertical-align: top\">Cathy Caruth</td>\n",
              "        <td style=\"padding-left: 1em; padding-right: 1em; text-align: center; vertical-align: top\">cathy caruth born 1955 is<br>frank h t rhodes ...</td>\n",
              "        <td style=\"padding-left: 1em; padding-right: 1em; text-align: center; vertical-align: top\">{&#x27;2002&#x27;:<br>1.8753125887822302, ...</td>\n",
              "    </tr>\n",
              "</table>\n",
              "[10 rows x 5 columns]<br/>\n",
              "</div>"
            ],
            "text/plain": [
              "Columns:\n",
              "\tid\tint\n",
              "\tURI\tstr\n",
              "\tname\tstr\n",
              "\ttext\tstr\n",
              "\ttf_idf\tdict\n",
              "\n",
              "Rows: 10\n",
              "\n",
              "Data:\n",
              "+----+-------------------------------+---------------------+\n",
              "| id |              URI              |         name        |\n",
              "+----+-------------------------------+---------------------+\n",
              "| 0  | <http://dbpedia.org/resour... |    Digby Morrell    |\n",
              "| 1  | <http://dbpedia.org/resour... |    Alfred J. Lewy   |\n",
              "| 2  | <http://dbpedia.org/resour... |    Harpdog Brown    |\n",
              "| 3  | <http://dbpedia.org/resour... | Franz Rottensteiner |\n",
              "| 4  | <http://dbpedia.org/resour... |        G-Enka       |\n",
              "| 5  | <http://dbpedia.org/resour... |    Sam Henderson    |\n",
              "| 6  | <http://dbpedia.org/resour... |    Aaron LaCrate    |\n",
              "| 7  | <http://dbpedia.org/resour... |   Trevor Ferguson   |\n",
              "| 8  | <http://dbpedia.org/resour... |     Grant Nelson    |\n",
              "| 9  | <http://dbpedia.org/resour... |     Cathy Caruth    |\n",
              "+----+-------------------------------+---------------------+\n",
              "+-------------------------------+-------------------------------+\n",
              "|              text             |             tf_idf            |\n",
              "+-------------------------------+-------------------------------+\n",
              "| digby morrell born 10 octo... | {'melbourne': 3.8914310119... |\n",
              "| alfred j lewy aka sandy le... | {'time': 1.325334207420049... |\n",
              "| harpdog brown is a singer ... | {'society': 2.444804726208... |\n",
              "| franz rottensteiner born i... | {'kurdlawitzpreis': 10.986... |\n",
              "| henry krvits born 30 decem... | {'curtis': 5.2995200328853... |\n",
              "| sam henderson born october... | {'asses': 9.60020102810530... |\n",
              "| aaron lacrate is an americ... | {'streamz': 10.98649538922... |\n",
              "| trevor ferguson aka john f... | {'concordia': 6.2502969408... |\n",
              "| grant nelson born 27 april... | {'heavies': 8.907053847545... |\n",
              "| cathy caruth born 1955 is ... | {'2002': 1.875312588782230... |\n",
              "+-------------------------------+-------------------------------+\n",
              "[10 rows x 5 columns]"
            ]
          },
          "metadata": {},
          "execution_count": 5
        }
      ]
    },
    {
      "cell_type": "code",
      "source": [
        "wiki[0]['text']"
      ],
      "metadata": {
        "colab": {
          "base_uri": "https://localhost:8080/",
          "height": 140
        },
        "id": "eNoCPKl58oES",
        "outputId": "cfddf493-d8c7-4027-f9d3-7090056e421c"
      },
      "execution_count": 6,
      "outputs": [
        {
          "output_type": "execute_result",
          "data": {
            "application/vnd.google.colaboratory.intrinsic+json": {
              "type": "string"
            },
            "text/plain": [
              "'digby morrell born 10 october 1979 is a former australian rules footballer who played with the kangaroos and carlton in the australian football league aflfrom western australia morrell played his early senior football for west perth his 44game senior career for the falcons spanned 19982000 and he was the clubs leading goalkicker in 2000 at the age of 21 morrell was recruited to the australian football league by the kangaroos football club with its third round selection in the 2001 afl rookie draft as a forward he twice kicked five goals during his time with the kangaroos the first was in a losing cause against sydney in 2002 and the other the following season in a drawn game against brisbaneafter the 2003 season morrell was traded along with david teague to the carlton football club in exchange for corey mckernan he played 32 games for the blues before being delisted at the end of 2005 he continued to play victorian football league vfl football with the northern bullants carltons vflaffiliate in 2006 and acted as playing assistant coach in 2007 in 2008 he shifted to the box hill hawks before retiring from playing at the end of the season from 2009 until 2013 morrell was the senior coach of the strathmore football club in the essendon district football league leading the club to the 2011 premier division premiership since 2014 he has coached the west coburg football club also in the edflhe currently teaches physical education at parade college in melbourne'"
            ]
          },
          "metadata": {},
          "execution_count": 6
        }
      ]
    },
    {
      "cell_type": "markdown",
      "source": [
        "We will use sparse matrices. Sparse matrices are matrices) that have a small number of nonzero entries. A good data structure for sparse matrices would only store the nonzero entries to save space and speed up computation. SciPy provides a highly-optimized library for sparse matrices. Many matrix operations available for NumPy arrays are also available for SciPy sparse matrices.We first convert the TF-IDF column (in dictionary format) into the SciPy sparse matrix format."
      ],
      "metadata": {
        "id": "7o2QiXdq647h"
      }
    },
    {
      "cell_type": "code",
      "source": [
        "def sframe_to_scipy(x, column_name):\n",
        "    '''\n",
        "    Convert a dictionary column of an SFrame into a sparse matrix format where\n",
        "    each (row_id, column_id, value) triple corresponds to the value of\n",
        "    x[row_id][column_id], where column_id is a key in the dictionary.\n",
        "       \n",
        "    Example\n",
        "    >>> sparse_matrix, map_key_to_index = sframe_to_scipy(sframe, column_name)\n",
        "    '''\n",
        "    assert type(x[column_name][0]) == dict, \\\n",
        "        'The chosen column must be dict type, representing sparse data.'\n",
        "    \n",
        "    # Stack will transform x to have a row for each unique (row, key) pair.\n",
        "    x = x.stack(column_name, ['feature', 'value'])\n",
        "    \n",
        "    # Map feature words to integers \n",
        "    unique_words = sorted(x['feature'].unique())\n",
        "    mapping = {word:i for i, word in enumerate(unique_words)}\n",
        "    x['feature_id'] = x['feature'].apply(lambda x: mapping[x])\n",
        "    \n",
        "    # Create numpy arrays that contain the data for the sparse matrix.\n",
        "    row_id = np.array(x['id'])\n",
        "    col_id = np.array(x['feature_id'])\n",
        "    data = np.array(x['value'])\n",
        "    \n",
        "    width = x['id'].max() + 1\n",
        "    height = x['feature_id'].max() + 1\n",
        "    \n",
        "    # Create a sparse matrix.\n",
        "    mat = csr_matrix((data, (row_id, col_id)), shape=(width, height))\n",
        "    return mat, mapping"
      ],
      "metadata": {
        "id": "lUUQ6KnH6_lz"
      },
      "execution_count": 7,
      "outputs": []
    },
    {
      "cell_type": "code",
      "source": [
        "%%time\n",
        "corpus, mapping = sframe_to_scipy(wiki, 'tf_idf')"
      ],
      "metadata": {
        "colab": {
          "base_uri": "https://localhost:8080/"
        },
        "id": "B1uBXrFq7C5y",
        "outputId": "38889be4-0a10-4f50-cfae-42916b06312e"
      },
      "execution_count": 8,
      "outputs": [
        {
          "output_type": "stream",
          "name": "stdout",
          "text": [
            "CPU times: user 2min 18s, sys: 7.51 s, total: 2min 26s\n",
            "Wall time: 1min 58s\n"
          ]
        }
      ]
    },
    {
      "cell_type": "code",
      "source": [
        "print(corpus.shape)"
      ],
      "metadata": {
        "colab": {
          "base_uri": "https://localhost:8080/"
        },
        "id": "LvcX-3xl7FeG",
        "outputId": "5bf862b9-e19e-49f0-a659-d21c1ecccfe0"
      },
      "execution_count": 9,
      "outputs": [
        {
          "output_type": "stream",
          "name": "stdout",
          "text": [
            "(59071, 547979)\n"
          ]
        }
      ]
    },
    {
      "cell_type": "markdown",
      "source": [
        "## Train LSH model\n",
        "\n",
        "### Step 1:\n",
        "generate a collection of random vectors from the standard Gaussian distribution.\n",
        "\n",
        "We now generate random vectors of the same dimensionality as our vocubulary size (547979). Each vector can be used to compute one bit in the bin encoding. We generate 16 vectors, leading to a 16-bit encoding of the bin index for each document."
      ],
      "metadata": {
        "id": "7_Tt8J4oV6jr"
      }
    },
    {
      "cell_type": "code",
      "source": [
        "def generate_random_vectors(dim, n_vectors):\n",
        "    return np.random.randn(dim, n_vectors)"
      ],
      "metadata": {
        "id": "dPq8XbrdWARO"
      },
      "execution_count": 10,
      "outputs": []
    },
    {
      "cell_type": "code",
      "source": [
        "# Generate 16 random vectors of dimension 547979\n",
        "np.random.seed(0)\n",
        "n_vectors = 16\n",
        "random_vectors = generate_random_vectors(corpus.shape[1], n_vectors)\n",
        "random_vectors.shape"
      ],
      "metadata": {
        "colab": {
          "base_uri": "https://localhost:8080/"
        },
        "id": "eJwXs0VsWI_F",
        "outputId": "dbe11174-6d1f-46dd-9527-8416823a465e"
      },
      "execution_count": 11,
      "outputs": [
        {
          "output_type": "execute_result",
          "data": {
            "text/plain": [
              "(547979, 16)"
            ]
          },
          "metadata": {},
          "execution_count": 11
        }
      ]
    },
    {
      "cell_type": "markdown",
      "source": [
        "### Step 2: \n",
        "partition data points into bins.\n",
        "\n",
        "We'd like to decide which bin document 0 should go. Since 16 random vectors were generated in the previous cell, we have 16 bits to represent the bin index. The first bit is given by the sign of the dot product between the first random vector and the document's TF-IDF vector."
      ],
      "metadata": {
        "id": "bdGuXm3EWZal"
      }
    },
    {
      "cell_type": "code",
      "source": [
        "sample = corpus[0] # vector of tf-idf values for document 0\n",
        "# first bit\n",
        "print(sample.dot(random_vectors[:,0]) >= 0) # True if positive sign; False if negative sign\n",
        "\n",
        "# all bits\n",
        "bin_indices_bits = sample.dot(random_vectors) >= 0 # should return an array of 16 True/False bits\n",
        "print(bin_indices_bits)\n",
        "\n",
        "bin_indices_bits_binary = np.array(sample.dot(random_vectors) >= 0, dtype=int) # display index bits in 0/1's\n",
        "print(bin_indices_bits_binary)"
      ],
      "metadata": {
        "colab": {
          "base_uri": "https://localhost:8080/"
        },
        "id": "Ki3DEmTKXIgt",
        "outputId": "257f7a87-1fc1-46b4-e351-017ca9fe22bd"
      },
      "execution_count": 12,
      "outputs": [
        {
          "output_type": "stream",
          "name": "stdout",
          "text": [
            "[ True]\n",
            "[[ True False False False  True False  True False  True  True  True False\n",
            "   True  True False  True]]\n",
            "[[1 0 0 0 1 0 1 0 1 1 1 0 1 1 0 1]]\n"
          ]
        }
      ]
    },
    {
      "cell_type": "markdown",
      "source": [
        "All documents that obtain exactly this vector will be assigned to the same bin. We'd like to repeat the identical operation on all documents in the Wikipedia dataset and compute the corresponding bin indices"
      ],
      "metadata": {
        "id": "CQIzkjkVYYOb"
      }
    },
    {
      "cell_type": "code",
      "source": [
        "%%time\n",
        "corpus.dot(random_vectors) >= 0 # compute bit indices of ALL documents"
      ],
      "metadata": {
        "colab": {
          "base_uri": "https://localhost:8080/"
        },
        "id": "q-f4L-gQYNw-",
        "outputId": "ce1aea1e-66d0-4349-f192-733276063a17"
      },
      "execution_count": 13,
      "outputs": [
        {
          "output_type": "stream",
          "name": "stdout",
          "text": [
            "CPU times: user 271 ms, sys: 0 ns, total: 271 ms\n",
            "Wall time: 272 ms\n"
          ]
        },
        {
          "output_type": "execute_result",
          "data": {
            "text/plain": [
              "array([[ True, False, False, ...,  True, False,  True],\n",
              "       [False, False, False, ...,  True, False,  True],\n",
              "       [ True,  True,  True, ...,  True,  True,  True],\n",
              "       ...,\n",
              "       [False, False, False, ..., False, False,  True],\n",
              "       [ True,  True, False, ...,  True,  True, False],\n",
              "       [ True,  True,  True, ...,  True, False,  True]])"
            ]
          },
          "metadata": {},
          "execution_count": 13
        }
      ]
    },
    {
      "cell_type": "markdown",
      "source": [
        "To make it convenient to refer to individual bins, we convert each binary bin index into a single integer: \n",
        "```\n",
        "Bin index                      integer\n",
        "[0,0,0,0,0,0,0,0,0,0,0,0]   => 0\n",
        "[0,0,0,0,0,0,0,0,0,0,0,1]   => 1\n",
        "[0,0,0,0,0,0,0,0,0,0,1,0]   => 2\n",
        "[0,0,0,0,0,0,0,0,0,0,1,1]   => 3\n",
        "...\n",
        "[1,1,1,1,1,1,1,1,1,1,0,0]   => 65532\n",
        "[1,1,1,1,1,1,1,1,1,1,0,1]   => 65533\n",
        "[1,1,1,1,1,1,1,1,1,1,1,0]   => 65534\n",
        "[1,1,1,1,1,1,1,1,1,1,1,1]   => 65535 (= 2^16-1)\n",
        "```\n",
        "\n",
        "By the [rules of binary number representation](https://en.wikipedia.org/wiki/Binary_number#Decimal), we just need to compute the dot product between the document vector and the vector consisting of powers of 2:"
      ],
      "metadata": {
        "id": "Sa4DPoiuYnNG"
      }
    },
    {
      "cell_type": "code",
      "source": [
        "index_bits = (sample.dot(random_vectors) >= 0)\n",
        "powers_of_two = (1 << np.arange(15, -1, -1))\n",
        "print(index_bits)\n",
        "print(powers_of_two)\n",
        "print(index_bits.dot(powers_of_two))"
      ],
      "metadata": {
        "colab": {
          "base_uri": "https://localhost:8080/"
        },
        "id": "3ghaE_2mYxW1",
        "outputId": "5c29a341-1ef9-47db-9601-780c4f5bba2e"
      },
      "execution_count": 14,
      "outputs": [
        {
          "output_type": "stream",
          "name": "stdout",
          "text": [
            "[[ True False False False  True False  True False  True  True  True False\n",
            "   True  True False  True]]\n",
            "[32768 16384  8192  4096  2048  1024   512   256   128    64    32    16\n",
            "     8     4     2     1]\n",
            "[35565]\n"
          ]
        }
      ]
    },
    {
      "cell_type": "markdown",
      "source": [
        "This following array gives us the integer index of the bins for all documents."
      ],
      "metadata": {
        "id": "oc6BpBUOZMUL"
      }
    },
    {
      "cell_type": "code",
      "source": [
        "index_bits = corpus.dot(random_vectors) >= 0\n",
        "print(index_bits.dot(powers_of_two))"
      ],
      "metadata": {
        "colab": {
          "base_uri": "https://localhost:8080/"
        },
        "id": "n--UJivVZEm5",
        "outputId": "47b3c1c2-6b5a-4c3c-f6e6-ff590e83f2ee"
      },
      "execution_count": 17,
      "outputs": [
        {
          "output_type": "stream",
          "name": "stdout",
          "text": [
            "[35565  2277 61191 ...  2729 50638 63741]\n"
          ]
        }
      ]
    },
    {
      "cell_type": "markdown",
      "source": [
        "Fetch the list of document ids associated with the bin; if no list yet exists for this bin, assign the bin an empty list. Add the document id to the end of the list."
      ],
      "metadata": {
        "id": "6vM3EjM7dks4"
      }
    },
    {
      "cell_type": "code",
      "source": [
        "from collections import defaultdict \n",
        "\n",
        "def train_lsh(data, n_vectors, seed=None):    \n",
        "    if seed is not None:\n",
        "        np.random.seed(seed)\n",
        "\n",
        "    dim = data.shape[1]\n",
        "    random_vectors = generate_random_vectors(dim, n_vectors)  \n",
        "\n",
        "    # Partition data points into bins,\n",
        "    # and encode bin index bits into integers\n",
        "    bin_indices_bits = data.dot(random_vectors) >= 0\n",
        "    powers_of_two = 1 << np.arange(n_vectors - 1, -1, step=-1)\n",
        "    bin_indices = bin_indices_bits.dot(powers_of_two)\n",
        "\n",
        "    # Update `table` so that `table[i]` is the list of document ids with bin index equal to i\n",
        "    table = defaultdict(list)\n",
        "    for idx, bin_index in enumerate(bin_indices):\n",
        "        # Fetch the list of document ids associated with the bin and add the document id to the end.\n",
        "        # data_index: document ids\n",
        "        # append() will add a list of document ids to table dict() with key as bin_index\n",
        "        table[bin_index].append(idx)\n",
        "    \n",
        "    # Note that we're storing the bin_indices here\n",
        "    # so we can do some ad-hoc checking with it,\n",
        "    # this isn't actually required\n",
        "    model = {'data': data,\n",
        "             'table': table,\n",
        "             'random_vectors': random_vectors,\n",
        "             'bin_indices': bin_indices,\n",
        "             'bin_indices_bits': bin_indices_bits}\n",
        "    return model"
      ],
      "metadata": {
        "id": "9sjfF_TycWCm"
      },
      "execution_count": 18,
      "outputs": []
    },
    {
      "cell_type": "code",
      "source": [
        "def compare_bits(model, id_1, id_2):\n",
        "    bits1 = model['bin_indices_bits'][id_1]\n",
        "    bits2 = model['bin_indices_bits'][id_2]\n",
        "    print('Number of agreed bits: ', np.sum(bits1 == bits2))\n",
        "    return np.sum(bits1 == bits2)"
      ],
      "metadata": {
        "id": "auQW0j-Fd9uO"
      },
      "execution_count": 19,
      "outputs": []
    },
    {
      "cell_type": "code",
      "source": [
        "model = train_lsh(corpus, 16, seed=475)\n",
        "obama_id = wiki[wiki['name'] == 'Barack Obama']['id'][0]\n",
        "biden_id = wiki[wiki['name'] == 'Joe Biden']['id'][0]\n",
        "print(f'obama_id is {obama_id}')\n",
        "print(f'biden_id is {biden_id}')\n",
        "similariy = compare_bits(model, obama_id, biden_id)"
      ],
      "metadata": {
        "colab": {
          "base_uri": "https://localhost:8080/"
        },
        "id": "9N6l56n7d_ip",
        "outputId": "3ff6de4a-1644-4e1c-fc90-d15f89ace6eb"
      },
      "execution_count": 24,
      "outputs": [
        {
          "output_type": "stream",
          "name": "stdout",
          "text": [
            "obama_id is 35817\n",
            "biden_id is 24478\n",
            "Number of agreed bits:  15\n"
          ]
        }
      ]
    },
    {
      "cell_type": "code",
      "source": [
        "model['table']"
      ],
      "metadata": {
        "id": "1wChhxB9eKSq"
      },
      "execution_count": null,
      "outputs": []
    },
    {
      "cell_type": "markdown",
      "source": [
        "## Inspect bins\n",
        "After generating our LSH model, let's examine the generated bins to get a deeper understanding of them. Here, we will look at these similar products' bins to see if the result matches intuition. Remember the idea behind LSH is that similar data points will tend to fall into nearby bins."
      ],
      "metadata": {
        "id": "fo0gT1DMe85u"
      }
    },
    {
      "cell_type": "code",
      "source": [
        "# This function will help us get similar items, given the id\n",
        "# this is brute force search \n",
        "def get_similarity_items(X_tfidf, item_id, topn=5, verbose=True):\n",
        "    \"\"\"\n",
        "    Get the top similar items for a given item id.\n",
        "    The similarity measure here is based on cosine distance.\n",
        "    \"\"\"\n",
        "    query = X_tfidf[item_id]\n",
        "    scores = pairwise_distances(X_tfidf, query, metric='cosine').flatten()\n",
        "    best = np.argpartition(scores, topn)[:topn]\n",
        "    similar_items = sorted(zip(best, scores[best]), key=lambda x: x[1])\n",
        "    similar_item_ids = [similar_item for similar_item, _ in similar_items]\n",
        "    if verbose:\n",
        "      print(\"Similar items to id: {}\".format(item_id))\n",
        "      for _id in similar_item_ids:\n",
        "          print(wiki[_id]['name'])\n",
        "      print('\\n')\n",
        "\n",
        "    return similar_item_ids"
      ],
      "metadata": {
        "id": "d16V3blefLP8"
      },
      "execution_count": 119,
      "outputs": []
    },
    {
      "cell_type": "markdown",
      "source": [
        "Let us look at some documents and see which bins they fall into."
      ],
      "metadata": {
        "id": "Zr9kevt-fVze"
      }
    },
    {
      "cell_type": "code",
      "source": [
        "similar_item_ids = get_similarity_items(corpus, obama_id, topn=5)\n",
        "print(similar_item_ids)"
      ],
      "metadata": {
        "colab": {
          "base_uri": "https://localhost:8080/"
        },
        "id": "Fl8nmaZffrqt",
        "outputId": "526792db-cfe3-4e70-b8ab-2e9760bed5d8"
      },
      "execution_count": 102,
      "outputs": [
        {
          "output_type": "stream",
          "name": "stdout",
          "text": [
            "Similar items to id: 35817\n",
            "Barack Obama\n",
            "Joe Biden\n",
            "Samantha Power\n",
            "Hillary Rodham Clinton\n",
            "Eric Stern (politician)\n",
            "\n",
            "\n",
            "[35817, 24478, 38376, 57108, 38714]\n"
          ]
        }
      ]
    },
    {
      "cell_type": "code",
      "source": [
        "for i in similar_item_ids:\n",
        "  name = {wiki[i]['name']}\n",
        "  print('Barack Obama and', name)\n",
        "  similariy = compare_bits(model, obama_id, i)\n",
        "  print('\\n')\n"
      ],
      "metadata": {
        "colab": {
          "base_uri": "https://localhost:8080/"
        },
        "id": "7daqzB4uhEIb",
        "outputId": "492247c9-e46d-4ef8-81de-4d2d77c604b2"
      },
      "execution_count": 103,
      "outputs": [
        {
          "output_type": "stream",
          "name": "stdout",
          "text": [
            "Barack Obama and {'Barack Obama'}\n",
            "Number of agreed bits:  16\n",
            "\n",
            "\n",
            "Barack Obama and {'Joe Biden'}\n",
            "Number of agreed bits:  15\n",
            "\n",
            "\n",
            "Barack Obama and {'Samantha Power'}\n",
            "Number of agreed bits:  13\n",
            "\n",
            "\n",
            "Barack Obama and {'Hillary Rodham Clinton'}\n",
            "Number of agreed bits:  10\n",
            "\n",
            "\n",
            "Barack Obama and {'Eric Stern (politician)'}\n",
            "Number of agreed bits:  11\n",
            "\n",
            "\n"
          ]
        }
      ]
    },
    {
      "cell_type": "markdown",
      "source": [
        "Compare the result with a former British diplomat"
      ],
      "metadata": {
        "id": "kEFk1U8vjrh8"
      }
    },
    {
      "cell_type": "code",
      "source": [
        "jones_id = wiki[wiki['name']=='Wynn Normington Hugh-Jones']['id'][0]\n",
        "compare_bits(model, obama_id, jones_id)"
      ],
      "metadata": {
        "colab": {
          "base_uri": "https://localhost:8080/"
        },
        "id": "GPwWdcPAiM5t",
        "outputId": "f210e467-7243-4ec8-eb22-39b2086f8216"
      },
      "execution_count": 35,
      "outputs": [
        {
          "output_type": "stream",
          "name": "stdout",
          "text": [
            "Number of agreed bits:  8\n"
          ]
        },
        {
          "output_type": "execute_result",
          "data": {
            "text/plain": [
              "8"
            ]
          },
          "metadata": {},
          "execution_count": 35
        }
      ]
    },
    {
      "cell_type": "code",
      "source": [
        "model['table'][model['bin_indices'][obama_id]]"
      ],
      "metadata": {
        "colab": {
          "base_uri": "https://localhost:8080/"
        },
        "id": "WO5pjyQFiVtR",
        "outputId": "e0133411-5456-494b-8878-e66427a3d195"
      },
      "execution_count": 36,
      "outputs": [
        {
          "output_type": "execute_result",
          "data": {
            "text/plain": [
              "[35817, 54743]"
            ]
          },
          "metadata": {},
          "execution_count": 36
        }
      ]
    },
    {
      "cell_type": "markdown",
      "source": [
        "How about the documents in the same bin as Barack Obama? Are they necessarily more similar to Obama than Biden? Let's look at which documents are in the same bin as the Barack Obama article."
      ],
      "metadata": {
        "id": "BeRW129WoVUD"
      }
    },
    {
      "cell_type": "code",
      "source": [
        "wiki[54743]['text']"
      ],
      "metadata": {
        "colab": {
          "base_uri": "https://localhost:8080/",
          "height": 226
        },
        "id": "5TR41E9qimgA",
        "outputId": "2bbe71d2-7d62-4ef5-9dce-b29454eaa995"
      },
      "execution_count": 40,
      "outputs": [
        {
          "output_type": "execute_result",
          "data": {
            "application/vnd.google.colaboratory.intrinsic+json": {
              "type": "string"
            },
            "text/plain": [
              "'radovan erjav born 2 december 1968 is a slovenian conservative politician between 2007 and 2008 he served as minister of transport during the second term under janez jana he in 2012 served as minister of economic development and technology which he left since jana was ignoring the 20122013 investigation report on the parliamentary parties leaders by commission for the prevention of corruption of the republic of slovenia since 2009 he has been the chairman of the slovenian peoples party and a deputy in the national assemblyerjav was born in maribor slovenia then part of the socialist federal republic of yugoslavia he spent his childhood in the prekmurje region of eastern slovenia he attended a bilingual slovenehungarian primary school in lendava and high school in murska sobota in 1988 he enrolled to the university of maribor graduating from chemical engineering in 1993 in 1996 he continued his studies and in 2003 he received his masters degree in chemical engineeringafter having finished his studies he took up the job at the oil company nafta lendava in 1999 he became the head of development in the company and as of 2004 he became assistant director of nafta lendava for the technical sector in 2007 he was appointed director of nafta biodizel established with the purpose to set up the biodiesel production within the group of nafta lendavain september 2007 he was appointed minister of transport in the centerright government of janez jana in the parliamentary election of 2008 he was elected to the slovenian national assembly in march 2009 he was elected chairman of the slovenian peoples partybesides slovene he is fluent in german english and serbocroatian and also has a basic knowledge of hungarian'"
            ]
          },
          "metadata": {},
          "execution_count": 40
        }
      ]
    },
    {
      "cell_type": "code",
      "source": [
        "compare_bits(model, obama_id, 54743)"
      ],
      "metadata": {
        "colab": {
          "base_uri": "https://localhost:8080/"
        },
        "id": "iS12zlAxi5x6",
        "outputId": "f5c41973-0860-450e-837e-345725672c3a"
      },
      "execution_count": 38,
      "outputs": [
        {
          "output_type": "stream",
          "name": "stdout",
          "text": [
            "Number of agreed bits:  16\n"
          ]
        },
        {
          "output_type": "execute_result",
          "data": {
            "text/plain": [
              "16"
            ]
          },
          "metadata": {},
          "execution_count": 38
        }
      ]
    },
    {
      "cell_type": "markdown",
      "source": [
        "**In summary**, similar data points will in general _tend to_ fall into _nearby_ bins, but that's all we can say about LSH. In a high-dimensional space such as text features, we often get unlucky with our selection of only a few random vectors such that dissimilar data points go into the same bin while similar data points fall into different bins. **Given a query document, we must consider all documents in the nearby bins and sort them according to their actual distances from the query.**"
      ],
      "metadata": {
        "id": "_N44kfYykNdn"
      }
    },
    {
      "cell_type": "markdown",
      "source": [
        "## Query the LSH model\n",
        "\n",
        "-  Let $L$ be the bit representation of the bin that contains the query documents.\n",
        "- Consider all documents in bin $L$.\n",
        "- Consider documents in the bins whose bit representation differs from $L$ by 1 bit.\n",
        "- Consider documents in the bins whose bit representation differs from $L$ by 2 bits.\n",
        "\n",
        "\n",
        "To obtain candidate bins that differ from the query bin by some number of bits, we use `itertools.combinations`, which produces all possible subsets of a given list. See [this documentation](https://docs.python.org/3/library/itertools.html#itertools.combinations) for details.\n",
        "\n",
        "1. Decide on the search radius r. This will determine the number of different bits between the two vectors.\n",
        "2. For each subset (n_1, n_2, ..., n_r) of the list [0, 1, 2, ..., num_vector-1], do the following:\n",
        "   * Flip the bits (n_1, n_2, ..., n_r) of the query bin to produce a new bit vector.\n",
        "   * Fetch the list of documents belonging to the bin indexed by the new bit vector.\n",
        "   * Add those documents to the candidate set."
      ],
      "metadata": {
        "id": "EUWyls4cnhxF"
      }
    },
    {
      "cell_type": "code",
      "source": [
        "from itertools import combinations\n",
        "num_vector = 16\n",
        "search_radius = 2\n",
        "\n",
        "for diff in combinations(range(num_vector), search_radius):\n",
        "    print(diff)"
      ],
      "metadata": {
        "id": "I9XFik_ypW4Z"
      },
      "execution_count": null,
      "outputs": []
    },
    {
      "cell_type": "code",
      "source": [
        "def search_nearby_bins(query_bin_bits, table, search_radius=2, initial_candidates=set()):\n",
        "    \"\"\"\n",
        "    For a given query vector and trained LSH model, return all candidate neighbors for\n",
        "    the query among all bins within the given search radius.\n",
        "    \n",
        "    Example usage\n",
        "    -------------\n",
        "    >>> model = train_lsh(corpus, num_vector=16, seed=143)\n",
        "    >>> q = model['bin_index_bits'][0]  # vector for the first document\n",
        "  \n",
        "    >>> candidates = search_nearby_bins(q, model['table'])\n",
        "    \"\"\"\n",
        "    num_vector = len(query_bin_bits)\n",
        "    powers_of_two = 1 << np.arange(num_vector-1, -1, -1)\n",
        "    \n",
        "    # Allow the user to provide an initial set of candidates.\n",
        "    candidate_set = copy(initial_candidates)\n",
        "    \n",
        "    for different_bits in combinations(range(num_vector), search_radius):       \n",
        "        # Flip the bits (n_1,n_2,...,n_r) of the query bin to produce a new bit vector.\n",
        "        ## Hint: you can iterate over a tuple like a list\n",
        "        alternate_bits = copy(query_bin_bits)\n",
        "        for i in different_bits:\n",
        "            alternate_bits[i] = not alternate_bits[i]\n",
        "        \n",
        "        # Convert the new bit vector to an integer index\n",
        "        nearby_bin = alternate_bits.dot(powers_of_two)\n",
        "        \n",
        "        # Fetch the list of documents belonging to the bin indexed by the new bit vector.\n",
        "        # Then add those documents to candidate_set\n",
        "        # Make sure that the bin exists in the table!\n",
        "        if nearby_bin in table:\n",
        "            more_docs = table[nearby_bin] # Get all document_ids of the bin\n",
        "            candidate_set.update(more_docs) # Update candidate_set with the documents in this bin.\n",
        "            \n",
        "    return candidate_set"
      ],
      "metadata": {
        "id": "wJp15uKussDh"
      },
      "execution_count": 46,
      "outputs": []
    },
    {
      "cell_type": "code",
      "source": [
        "obama_bin_index = model['bin_indices_bits'][obama_id] # bin index of Barack Obama\n",
        "candidate_set = search_nearby_bins(obama_bin_index, model['table'], search_radius=0)\n",
        "print('List of documents in the same bin as Obama: {}'.format(candidate_set))"
      ],
      "metadata": {
        "colab": {
          "base_uri": "https://localhost:8080/"
        },
        "id": "tEMj3rAouJGO",
        "outputId": "69bb9125-b2d5-4455-9e05-ef124a24ca12"
      },
      "execution_count": 50,
      "outputs": [
        {
          "output_type": "stream",
          "name": "stdout",
          "text": [
            "List of documents in the same bin as Obama: {35817, 54743}\n"
          ]
        }
      ]
    },
    {
      "cell_type": "code",
      "source": [
        "candidate_set = search_nearby_bins(obama_bin_index, model['table'], search_radius=1, initial_candidates=candidate_set)\n",
        "print('List of documents in the one bit off from Obama: {}'.format(candidate_set))"
      ],
      "metadata": {
        "colab": {
          "base_uri": "https://localhost:8080/"
        },
        "id": "R02PE_igup5N",
        "outputId": "0f77a612-f05b-49ac-eba2-8aa508dd1289"
      },
      "execution_count": 51,
      "outputs": [
        {
          "output_type": "stream",
          "name": "stdout",
          "text": [
            "List of documents in the one bit off from Obama: {42243, 28804, 1810, 48919, 24478, 31010, 7331, 23716, 51108, 48040, 36266, 33200, 25023, 23617, 54743, 34910, 35817, 34159, 14451, 23926, 39032, 12028, 43775}\n"
          ]
        }
      ]
    },
    {
      "cell_type": "markdown",
      "source": [
        "Now we have a function that can return all the candidates from neighboring bins. Next we write a function to collect all candidates and compute their true distance to the query."
      ],
      "metadata": {
        "id": "agNBuz5HvR3t"
      }
    },
    {
      "cell_type": "code",
      "source": [
        "def query(vec, model, k, max_search_radius):\n",
        "  \n",
        "    data = model['data']\n",
        "    table = model['table']\n",
        "    random_vectors = model['random_vectors']\n",
        "    num_vector = random_vectors.shape[1]\n",
        "    \n",
        "    \n",
        "    # Compute bin index for the query vector, in bit representation.\n",
        "    bin_index_bits = (vec.dot(random_vectors) >= 0).flatten()\n",
        "    \n",
        "    # Search nearby bins and collect candidates\n",
        "    candidate_set = set()\n",
        "    for search_radius in range(max_search_radius+1):\n",
        "        candidate_set = search_nearby_bins(bin_index_bits, table, search_radius, initial_candidates=candidate_set)\n",
        "    \n",
        "    # Sort candidates by their true distances from the query\n",
        "    nearest_neighbors = turicreate.SFrame({'id':candidate_set})\n",
        "    candidates = data[np.array(list(candidate_set)),:]\n",
        "    nearest_neighbors['distance'] = pairwise_distances(candidates, vec, metric='cosine').flatten()\n",
        "    \n",
        "    return nearest_neighbors.topk('distance', k, reverse=True), len(candidate_set)"
      ],
      "metadata": {
        "id": "1YupZtEIvOBB"
      },
      "execution_count": 105,
      "outputs": []
    },
    {
      "cell_type": "markdown",
      "source": [
        "Let's try it out with Obama:"
      ],
      "metadata": {
        "id": "at-OECsdwUwg"
      }
    },
    {
      "cell_type": "code",
      "source": [
        "query(corpus[obama_id,:], model, k=5, max_search_radius=3)"
      ],
      "metadata": {
        "colab": {
          "base_uri": "https://localhost:8080/"
        },
        "id": "L10NM_TKvZIq",
        "outputId": "e9820399-9f14-4d23-efeb-59410a686535"
      },
      "execution_count": 106,
      "outputs": [
        {
          "output_type": "execute_result",
          "data": {
            "text/plain": [
              "(Columns:\n",
              " \tid\tint\n",
              " \tdistance\tfloat\n",
              " \n",
              " Rows: 5\n",
              " \n",
              " Data:\n",
              " +-------+------------------------+\n",
              " |   id  |        distance        |\n",
              " +-------+------------------------+\n",
              " | 35817 | 1.1102230246251565e-16 |\n",
              " | 24478 |   0.703138676733575    |\n",
              " | 38376 |   0.7429819023278823   |\n",
              " |  4032 |   0.8145547486714284   |\n",
              " | 43155 |   0.8408390074837325   |\n",
              " +-------+------------------------+\n",
              " [5 rows x 2 columns], 771)"
            ]
          },
          "metadata": {},
          "execution_count": 106
        }
      ]
    },
    {
      "cell_type": "markdown",
      "source": [
        "To identify the documents, it's helpful to join this table with the Wikipedia table:"
      ],
      "metadata": {
        "id": "tlCkIEUxwViE"
      }
    },
    {
      "cell_type": "code",
      "source": [
        "query(corpus[obama_id,:], model, k=5, max_search_radius=3)[0].join(wiki[['id', 'name']], on='id').sort('distance')"
      ],
      "metadata": {
        "colab": {
          "base_uri": "https://localhost:8080/",
          "height": 153
        },
        "id": "tqlyT-C_vsIE",
        "outputId": "7d3178bb-5a23-4f7e-efe5-c4dbb3665bcd"
      },
      "execution_count": 107,
      "outputs": [
        {
          "output_type": "execute_result",
          "data": {
            "text/html": [
              "<div style=\"max-height:1000px;max-width:1500px;overflow:auto;\"><table frame=\"box\" rules=\"cols\">\n",
              "    <tr>\n",
              "        <th style=\"padding-left: 1em; padding-right: 1em; text-align: center\">id</th>\n",
              "        <th style=\"padding-left: 1em; padding-right: 1em; text-align: center\">distance</th>\n",
              "        <th style=\"padding-left: 1em; padding-right: 1em; text-align: center\">name</th>\n",
              "    </tr>\n",
              "    <tr>\n",
              "        <td style=\"padding-left: 1em; padding-right: 1em; text-align: center; vertical-align: top\">35817</td>\n",
              "        <td style=\"padding-left: 1em; padding-right: 1em; text-align: center; vertical-align: top\">1.1102230246251565e-16</td>\n",
              "        <td style=\"padding-left: 1em; padding-right: 1em; text-align: center; vertical-align: top\">Barack Obama</td>\n",
              "    </tr>\n",
              "    <tr>\n",
              "        <td style=\"padding-left: 1em; padding-right: 1em; text-align: center; vertical-align: top\">24478</td>\n",
              "        <td style=\"padding-left: 1em; padding-right: 1em; text-align: center; vertical-align: top\">0.703138676733575</td>\n",
              "        <td style=\"padding-left: 1em; padding-right: 1em; text-align: center; vertical-align: top\">Joe Biden</td>\n",
              "    </tr>\n",
              "    <tr>\n",
              "        <td style=\"padding-left: 1em; padding-right: 1em; text-align: center; vertical-align: top\">38376</td>\n",
              "        <td style=\"padding-left: 1em; padding-right: 1em; text-align: center; vertical-align: top\">0.7429819023278823</td>\n",
              "        <td style=\"padding-left: 1em; padding-right: 1em; text-align: center; vertical-align: top\">Samantha Power</td>\n",
              "    </tr>\n",
              "    <tr>\n",
              "        <td style=\"padding-left: 1em; padding-right: 1em; text-align: center; vertical-align: top\">4032</td>\n",
              "        <td style=\"padding-left: 1em; padding-right: 1em; text-align: center; vertical-align: top\">0.8145547486714284</td>\n",
              "        <td style=\"padding-left: 1em; padding-right: 1em; text-align: center; vertical-align: top\">Kenneth D. Thompson</td>\n",
              "    </tr>\n",
              "    <tr>\n",
              "        <td style=\"padding-left: 1em; padding-right: 1em; text-align: center; vertical-align: top\">43155</td>\n",
              "        <td style=\"padding-left: 1em; padding-right: 1em; text-align: center; vertical-align: top\">0.8408390074837325</td>\n",
              "        <td style=\"padding-left: 1em; padding-right: 1em; text-align: center; vertical-align: top\">Goodwin Liu</td>\n",
              "    </tr>\n",
              "</table>\n",
              "[5 rows x 3 columns]<br/>\n",
              "</div>"
            ],
            "text/plain": [
              "Columns:\n",
              "\tid\tint\n",
              "\tdistance\tfloat\n",
              "\tname\tstr\n",
              "\n",
              "Rows: 5\n",
              "\n",
              "Data:\n",
              "+-------+------------------------+---------------------+\n",
              "|   id  |        distance        |         name        |\n",
              "+-------+------------------------+---------------------+\n",
              "| 35817 | 1.1102230246251565e-16 |     Barack Obama    |\n",
              "| 24478 |   0.703138676733575    |      Joe Biden      |\n",
              "| 38376 |   0.7429819023278823   |    Samantha Power   |\n",
              "|  4032 |   0.8145547486714284   | Kenneth D. Thompson |\n",
              "| 43155 |   0.8408390074837325   |     Goodwin Liu     |\n",
              "+-------+------------------------+---------------------+\n",
              "[5 rows x 3 columns]"
            ]
          },
          "metadata": {},
          "execution_count": 107
        }
      ]
    },
    {
      "cell_type": "code",
      "source": [
        "wiki[wiki['name']=='Barack Obama']"
      ],
      "metadata": {
        "colab": {
          "base_uri": "https://localhost:8080/",
          "height": 127
        },
        "id": "NM-dDnJ4w4OX",
        "outputId": "bbc2780b-51fd-4ba7-f458-c1f10564bd02"
      },
      "execution_count": 56,
      "outputs": [
        {
          "output_type": "execute_result",
          "data": {
            "text/html": [
              "<div style=\"max-height:1000px;max-width:1500px;overflow:auto;\"><table frame=\"box\" rules=\"cols\">\n",
              "    <tr>\n",
              "        <th style=\"padding-left: 1em; padding-right: 1em; text-align: center\">id</th>\n",
              "        <th style=\"padding-left: 1em; padding-right: 1em; text-align: center\">URI</th>\n",
              "        <th style=\"padding-left: 1em; padding-right: 1em; text-align: center\">name</th>\n",
              "        <th style=\"padding-left: 1em; padding-right: 1em; text-align: center\">text</th>\n",
              "        <th style=\"padding-left: 1em; padding-right: 1em; text-align: center\">tf_idf</th>\n",
              "    </tr>\n",
              "    <tr>\n",
              "        <td style=\"padding-left: 1em; padding-right: 1em; text-align: center; vertical-align: top\">35817</td>\n",
              "        <td style=\"padding-left: 1em; padding-right: 1em; text-align: center; vertical-align: top\">&lt;http://dbpedia.org/resou<br>rce/Barack_Obama&gt; ...</td>\n",
              "        <td style=\"padding-left: 1em; padding-right: 1em; text-align: center; vertical-align: top\">Barack Obama</td>\n",
              "        <td style=\"padding-left: 1em; padding-right: 1em; text-align: center; vertical-align: top\">barack hussein obama ii<br>brk husen bm born august ...</td>\n",
              "        <td style=\"padding-left: 1em; padding-right: 1em; text-align: center; vertical-align: top\">{&#x27;normalize&#x27;:<br>10.293348208665249, ...</td>\n",
              "    </tr>\n",
              "</table>\n",
              "[? rows x 5 columns]<br/>Note: Only the head of the SFrame is printed. This SFrame is lazily evaluated.<br/>You can use sf.materialize() to force materialization.\n",
              "</div>"
            ],
            "text/plain": [
              "Columns:\n",
              "\tid\tint\n",
              "\tURI\tstr\n",
              "\tname\tstr\n",
              "\ttext\tstr\n",
              "\ttf_idf\tdict\n",
              "\n",
              "Rows: Unknown\n",
              "\n",
              "Data:\n",
              "+-------+-------------------------------+--------------+\n",
              "|   id  |              URI              |     name     |\n",
              "+-------+-------------------------------+--------------+\n",
              "| 35817 | <http://dbpedia.org/resour... | Barack Obama |\n",
              "+-------+-------------------------------+--------------+\n",
              "+-------------------------------+-------------------------------+\n",
              "|              text             |             tf_idf            |\n",
              "+-------------------------------+-------------------------------+\n",
              "| barack hussein obama ii br... | {'normalize': 10.293348208... |\n",
              "+-------------------------------+-------------------------------+\n",
              "[? rows x 5 columns]\n",
              "Note: Only the head of the SFrame is printed. This SFrame is lazily evaluated.\n",
              "You can use sf.materialize() to force materialization."
            ]
          },
          "metadata": {},
          "execution_count": 56
        }
      ]
    },
    {
      "cell_type": "code",
      "source": [
        "%%time\n",
        "num_candidates_history = []\n",
        "query_time_history = []\n",
        "max_distance_from_query_history = []\n",
        "min_distance_from_query_history = []\n",
        "average_distance_from_query_history = []\n",
        "\n",
        "for max_search_radius in range(17):\n",
        "    start=time.time()\n",
        "    result, num_candidates = query(corpus[35817,:], model, k=5,\n",
        "                                   max_search_radius=max_search_radius)\n",
        "    end=time.time()\n",
        "    query_time = end-start\n",
        "    \n",
        "    print('Radius:', max_search_radius)\n",
        "    print(result.join(wiki[['id', 'name']], on='id').sort('distance'))\n",
        "    \n",
        "    average_distance_from_query = result['distance'][1:].mean()\n",
        "    max_distance_from_query = result['distance'][1:].max()\n",
        "    min_distance_from_query = result['distance'][1:].min()\n",
        "    \n",
        "    num_candidates_history.append(num_candidates)\n",
        "    query_time_history.append(query_time)\n",
        "    average_distance_from_query_history.append(average_distance_from_query)\n",
        "    max_distance_from_query_history.append(max_distance_from_query)\n",
        "    min_distance_from_query_history.append(min_distance_from_query)\n"
      ],
      "metadata": {
        "colab": {
          "base_uri": "https://localhost:8080/"
        },
        "id": "j0V1xNbYw7aB",
        "outputId": "df72c052-6a1a-4d50-a3ba-999a678ea1b2"
      },
      "execution_count": 109,
      "outputs": [
        {
          "output_type": "stream",
          "name": "stdout",
          "text": [
            "Radius: 0\n",
            "+-------+------------------------+---------------------+\n",
            "|   id  |        distance        |         name        |\n",
            "+-------+------------------------+---------------------+\n",
            "| 35817 | 1.1102230246251565e-16 |     Barack Obama    |\n",
            "| 54743 |    0.97334561058472    | Radovan %C5%BDerjav |\n",
            "+-------+------------------------+---------------------+\n",
            "[2 rows x 3 columns]\n",
            "\n",
            "Radius: 1\n",
            "+-------+------------------------+------------------------------+\n",
            "|   id  |        distance        |             name             |\n",
            "+-------+------------------------+------------------------------+\n",
            "| 35817 | 1.1102230246251565e-16 |         Barack Obama         |\n",
            "| 24478 |   0.703138676733575    |          Joe Biden           |\n",
            "| 34159 |   0.9430865736846581   |       Jennifer Hudson        |\n",
            "| 23926 |   0.9608039657958866   | Se%C3%A1n Power (politician) |\n",
            "| 36266 |   0.9615994281067699   |         Ralph Weber          |\n",
            "+-------+------------------------+------------------------------+\n",
            "[5 rows x 3 columns]\n",
            "\n",
            "Radius: 2\n",
            "+-------+------------------------+----------------------+\n",
            "|   id  |        distance        |         name         |\n",
            "+-------+------------------------+----------------------+\n",
            "| 35817 | 1.1102230246251565e-16 |     Barack Obama     |\n",
            "| 24478 |   0.703138676733575    |      Joe Biden       |\n",
            "|  9051 |   0.9008406076426497   |    Newt Gingrich     |\n",
            "| 46253 |   0.9158128432084635   |   Francisco Rezek    |\n",
            "|  110  |   0.9346379007684388   | Abdel Fattah el-Sisi |\n",
            "+-------+------------------------+----------------------+\n",
            "[5 rows x 3 columns]\n",
            "\n",
            "Radius: 3\n",
            "+-------+------------------------+---------------------+\n",
            "|   id  |        distance        |         name        |\n",
            "+-------+------------------------+---------------------+\n",
            "| 35817 | 1.1102230246251565e-16 |     Barack Obama    |\n",
            "| 24478 |   0.703138676733575    |      Joe Biden      |\n",
            "| 38376 |   0.7429819023278823   |    Samantha Power   |\n",
            "|  4032 |   0.8145547486714284   | Kenneth D. Thompson |\n",
            "| 43155 |   0.8408390074837325   |     Goodwin Liu     |\n",
            "+-------+------------------------+---------------------+\n",
            "[5 rows x 3 columns]\n",
            "\n",
            "Radius: 4\n",
            "+-------+------------------------+---------------------+\n",
            "|   id  |        distance        |         name        |\n",
            "+-------+------------------------+---------------------+\n",
            "| 35817 | 1.1102230246251565e-16 |     Barack Obama    |\n",
            "| 24478 |   0.703138676733575    |      Joe Biden      |\n",
            "| 38376 |   0.7429819023278823   |    Samantha Power   |\n",
            "| 23737 |   0.8101646334648858   |  John D. McCormick  |\n",
            "|  4032 |   0.8145547486714284   | Kenneth D. Thompson |\n",
            "+-------+------------------------+---------------------+\n",
            "[5 rows x 3 columns]\n",
            "\n",
            "Radius: 5\n",
            "+-------+------------------------+-------------------------+\n",
            "|   id  |        distance        |           name          |\n",
            "+-------+------------------------+-------------------------+\n",
            "| 35817 | 1.1102230246251565e-16 |       Barack Obama      |\n",
            "| 24478 |   0.703138676733575    |        Joe Biden        |\n",
            "| 38376 |   0.7429819023278823   |      Samantha Power     |\n",
            "| 38714 |   0.7705612276009974   | Eric Stern (politician) |\n",
            "| 44681 |   0.790926415366316    |  Jesse Lee (politician) |\n",
            "+-------+------------------------+-------------------------+\n",
            "[5 rows x 3 columns]\n",
            "\n",
            "Radius: 6\n",
            "+-------+------------------------+-------------------------+\n",
            "|   id  |        distance        |           name          |\n",
            "+-------+------------------------+-------------------------+\n",
            "| 35817 | 1.1102230246251565e-16 |       Barack Obama      |\n",
            "| 24478 |   0.703138676733575    |        Joe Biden        |\n",
            "| 38376 |   0.7429819023278823   |      Samantha Power     |\n",
            "| 57108 |   0.7583583978869675   |  Hillary Rodham Clinton |\n",
            "| 38714 |   0.7705612276009974   | Eric Stern (politician) |\n",
            "+-------+------------------------+-------------------------+\n",
            "[5 rows x 3 columns]\n",
            "\n",
            "Radius: 7\n",
            "+-------+------------------------+-------------------------+\n",
            "|   id  |        distance        |           name          |\n",
            "+-------+------------------------+-------------------------+\n",
            "| 35817 | 1.1102230246251565e-16 |       Barack Obama      |\n",
            "| 24478 |   0.703138676733575    |        Joe Biden        |\n",
            "| 38376 |   0.7429819023278823   |      Samantha Power     |\n",
            "| 57108 |   0.7583583978869675   |  Hillary Rodham Clinton |\n",
            "| 38714 |   0.7705612276009974   | Eric Stern (politician) |\n",
            "+-------+------------------------+-------------------------+\n",
            "[5 rows x 3 columns]\n",
            "\n",
            "Radius: 8\n",
            "+-------+------------------------+-------------------------+\n",
            "|   id  |        distance        |           name          |\n",
            "+-------+------------------------+-------------------------+\n",
            "| 35817 | 1.1102230246251565e-16 |       Barack Obama      |\n",
            "| 24478 |   0.703138676733575    |        Joe Biden        |\n",
            "| 38376 |   0.7429819023278823   |      Samantha Power     |\n",
            "| 57108 |   0.7583583978869675   |  Hillary Rodham Clinton |\n",
            "| 38714 |   0.7705612276009974   | Eric Stern (politician) |\n",
            "+-------+------------------------+-------------------------+\n",
            "[5 rows x 3 columns]\n",
            "\n",
            "Radius: 9\n",
            "+-------+------------------------+-------------------------+\n",
            "|   id  |        distance        |           name          |\n",
            "+-------+------------------------+-------------------------+\n",
            "| 35817 | 1.1102230246251565e-16 |       Barack Obama      |\n",
            "| 24478 |   0.703138676733575    |        Joe Biden        |\n",
            "| 38376 |   0.7429819023278823   |      Samantha Power     |\n",
            "| 57108 |   0.7583583978869675   |  Hillary Rodham Clinton |\n",
            "| 38714 |   0.7705612276009974   | Eric Stern (politician) |\n",
            "+-------+------------------------+-------------------------+\n",
            "[5 rows x 3 columns]\n",
            "\n",
            "Radius: 10\n",
            "+-------+------------------------+-------------------------+\n",
            "|   id  |        distance        |           name          |\n",
            "+-------+------------------------+-------------------------+\n",
            "| 35817 | 1.1102230246251565e-16 |       Barack Obama      |\n",
            "| 24478 |   0.703138676733575    |        Joe Biden        |\n",
            "| 38376 |   0.7429819023278823   |      Samantha Power     |\n",
            "| 57108 |   0.7583583978869675   |  Hillary Rodham Clinton |\n",
            "| 38714 |   0.7705612276009974   | Eric Stern (politician) |\n",
            "+-------+------------------------+-------------------------+\n",
            "[5 rows x 3 columns]\n",
            "\n",
            "Radius: 11\n",
            "+-------+------------------------+-------------------------+\n",
            "|   id  |        distance        |           name          |\n",
            "+-------+------------------------+-------------------------+\n",
            "| 35817 | 1.1102230246251565e-16 |       Barack Obama      |\n",
            "| 24478 |   0.703138676733575    |        Joe Biden        |\n",
            "| 38376 |   0.7429819023278823   |      Samantha Power     |\n",
            "| 57108 |   0.7583583978869675   |  Hillary Rodham Clinton |\n",
            "| 38714 |   0.7705612276009974   | Eric Stern (politician) |\n",
            "+-------+------------------------+-------------------------+\n",
            "[5 rows x 3 columns]\n",
            "\n",
            "Radius: 12\n",
            "+-------+------------------------+-------------------------+\n",
            "|   id  |        distance        |           name          |\n",
            "+-------+------------------------+-------------------------+\n",
            "| 35817 | 1.1102230246251565e-16 |       Barack Obama      |\n",
            "| 24478 |   0.703138676733575    |        Joe Biden        |\n",
            "| 38376 |   0.7429819023278823   |      Samantha Power     |\n",
            "| 57108 |   0.7583583978869675   |  Hillary Rodham Clinton |\n",
            "| 38714 |   0.7705612276009974   | Eric Stern (politician) |\n",
            "+-------+------------------------+-------------------------+\n",
            "[5 rows x 3 columns]\n",
            "\n",
            "Radius: 13\n",
            "+-------+------------------------+-------------------------+\n",
            "|   id  |        distance        |           name          |\n",
            "+-------+------------------------+-------------------------+\n",
            "| 35817 | 1.1102230246251565e-16 |       Barack Obama      |\n",
            "| 24478 |   0.703138676733575    |        Joe Biden        |\n",
            "| 38376 |   0.7429819023278823   |      Samantha Power     |\n",
            "| 57108 |   0.7583583978869675   |  Hillary Rodham Clinton |\n",
            "| 38714 |   0.7705612276009974   | Eric Stern (politician) |\n",
            "+-------+------------------------+-------------------------+\n",
            "[5 rows x 3 columns]\n",
            "\n",
            "Radius: 14\n",
            "+-------+------------------------+-------------------------+\n",
            "|   id  |        distance        |           name          |\n",
            "+-------+------------------------+-------------------------+\n",
            "| 35817 | 1.1102230246251565e-16 |       Barack Obama      |\n",
            "| 24478 |   0.703138676733575    |        Joe Biden        |\n",
            "| 38376 |   0.7429819023278823   |      Samantha Power     |\n",
            "| 57108 |   0.7583583978869675   |  Hillary Rodham Clinton |\n",
            "| 38714 |   0.7705612276009974   | Eric Stern (politician) |\n",
            "+-------+------------------------+-------------------------+\n",
            "[5 rows x 3 columns]\n",
            "\n",
            "Radius: 15\n",
            "+-------+------------------------+-------------------------+\n",
            "|   id  |        distance        |           name          |\n",
            "+-------+------------------------+-------------------------+\n",
            "| 35817 | 1.1102230246251565e-16 |       Barack Obama      |\n",
            "| 24478 |   0.703138676733575    |        Joe Biden        |\n",
            "| 38376 |   0.7429819023278823   |      Samantha Power     |\n",
            "| 57108 |   0.7583583978869675   |  Hillary Rodham Clinton |\n",
            "| 38714 |   0.7705612276009974   | Eric Stern (politician) |\n",
            "+-------+------------------------+-------------------------+\n",
            "[5 rows x 3 columns]\n",
            "\n",
            "Radius: 16\n",
            "+-------+------------------------+-------------------------+\n",
            "|   id  |        distance        |           name          |\n",
            "+-------+------------------------+-------------------------+\n",
            "| 35817 | 1.1102230246251565e-16 |       Barack Obama      |\n",
            "| 24478 |   0.703138676733575    |        Joe Biden        |\n",
            "| 38376 |   0.7429819023278823   |      Samantha Power     |\n",
            "| 57108 |   0.7583583978869675   |  Hillary Rodham Clinton |\n",
            "| 38714 |   0.7705612276009974   | Eric Stern (politician) |\n",
            "+-------+------------------------+-------------------------+\n",
            "[5 rows x 3 columns]\n",
            "\n",
            "CPU times: user 6.85 s, sys: 345 ms, total: 7.2 s\n",
            "Wall time: 7.43 s\n"
          ]
        }
      ]
    },
    {
      "cell_type": "code",
      "source": [
        "plt.figure(figsize=(7,4.5))\n",
        "plt.plot(num_candidates_history, linewidth=4)\n",
        "plt.xticks(np.arange(17))\n",
        "plt.xlabel('Search radius')\n",
        "plt.ylabel('# of documents searched')\n",
        "plt.rcParams.update({'font.size':16})\n",
        "plt.tight_layout()\n",
        "\n",
        "plt.figure(figsize=(7,4.5))\n",
        "plt.plot(query_time_history, linewidth=4)\n",
        "plt.xticks(np.arange(17))\n",
        "plt.xlabel('Search radius')\n",
        "plt.ylabel('Query time (seconds)')\n",
        "plt.rcParams.update({'font.size':16})\n",
        "plt.tight_layout()\n",
        "\n",
        "plt.figure(figsize=(7,4.5))\n",
        "plt.plot(average_distance_from_query_history, linewidth=4, label='Average of 5 neighbors')\n",
        "plt.plot(max_distance_from_query_history, linewidth=4, label='Farthest of 5 neighbors')\n",
        "plt.plot(min_distance_from_query_history, linewidth=4, label='Closest of 5 neighbors')\n",
        "plt.xticks(np.arange(17))\n",
        "plt.xlabel('Search radius')\n",
        "plt.ylabel('Cosine distance of neighbors')\n",
        "plt.legend(loc='best', prop={'size':15})\n",
        "plt.rcParams.update({'font.size':16})\n",
        "plt.tight_layout()"
      ],
      "metadata": {
        "colab": {
          "base_uri": "https://localhost:8080/",
          "height": 926
        },
        "id": "ka9hTbM8w9kR",
        "outputId": "b7373ea5-0068-4905-fc25-4b0f694dff80"
      },
      "execution_count": 115,
      "outputs": [
        {
          "output_type": "display_data",
          "data": {
            "image/png": "[encoded data removed]",
            "text/plain": [
              "<Figure size 504x324 with 1 Axes>"
            ]
          },
          "metadata": {
            "needs_background": "light"
          }
        },
        {
          "output_type": "display_data",
          "data": {
            "image/png": "[encoded data removed]",
            "text/plain": [
              "<Figure size 504x324 with 1 Axes>"
            ]
          },
          "metadata": {
            "needs_background": "light"
          }
        },
        {
          "output_type": "display_data",
          "data": {
            "image/png": "[encoded data removed]",
            "text/plain": [
              "<Figure size 504x324 with 1 Axes>"
            ]
          },
          "metadata": {
            "needs_background": "light"
          }
        }
      ]
    },
    {
      "cell_type": "markdown",
      "source": [
        "## Quality metric for neighbors\n",
        "The above analysis is limited by the fact that it was run with a single query, namely Barack Obama. We should repeat the analysis for the entirety of data. Iterating over all documents would take a long time, so let us randomly choose 10 documents for our analysis.\n",
        "\n",
        "For each document, we first compute the true 25 nearest neighbors, and then run LSH multiple times. We look at two metrics:\n",
        "\n",
        "Precision@10: How many of the 10 neighbors given by LSH are among the true 25 nearest neighbors?\n",
        "Average cosine distance of the neighbors from the query\n",
        "Then we run LSH multiple times with different search radii."
      ],
      "metadata": {
        "id": "n87l5IqaCNgV"
      }
    },
    {
      "cell_type": "code",
      "source": [
        "%%time\n",
        "max_radius = 17\n",
        "precision = {i:[] for i in range(max_radius)}\n",
        "average_distance  = {i:[] for i in range(max_radius)}\n",
        "query_time  = {i:[] for i in range(max_radius)}\n",
        "\n",
        "num_queries = 10\n",
        "for i, ix in enumerate(np.random.choice(corpus.shape[0], num_queries, replace=False)):\n",
        "    print('%s / %s' % (i, num_queries))\n",
        "    ground_truth = set(get_similarity_items(corpus, ix, topn=25, verbose=False))\n",
        "    # set(brute_force_query(corpus[ix,:], corpus, k=25)['id'])\n",
        "    # Get the set of 25 true nearest neighbors\n",
        "    \n",
        "    for r in range(1,max_radius):\n",
        "        start = time.time()\n",
        "        result, num_candidates = query(corpus[ix,:], model, k=10, max_search_radius=r)\n",
        "        end = time.time()\n",
        "\n",
        "        query_time[r].append(end-start)\n",
        "        # precision = (# of neighbors both in result and ground_truth)/10.0\n",
        "        precision[r].append(len(set(result['id']) & ground_truth)/10.0)\n",
        "        average_distance[r].append(result['distance'][1:].mean())"
      ],
      "metadata": {
        "colab": {
          "base_uri": "https://localhost:8080/"
        },
        "id": "xG_af9WlBRPp",
        "outputId": "15b8bb82-d425-4ec1-b750-1878714f8527"
      },
      "execution_count": 120,
      "outputs": [
        {
          "output_type": "stream",
          "name": "stdout",
          "text": [
            "0 / 10\n",
            "1 / 10\n",
            "2 / 10\n",
            "3 / 10\n",
            "4 / 10\n",
            "5 / 10\n",
            "6 / 10\n",
            "7 / 10\n",
            "8 / 10\n",
            "9 / 10\n",
            "CPU times: user 57.6 s, sys: 811 ms, total: 58.4 s\n",
            "Wall time: 58.4 s\n"
          ]
        }
      ]
    },
    {
      "cell_type": "code",
      "source": [
        "plt.figure(figsize=(7,4.5))\n",
        "plt.plot(range(1,17), [np.mean(average_distance[i]) for i in range(1,17)], linewidth=4, label='Average over 10 neighbors')\n",
        "plt.xlabel('Search radius')\n",
        "plt.ylabel('Cosine distance')\n",
        "plt.xticks(np.arange(17))\n",
        "plt.legend(loc='best', prop={'size':15})\n",
        "plt.rcParams.update({'font.size':16})\n",
        "plt.tight_layout()\n",
        "\n",
        "plt.figure(figsize=(7,4.5))\n",
        "plt.plot(range(1,17), [np.mean(precision[i]) for i in range(1,17)], linewidth=4, label='Precison@10')\n",
        "plt.xticks(np.arange(17))\n",
        "plt.xlabel('Search radius')\n",
        "plt.ylabel('Precision')\n",
        "plt.legend(loc='best', prop={'size':15})\n",
        "plt.rcParams.update({'font.size':16})\n",
        "plt.tight_layout()\n",
        "\n",
        "plt.figure(figsize=(7,4.5))\n",
        "plt.plot(range(1,17), [np.mean(query_time[i]) for i in range(1,17)], linewidth=4, label='Query time')\n",
        "plt.xticks(np.arange(17))\n",
        "plt.xlabel('Search radius')\n",
        "plt.ylabel('Query time (seconds)')\n",
        "plt.legend(loc='best', prop={'size':15})\n",
        "plt.rcParams.update({'font.size':16})\n",
        "plt.tight_layout()"
      ],
      "metadata": {
        "colab": {
          "base_uri": "https://localhost:8080/",
          "height": 926
        },
        "id": "x4VocNV8B-Th",
        "outputId": "fb36a643-b147-4f60-e900-f70a9453aeb3"
      },
      "execution_count": 121,
      "outputs": [
        {
          "output_type": "display_data",
          "data": {
            "image/png": "[encoded data removed]",
            "text/plain": [
              "<Figure size 504x324 with 1 Axes>"
            ]
          },
          "metadata": {
            "needs_background": "light"
          }
        },
        {
          "output_type": "display_data",
          "data": {
            "image/png": "[encoded data removed]",
            "text/plain": [
              "<Figure size 504x324 with 1 Axes>"
            ]
          },
          "metadata": {
            "needs_background": "light"
          }
        },
        {
          "output_type": "display_data",
          "data": {
            "image/png": "[encoded data removed]",
            "text/plain": [
              "<Figure size 504x324 with 1 Axes>"
            ]
          },
          "metadata": {
            "needs_background": "light"
          }
        }
      ]
    },
    {
      "cell_type": "markdown",
      "source": [
        "## Effect of number of random vectors\n",
        "\n",
        "Let us now turn our focus to the remaining parameter: the number of random vectors. We run LSH with different number of random vectors, ranging from 5 to 20. We fix the search radius to 3.\n"
      ],
      "metadata": {
        "id": "fQGuq-7wDa0R"
      }
    },
    {
      "cell_type": "code",
      "source": [
        "precision = {i:[] for i in range(5,20)}\n",
        "average_distance  = {i:[] for i in range(5,20)}\n",
        "query_time = {i:[] for i in range(5,20)}\n",
        "num_candidates_history = {i:[] for i in range(5,20)}\n",
        "ground_truth = {}\n",
        "\n",
        "num_queries = 10\n",
        "docs = np.random.choice(corpus.shape[0], num_queries, replace=False)\n",
        "\n",
        "for i, ix in enumerate(docs):\n",
        "    ground_truth[ix] = set(get_similarity_items(corpus, ix, topn=25, verbose=False))\n",
        "    # Get the set of 25 true nearest neighbors\n",
        "\n",
        "for num_vector in range(5,20):\n",
        "    print('num_vector = %s' % (num_vector))\n",
        "    model = train_lsh(corpus, num_vector, seed=143)\n",
        "    \n",
        "    for i, ix in enumerate(docs):\n",
        "        start = time.time()\n",
        "        result, num_candidates = query(corpus[ix,:], model, k=10, max_search_radius=3)\n",
        "        end = time.time()\n",
        "        \n",
        "        query_time[num_vector].append(end-start)\n",
        "        precision[num_vector].append(len(set(result['id']) & ground_truth[ix])/10.0)\n",
        "        average_distance[num_vector].append(result['distance'][1:].mean())\n",
        "        num_candidates_history[num_vector].append(num_candidates)"
      ],
      "metadata": {
        "colab": {
          "base_uri": "https://localhost:8080/"
        },
        "id": "vxCZ0HmVDgWM",
        "outputId": "23f055e1-cdea-4190-c466-86327fced102"
      },
      "execution_count": 122,
      "outputs": [
        {
          "output_type": "stream",
          "name": "stdout",
          "text": [
            "num_vector = 5\n",
            "num_vector = 6\n",
            "num_vector = 7\n",
            "num_vector = 8\n",
            "num_vector = 9\n",
            "num_vector = 10\n",
            "num_vector = 11\n",
            "num_vector = 12\n",
            "num_vector = 13\n",
            "num_vector = 14\n",
            "num_vector = 15\n",
            "num_vector = 16\n",
            "num_vector = 17\n",
            "num_vector = 18\n",
            "num_vector = 19\n"
          ]
        }
      ]
    },
    {
      "cell_type": "code",
      "source": [
        "plt.figure(figsize=(7,4.5))\n",
        "plt.plot(range(5,20), [np.mean(average_distance[i]) for i in range(5,20)], linewidth=4, label='Average over 10 neighbors')\n",
        "plt.xlabel('# of random vectors')\n",
        "plt.ylabel('Cosine distance')\n",
        "plt.legend(loc='best', prop={'size':15})\n",
        "plt.rcParams.update({'font.size':16})\n",
        "plt.tight_layout()\n",
        "\n",
        "plt.figure(figsize=(7,4.5))\n",
        "plt.plot(range(5,20), [np.mean(precision[i]) for i in range(5,20)], linewidth=4, label='Precison@10')\n",
        "plt.xlabel('# of random vectors')\n",
        "plt.ylabel('Precision')\n",
        "plt.legend(loc='best', prop={'size':15})\n",
        "plt.rcParams.update({'font.size':16})\n",
        "plt.tight_layout()\n",
        "\n",
        "plt.figure(figsize=(7,4.5))\n",
        "plt.plot(range(5,20), [np.mean(query_time[i]) for i in range(5,20)], linewidth=4, label='Query time (seconds)')\n",
        "plt.xlabel('# of random vectors')\n",
        "plt.ylabel('Query time (seconds)')\n",
        "plt.legend(loc='best', prop={'size':15})\n",
        "plt.rcParams.update({'font.size':16})\n",
        "plt.tight_layout()\n",
        "\n",
        "plt.figure(figsize=(7,4.5))\n",
        "plt.plot(range(5,20), [np.mean(num_candidates_history[i]) for i in range(5,20)], linewidth=4,\n",
        "         label='# of documents searched')\n",
        "plt.xlabel('# of random vectors')\n",
        "plt.ylabel('# of documents searched')\n",
        "plt.legend(loc='best', prop={'size':15})\n",
        "plt.rcParams.update({'font.size':16})\n",
        "plt.tight_layout()"
      ],
      "metadata": {
        "colab": {
          "base_uri": "https://localhost:8080/",
          "height": 1000
        },
        "id": "1U74WKo5Dqbv",
        "outputId": "241d1440-6edb-45d2-ff90-00c4a51cf253"
      },
      "execution_count": 123,
      "outputs": [
        {
          "output_type": "display_data",
          "data": {
            "image/png": "[encoded data removed]",
            "text/plain": [
              "<Figure size 504x324 with 1 Axes>"
            ]
          },
          "metadata": {
            "needs_background": "light"
          }
        },
        {
          "output_type": "display_data",
          "data": {
            "image/png": "[encoded data removed]",
            "text/plain": [
              "<Figure size 504x324 with 1 Axes>"
            ]
          },
          "metadata": {
            "needs_background": "light"
          }
        },
        {
          "output_type": "display_data",
          "data": {
            "image/png": "[encoded data removed]",
            "text/plain": [
              "<Figure size 504x324 with 1 Axes>"
            ]
          },
          "metadata": {
            "needs_background": "light"
          }
        },
        {
          "output_type": "display_data",
          "data": {
            "image/png": "[encoded data removed]",
            "text/plain": [
              "<Figure size 504x324 with 1 Axes>"
            ]
          },
          "metadata": {
            "needs_background": "light"
          }
        }
      ]
    },
    {
      "cell_type": "markdown",
      "source": [
        "We see a similar trade-off between quality and performance: as the number of random vectors increases, the query time goes down as each bin contains fewer documents on average, but on average the neighbors are likewise placed farther from the query. On the other hand, when using a small enough number of random vectors, LSH becomes very similar brute-force search: Many documents appear in a single bin, so searching the query bin alone covers a lot of the corpus; then, including neighboring bins might result in searching all documents, just as in the brute-force approach."
      ],
      "metadata": {
        "id": "5Ya6Niz6EMka"
      }
    }
  ]
}