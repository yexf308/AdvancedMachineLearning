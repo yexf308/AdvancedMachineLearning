{
  "nbformat": 4,
  "nbformat_minor": 0,
  "metadata": {
    "colab": {
      "name": "Randomized SVD.ipynb",
      "provenance": [],
      "collapsed_sections": [],
      "authorship_tag": "ABX9TyPFrIl8MBCezWiVdi2fOJrB",
      "include_colab_link": true
    },
    "kernelspec": {
      "name": "python3",
      "display_name": "Python 3"
    },
    "language_info": {
      "name": "python"
    }
  },
  "cells": [
    {
      "cell_type": "markdown",
      "metadata": {
        "id": "view-in-github",
        "colab_type": "text"
      },
      "source": [
        "<a href=\"https://colab.research.google.com/github/yexf308/AdvancedMachineLearning/blob/main/Randomized_SVD.ipynb\" target=\"_parent\"><img src=\"https://colab.research.google.com/assets/colab-badge.svg\" alt=\"Open In Colab\"/></a>"
      ]
    },
    {
      "cell_type": "code",
      "execution_count": 1,
      "metadata": {
        "colab": {
          "base_uri": "https://localhost:8080/"
        },
        "id": "i27FCmptKU4J",
        "outputId": "4d26d4a1-06a7-4d9b-99f3-fba6f9acfb9e"
      },
      "outputs": [
        {
          "output_type": "stream",
          "name": "stdout",
          "text": [
            "Populating the interactive namespace from numpy and matplotlib\n"
          ]
        }
      ],
      "source": [
        "%pylab inline \n",
        "from IPython.display import Image\n",
        "import numpy.linalg as LA\n"
      ]
    },
    {
      "cell_type": "markdown",
      "source": [
        "refer to textbook \"data-driven science and engineering\""
      ],
      "metadata": {
        "id": "tp28_zTtdVav"
      }
    },
    {
      "cell_type": "markdown",
      "source": [
        "$\\def\\m#1{\\mathbf{#1}}$\n",
        "$\\def\\mb#1{\\mathbb{#1}}$\n",
        "$\\def\\c#1{\\mathcal{#1}}$\n",
        "# Randomized SVD\n",
        "Singular value decomposition is one of the cornerstones of data science. It is important to have an accurate and efficient SVD decomposition of large matrices. \n",
        "\n",
        "In many applications, these matrices usually have the low-rank structure, so we explicitly focus on extracting these dominant low-rank structure in the matrix, rather than getting the full SVD. \n",
        "\n",
        "There exists extremely efficient algorithms based on random sampling introduced by Halko, Martinsson, and Tropp. [See referece](https://epubs.siam.org/doi/10.1137/090771806?mobileUi=0). They are called **randomized singular value decomposition**. \n"
      ],
      "metadata": {
        "id": "aR3gLZYKK770"
      }
    },
    {
      "cell_type": "markdown",
      "source": [
        "We assume that we are working with tall-skinny matrices $\\m{X}\\in \\mb{R}^{N\\times d}$, so that $N>d$,\n",
        "although the theory readily generalizes to short-fat matrices. \n",
        "## Algorithm\n",
        "### Step 1:\n",
        "Identify a target rank $r< d$. We construct a random projection matrix $P\\in \\mb{R}^{d\\times r}$ to sample the column space of $\\m{X}\\in \\mb{R}^{N\\times r}$: $\\m{Z}=\\m{X}P$.\n",
        "\n",
        "The matrix $\\m{Z}$ may be much smaller than $\\m{X}$, especially for low-rank matrices with $r\\ll d$. From the last lecture, with the high probability, a random projection matrix $P$ will project the important components of $\\m{X}$ to $\\m{Z}$. In other words, $\\m{Z}$ approximates the column space of $\\m{X}$ with high probability. Thus, it is\n",
        "possible to compute the low-rank QR decomposition of $\\m{Z}$ to obtain an orthonormal basis for $\\m{X}$: $\\m{Z}= \\m{QR}$. where $\\m{Q}\\in \\mb{R}^{N\\times r}$ and $\\m{R}\\in \\mb{R}^{r\\times r}$."
      ],
      "metadata": {
        "id": "HkCfadEqQycj"
      }
    },
    {
      "cell_type": "code",
      "source": [
        "display(Image(url='https://github.com/yexf308/AdvancedMachineLearning/blob/main/image/rsvd1.png?raw=true', width=600))"
      ],
      "metadata": {
        "colab": {
          "base_uri": "https://localhost:8080/",
          "height": 380
        },
        "id": "PQvWwQcPWDhl",
        "outputId": "0e528017-ad48-4a54-a2ce-1f1eebbdac92"
      },
      "execution_count": null,
      "outputs": [
        {
          "output_type": "display_data",
          "data": {
            "text/html": [
              "<img src=\"https://github.com/yexf308/AdvancedMachineLearning/blob/main/image/rsvd1.png?raw=true\" width=\"600\"/>"
            ],
            "text/plain": [
              "<IPython.core.display.Image object>"
            ]
          },
          "metadata": {}
        }
      ]
    },
    {
      "cell_type": "markdown",
      "source": [
        "### Step 2:\n",
        "With the low-rank basis $\\m{Q}$, we may project $\\m{X}$ into a smaller space: $\\m{Y}=\\m{Q^\\top X}\\in \\mb{R}^{r\\times d}$. \n",
        "\n",
        "It also follows that $\\m{X} \\approx \\m{QY}$, with better agreement when the singular values $\\sigma_k$ decay\n",
        "rapidly for $k>r$.\n",
        "\n",
        "It is now possible to compute the singular value decomposition on $\\m{Y}$:  $\\m{Y} = \\m{U}_{\\m{Y}}\\Sigma \\m{V}^\\top$. \n",
        "\n",
        "Because $\\m{Q}$ is a orthonormal and approximates the column space of $\\m{X}$, the matrices $\\Sigma$ and\n",
        "$\\m{V}$ are the same for $\\m{Y}$ and $\\m{X}$.\n",
        "\n",
        "### Step 3:\n",
        "Finally, it is possible to reconstruct the high-dimensional left singular vectors $\\m{U}$\n",
        "using $\\m{U_Y}$ and $\\m{Q}$:"
      ],
      "metadata": {
        "id": "NZ8UgxJ_WXLm"
      }
    },
    {
      "cell_type": "code",
      "source": [
        "display(Image(url='https://github.com/yexf308/AdvancedMachineLearning/blob/main/image/rsvd2.png?raw=true', width=600))"
      ],
      "metadata": {
        "colab": {
          "base_uri": "https://localhost:8080/",
          "height": 326
        },
        "id": "eNz-deEoYBie",
        "outputId": "aaf9921d-a055-485a-a706-80772906ba54"
      },
      "execution_count": null,
      "outputs": [
        {
          "output_type": "display_data",
          "data": {
            "text/html": [
              "<img src=\"https://github.com/yexf308/AdvancedMachineLearning/blob/main/image/rsvd2.png?raw=true\" width=\"600\"/>"
            ],
            "text/plain": [
              "<IPython.core.display.Image object>"
            ]
          },
          "metadata": {}
        }
      ]
    },
    {
      "cell_type": "markdown",
      "source": [
        "## Improvement\n",
        "### Oversampling \n",
        "Most matrices $\\m{X}$ do not have an exact low-rank structure, given by $r$ modes. Instead, there\n",
        "are nonzero singular values $\\sigma_k$ for $k>r$,  and the sketch $\\m{Z}$ will not exactly span the column\n",
        "space of $\\m{X}$. In general, increasing the number of columns in $P$ from $r$ to $r +p$, significantly\n",
        "improves results, usually $p\\approx 5$ or $10$. This is known as\n",
        "oversampling, and increasing p decreases the variance of the singular value spectrum of\n",
        "the sketched matrix.\n",
        "\n",
        "### Power Iterations\n",
        "\n",
        "A second challenge in using randomized algorithms is when the singular value spectrum\n",
        "decays slowly (non-exponetial decay), so that the remaining truncated singular values contain significant variance\n",
        "in the data $\\m{X}$. In this case, it is possible to preprocess $\\m{X}$ through $q$ power iterations to create a new matrix $\\m{X}^{(q)}$ with a more rapid singular value decay. \n",
        "$$ \\m{X}^{(q)}= (\\m{X}\\m{X}^\\top)^{q}\\m{X}$$\n",
        "\n",
        "Power iterations dramatically improve the quality of the randomized decomposition, as the\n",
        "singular value spectrum of $\\m{X}^{(q)}$ decays more rapidly. \n",
        "$$ \\m{X}^{(q)}=\\m{U}\\Sigma^{2q+1}\\m{V}^\\top $$\n",
        "\n",
        "However, power iterations are expensive, requiring $q$ additional passes through the data $\\m{X}$.\n",
        "\n",
        "### Choice of random matrix $P$\n",
        "Like we talked in the last lecture \n",
        "- Gaussian random matrix (expensive to store and compute)\n",
        "- sparse random projection (improves storage and computation, but at the cost of including less information in the sketch $\\m{Z}$)\n",
        "\n"
      ],
      "metadata": {
        "id": "ujIaL1EkbBHN"
      }
    },
    {
      "cell_type": "markdown",
      "source": [
        "## Guaranteed Error Bounds\n",
        "\n",
        "One of the most important properties of the randomized SVD is the existence of tunable\n",
        "error bounds, that are explicit functions of the singular value spectrum, the desired rank $r$,\n",
        "the oversampling parameter $p$ and the number of power iterations $q$. \n",
        "\n",
        "- The best attainable\n",
        "error bound for a deterministic algorithm is:\n",
        "$$ \\min \\|\\m{X}-\\m{QY}\\|_2 =\\sigma_{r+1}(\\m{X})$$\n",
        "\n",
        "- The approximation with the best possible rank-$r$ subspace $\\m{Q}$ will have error\n",
        "greater than or equal to the next truncated singular value of $\\m{X}$. For randomized methods, it\n",
        "is possible to bound the expectation of the error:\n",
        "$$\\sigma_{r+1}(\\m{X}) \\le \\mb{E}(\\m{X}-\\m{QY}\\|_2)\\le \\left(1+\\sqrt{\\frac{r}{p-1}}+\\frac{e\\sqrt{r+p}}{p}\\sqrt{\\min(N,d)-r}\\right)^{\\frac{1}{2q+1}}\\sigma_{r+1}(\\m{X})$$\n",
        "\n"
      ],
      "metadata": {
        "id": "urPySNabhxJO"
      }
    },
    {
      "cell_type": "code",
      "source": [
        "# Define randomized SVD function\n",
        "def rSVD(X,r,q,p):\n",
        "    # Step 1: Sample column space of X with P matrix\n",
        "    N = X.shape[1]\n",
        "    P = np.random.randn(N,r+p)\n",
        "    Z = X @ P\n",
        "    for k in range(q):\n",
        "        Z = X @ (X.T @ Z)\n",
        "\n",
        "    Q, R = np.linalg.qr(Z,mode='reduced')\n",
        "\n",
        "    # Step 2: Compute SVD on projected Y = Q.T @ X\n",
        "    Y = Q.T @ X\n",
        "    UY, S, VT = np.linalg.svd(Y,full_matrices=0)\n",
        "\n",
        "    # Step 3: Compute U\n",
        "    U = Q @ UY\n",
        "\n",
        "    return U, S, VT"
      ],
      "metadata": {
        "id": "GIJ1GMTWqz46"
      },
      "execution_count": 2,
      "outputs": []
    },
    {
      "cell_type": "code",
      "source": [
        "\n",
        "!wget https://github.com/yexf308/AdvancedMachineLearning/blob/main/image/jupiter.jpg?raw=true -O img.jpg"
      ],
      "metadata": {
        "colab": {
          "base_uri": "https://localhost:8080/"
        },
        "id": "AIEwgzyur2Ad",
        "outputId": "0794468e-5f55-4f18-8d4f-a416ff9b27fe"
      },
      "execution_count": 10,
      "outputs": [
        {
          "output_type": "stream",
          "name": "stdout",
          "text": [
            "--2022-01-15 21:49:41--  https://github.com/yexf308/AdvancedMachineLearning/blob/main/image/jupiter.jpg?raw=true\n",
            "Resolving github.com (github.com)... 140.82.114.3\n",
            "Connecting to github.com (github.com)|140.82.114.3|:443... connected.\n",
            "HTTP request sent, awaiting response... 302 Found\n",
            "Location: https://github.com/yexf308/AdvancedMachineLearning/raw/main/image/jupiter.jpg [following]\n",
            "--2022-01-15 21:49:41--  https://github.com/yexf308/AdvancedMachineLearning/raw/main/image/jupiter.jpg\n",
            "Reusing existing connection to github.com:443.\n",
            "HTTP request sent, awaiting response... 302 Found\n",
            "Location: https://raw.githubusercontent.com/yexf308/AdvancedMachineLearning/main/image/jupiter.jpg [following]\n",
            "--2022-01-15 21:49:41--  https://raw.githubusercontent.com/yexf308/AdvancedMachineLearning/main/image/jupiter.jpg\n",
            "Resolving raw.githubusercontent.com (raw.githubusercontent.com)... 185.199.111.133, 185.199.109.133, 185.199.108.133, ...\n",
            "Connecting to raw.githubusercontent.com (raw.githubusercontent.com)|185.199.111.133|:443... connected.\n",
            "HTTP request sent, awaiting response... 200 OK\n",
            "Length: 2030749 (1.9M) [image/jpeg]\n",
            "Saving to: ‘img.jpg’\n",
            "\n",
            "img.jpg             100%[===================>]   1.94M  --.-KB/s    in 0.01s   \n",
            "\n",
            "2022-01-15 21:49:41 (138 MB/s) - ‘img.jpg’ saved [2030749/2030749]\n",
            "\n"
          ]
        }
      ]
    },
    {
      "cell_type": "code",
      "source": [
        "import cv2\n",
        "from time import time\n",
        "img = cv2.imread('img.jpg')\n",
        "X = np.mean(img,axis=2) # Convert RGB -> grayscale\n",
        "\n",
        "t0 = time()\n",
        "U, S, VT = np.linalg.svd(X,full_matrices=0) # Deterministic SVD\n",
        "print(f\"Deterministic SVD takes {time() - t0}s\")\n",
        "\n",
        "r = 400 # Target rank\n",
        "q = 1   # Power iterations\n",
        "p = 5   # Oversampling parameter\n",
        "\n",
        "t0 = time()\n",
        "rU, rS, rVT = rSVD(X,r,q,p)\n",
        "print(f\"randomized SVD takes {time() - t0}s\")"
      ],
      "metadata": {
        "colab": {
          "base_uri": "https://localhost:8080/"
        },
        "id": "rtIpJ4xZt7oE",
        "outputId": "e2147a13-a6ba-4203-c3e8-7bc60b090c4a"
      },
      "execution_count": 14,
      "outputs": [
        {
          "output_type": "stream",
          "name": "stdout",
          "text": [
            "Deterministic SVD takes 10.517197608947754s\n",
            "randomized SVD takes 1.091355800628662s\n"
          ]
        }
      ]
    },
    {
      "cell_type": "code",
      "source": [
        "## Reconstruction\n",
        "XSVD = U[:,:(r+1)] @ np.diag(S[:(r+1)]) @ VT[:(r+1),:] # SVD approximation\n",
        "errSVD = np.linalg.norm(X-XSVD,ord=2) / np.linalg.norm(X,ord=2)\n",
        "print(f'In deterministic SVD, 2-norm of relative error is {errSVD}s')\n",
        "XrSVD = rU[:,:(r+1)] @ np.diag(rS[:(r+1)]) @ rVT[:(r+1),:] # SVD approximation\n",
        "errSVD = np.linalg.norm(X-XrSVD,ord=2) / np.linalg.norm(X,ord=2)\n",
        "print(f'In randomized SVD, 2-norm of relative error is {errSVD}s')"
      ],
      "metadata": {
        "colab": {
          "base_uri": "https://localhost:8080/"
        },
        "id": "3xsjMNnCv_ry",
        "outputId": "0e9f4a45-d291-43ae-eca5-bfdda339f33e"
      },
      "execution_count": 22,
      "outputs": [
        {
          "output_type": "stream",
          "name": "stdout",
          "text": [
            "In deterministic SVD, 2-norm of relative error is 0.00039007051775193677s\n",
            "In randomized SVD, 2-norm of relative error is 0.0005076927510275155s\n"
          ]
        }
      ]
    },
    {
      "cell_type": "code",
      "source": [
        "## Plot\n",
        "fig, axs = plt.subplots(1,3)\n",
        "\n",
        "plt.set_cmap('gray')\n",
        "axs[0].imshow(X)\n",
        "axs[0].axis('off')\n",
        "axs[1].imshow(XSVD)\n",
        "axs[1].axis('off')\n",
        "axs[2].imshow(XrSVD)\n",
        "axs[2].axis('off')\n",
        "\n",
        "plt.show()"
      ],
      "metadata": {
        "colab": {
          "base_uri": "https://localhost:8080/",
          "height": 171
        },
        "id": "EcuNQ-UtwDFf",
        "outputId": "ababf608-e92a-4ce9-b17a-550a311e6e87"
      },
      "execution_count": 16,
      "outputs": [
        {
          "output_type": "display_data",
          "data": {
            "image/png": "[encoded data removed]",
            "text/plain": [
              "<Figure size 432x288 with 3 Axes>"
            ]
          },
          "metadata": {
            "needs_background": "light"
          }
        }
      ]
    },
    {
      "cell_type": "code",
      "source": [
        "r_range = range(10)\n",
        "errSVD  = zeros(10)\n",
        "for index, r in enumerate(r_range):\n",
        "  rU, rS, rVT = rSVD(X,r,q,p)\n",
        "  XrSVD = rU[:,:(r+1)] @ np.diag(rS[:(r+1)]) @ rVT[:(r+1),:]\n",
        "  errSVD[index] = np.linalg.norm(X-XrSVD,ord=2) \n",
        "\n"
      ],
      "metadata": {
        "id": "rklog8Rb2MEq"
      },
      "execution_count": 37,
      "outputs": []
    },
    {
      "cell_type": "code",
      "source": [
        "print('The following values are the actual 2-norm error incurred ')\n",
        "print(errSVD)\n",
        "print('The following values are the singular values k+1 of X. These indicate the theoretically minimal approximation error.')\n",
        "print(S[1:11])"
      ],
      "metadata": {
        "colab": {
          "base_uri": "https://localhost:8080/"
        },
        "id": "Sh5j80jJ3BF8",
        "outputId": "58edee64-8e68-4a6d-a7b6-dbaca4a656b8"
      },
      "execution_count": 41,
      "outputs": [
        {
          "output_type": "stream",
          "name": "stdout",
          "text": [
            "The following values are the actual 2-norm error incurred \n",
            "[54873.03348388 31904.36127882 21423.6691176  17257.88166823\n",
            " 13128.23555263 11299.51255863  9688.70694201  8559.56344596\n",
            "  8045.70117014  6893.78829327]\n",
            "The following values are the singular values k+1 of X. These indicate the theoretically minimal approximation error.\n",
            "[54873.03347752 31904.36076904 21423.2173802  17257.79855045\n",
            " 13119.21547839 11291.13531406  9676.15611438  8296.18423313\n",
            "  7946.09945592  6871.86714995]\n"
          ]
        }
      ]
    },
    {
      "cell_type": "code",
      "source": [
        "scatter(range(10),log(errSVD))\n",
        "scatter(range(10),log(S[1:11]))"
      ],
      "metadata": {
        "colab": {
          "base_uri": "https://localhost:8080/",
          "height": 285
        },
        "id": "WZgeQzkA7Tbk",
        "outputId": "0313330c-bc74-4061-d21c-caa6738ac228"
      },
      "execution_count": 40,
      "outputs": [
        {
          "output_type": "execute_result",
          "data": {
            "text/plain": [
              "<matplotlib.collections.PathCollection at 0x7f44aa262910>"
            ]
          },
          "metadata": {},
          "execution_count": 40
        },
        {
          "output_type": "display_data",
          "data": {
            "image/png": "[encoded data removed]",
            "text/plain": [
              "<Figure size 432x288 with 1 Axes>"
            ]
          },
          "metadata": {
            "needs_background": "light"
          }
        }
      ]
    }
  ]
}