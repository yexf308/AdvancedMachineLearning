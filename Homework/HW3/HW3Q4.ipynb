{
  "nbformat": 4,
  "nbformat_minor": 0,
  "metadata": {
    "colab": {
      "name": "HW3Q4.ipynb",
      "provenance": [],
      "collapsed_sections": [],
      "authorship_tag": "ABX9TyO731XPx30y9XDF3wtgtXO7",
      "include_colab_link": true
    },
    "kernelspec": {
      "name": "python3",
      "display_name": "Python 3"
    },
    "language_info": {
      "name": "python"
    }
  },
  "cells": [
    {
      "cell_type": "markdown",
      "metadata": {
        "id": "view-in-github",
        "colab_type": "text"
      },
      "source": [
        "<a href=\"https://colab.research.google.com/github/yexf308/AdvancedMachineLearning/blob/main/Homework/HW3/HW3Q4.ipynb\" target=\"_parent\"><img src=\"https://colab.research.google.com/assets/colab-badge.svg\" alt=\"Open In Colab\"/></a>"
      ]
    },
    {
      "cell_type": "code",
      "source": [
        "%pylab inline \n",
        "import numpy.linalg as LA\n",
        "import codecs, json\n",
        "from time import time\n",
        "import plotly.express as px\n"
      ],
      "metadata": {
        "id": "82OHBw9dgaFz"
      },
      "execution_count": null,
      "outputs": []
    },
    {
      "cell_type": "markdown",
      "source": [
        "# Q4: Implementing PageRank and HITS (50pt)\n",
        "## Your group member:\n",
        "In this problem, you will implement the PageRank and HITS algorithms for large network. \n",
        "## Data Loading\n",
        "First of all, we authenticate a Google Drive client to download the dataset we will be processing in this Colab.\n",
        "\n",
        "**Make sure to follow the interactive instructions.**\n"
      ],
      "metadata": {
        "id": "rCQWqUbRJJUH"
      }
    },
    {
      "cell_type": "code",
      "source": [
        "from pydrive.auth import GoogleAuth\n",
        "from pydrive.drive import GoogleDrive\n",
        "from google.colab import auth\n",
        "from oauth2client.client import GoogleCredentials\n",
        "\n",
        "# Authenticate and create the PyDrive client\n",
        "auth.authenticate_user()\n",
        "gauth = GoogleAuth()\n",
        "gauth.credentials = GoogleCredentials.get_application_default()\n",
        "drive = GoogleDrive(gauth)\n"
      ],
      "metadata": {
        "id": "ZfHhr8x9JLmt"
      },
      "execution_count": null,
      "outputs": []
    },
    {
      "cell_type": "code",
      "source": [
        "id='1EoolSK32_U74I4FeLox88iuUB_SUUYsI'\n",
        "downloaded = drive.CreateFile({'id': id})\n",
        "downloaded.GetContentFile('web-Stanford.txt')"
      ],
      "metadata": {
        "id": "HJzdc8o4JNzF"
      },
      "execution_count": null,
      "outputs": []
    },
    {
      "cell_type": "markdown",
      "source": [
        "If you executed the cells above, you should be able to see the dataset we will use for this Colab under the \"Files\" tab on the left panel.\n",
        "\n",
        "For this Colab we will be using [NetworkX](https://networkx.github.io), a Python package for the creation, manipulation, and study of the structure, dynamics, and functions of complex networks.\n",
        "\n",
        "If you want to explore NetworkX more, consider following [this tutorial](https://networkx.org/documentation/stable/tutorial.html).\n",
        "\n",
        "The dataset we will analyze is a snapshot of the Web Graph centered around [stanford.edu](https://stanford.edu), collected in 2002. Nodes represent pages from Stanford University (stanford.edu) and directed edges represent hyperlinks between them. [[More Info]](http://snap.stanford.edu/data/web-Stanford.html). \n",
        "\n",
        "The dataset is massive so brute force method is not possible. "
      ],
      "metadata": {
        "id": "IUkF5XBrJOcO"
      }
    },
    {
      "cell_type": "code",
      "source": [
        "# load the graph as directed graph\n",
        "import networkx as nx\n",
        "G = nx.read_edgelist('web-Stanford.txt', create_using=nx.MultiDiGraph )\n",
        "print(nx.info(G))"
      ],
      "metadata": {
        "id": "bKglt032JWMW"
      },
      "execution_count": null,
      "outputs": []
    },
    {
      "cell_type": "code",
      "source": [
        "W = nx.adjacency_matrix(G)\n",
        "print(W.shape)"
      ],
      "metadata": {
        "id": "4YTwzZhhJZiX"
      },
      "execution_count": null,
      "outputs": []
    },
    {
      "cell_type": "code",
      "source": [
        "# nodes of G in the following order \n",
        "# nodes are not in the order of '1', '2', '3', ...\n",
        "print(G.nodes)"
      ],
      "metadata": {
        "id": "7jWWxbzOJbWx"
      },
      "execution_count": null,
      "outputs": []
    },
    {
      "cell_type": "markdown",
      "source": [
        "\n",
        "\n",
        "---\n",
        "\n",
        "\n",
        "## Q4.1: PageRank Implementation (**)\n",
        "The markov matrix $P_\\alpha=\\alpha D^{-1}W +(1-\\alpha) E$, where $E=\\frac{1}{N}\\mathbb{1}\\mathbb{1}^\\top$. In pagerank, $\\alpha$ is set as 0.85. \n",
        " We will implement power method to caclulate the stationary distribution. \n",
        "\n",
        "- Initialize the row vector: $\\mathbf{r}^{(0)}=\\frac{1}{N}\\mathbb{1}$.\n",
        "\n",
        "- Iterate for $i$ from 1 to $k$, $\\mathbf{r}^{(i+1)}=\\mathbf{r}^{(i)}P_\\alpha$. $P_\\alpha$ is NOT sparse and you should not explicitly write up $P_\\alpha$, instead you should implement the sparse multiplcation. \n",
        "\n",
        "- Please set up your own stopping criteria and stop the iteration if needed.   \n"
      ],
      "metadata": {
        "id": "wWzQ033tJdv6"
      }
    },
    {
      "cell_type": "code",
      "source": [
        "# Your code starts here"
      ],
      "metadata": {
        "id": "6wLTO8lgJg70"
      },
      "execution_count": null,
      "outputs": []
    },
    {
      "cell_type": "markdown",
      "source": [
        "\n",
        "\n",
        "---\n",
        "\n",
        "\n",
        "## Q4.2: HITS Implementation (*)\n",
        "\n",
        "Find the primary right singular vector of $W$ which is HITS-authority. \n",
        "\n",
        "Find the primary left singular vector of $W$ which is HITS-hub. "
      ],
      "metadata": {
        "id": "6U1ytslLJi3G"
      }
    },
    {
      "cell_type": "code",
      "source": [
        "# Your code starts here"
      ],
      "metadata": {
        "id": "f4x_azVRJmFB"
      },
      "execution_count": null,
      "outputs": []
    }
  ]
}