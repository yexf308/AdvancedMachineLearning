{
  "nbformat": 4,
  "nbformat_minor": 0,
  "metadata": {
    "colab": {
      "name": "HW1Q5.ipynb",
      "provenance": [],
      "collapsed_sections": [],
      "authorship_tag": "ABX9TyOH6i94OKE2bc/GBPO1fZOz",
      "include_colab_link": true
    },
    "kernelspec": {
      "name": "python3",
      "display_name": "Python 3"
    },
    "language_info": {
      "name": "python"
    }
  },
  "cells": [
    {
      "cell_type": "markdown",
      "metadata": {
        "id": "view-in-github",
        "colab_type": "text"
      },
      "source": [
        "<a href=\"https://colab.research.google.com/github/yexf308/AdvancedMachineLearning/blob/main/Homework/HW1/HW1Q5.ipynb\" target=\"_parent\"><img src=\"https://colab.research.google.com/assets/colab-badge.svg\" alt=\"Open In Colab\"/></a>"
      ]
    },
    {
      "cell_type": "code",
      "source": [
        "%pylab inline \n",
        "import numpy.linalg as LA\n",
        "from time import time\n",
        "from scipy.sparse.csgraph import dijkstra\n",
        "import plotly.express as px\n",
        "from scipy import sparse\n",
        "import pandas as pd\n"
      ],
      "metadata": {
        "colab": {
          "base_uri": "https://localhost:8080/"
        },
        "id": "P1dYNj9Z4p-x",
        "outputId": "6c7fe479-54d3-40ce-da52-492e7c80c79d"
      },
      "execution_count": null,
      "outputs": [
        {
          "output_type": "stream",
          "name": "stdout",
          "text": [
            "Populating the interactive namespace from numpy and matplotlib\n"
          ]
        }
      ]
    },
    {
      "cell_type": "markdown",
      "source": [
        "# Q5: SNPs of World-wide Populations (Group Homework) (60pts) (**)\n",
        "### Your group member: \n",
        "For this homework, the dataset is very large(~1G) so we need to use the google drive to store the data. You need to allow the colab access your google drive. If you feel unsafe to your own personal data, you can create a new google account, simply for the purpose of data analysis. \n",
        "\n",
        "\n",
        "**Data description:**\n",
        "This is the SNPs (Single Nucleid Polymorphisms) dataset in\n",
        "Human Genome Diversity Project (HGDP). Refer to the latest science paper: https://www.science.org/doi/10.1126/science.aay5012. \n",
        "\n",
        "- Data matrix of $N\\times D$ for $N=1043$ individuals around the world and $D=488919$ columns of SNPs. \n",
        "\n",
        "- Each entry in the matrix has 0, 1, 2, representing genotype AA, AC, CC. \n",
        "\n",
        "\n",
        "**Data access:** the SNP data is stored in https://drive.google.com/file/d/1a9I8_akfCMHBRrPMdnWkjyL9fKcQbJJq/view?usp=sharing. \n",
        "\n",
        "**Step1**: Once you open the link in the brower, make sure you click the \"Add shortcut to Drive\" and now your google drive should show up the zip file.  Then you run the following code to link colab to your google drive. Data credit to Yuan Yao, Quanhua MU and Yoonhee Nam.\n",
        "\n"
      ],
      "metadata": {
        "id": "byAOFwfY4zjc"
      }
    },
    {
      "cell_type": "code",
      "source": [
        "from google.colab import drive\n",
        "drive.mount('/content/drive')\n",
        "import os \n",
        "os.chdir(\"/content/drive/My Drive\")"
      ],
      "metadata": {
        "colab": {
          "base_uri": "https://localhost:8080/"
        },
        "id": "12UdaWTI44cb",
        "outputId": "fa50aae2-c9db-426b-ac8a-3f9d32bce964"
      },
      "execution_count": null,
      "outputs": [
        {
          "output_type": "stream",
          "name": "stdout",
          "text": [
            "Mounted at /content/drive\n"
          ]
        }
      ]
    },
    {
      "cell_type": "markdown",
      "source": [
        "**Step2**: The name of the file is `ceph_hgdp_minor_code_XNA.betterAnnotated.csv.zip` so we need to unzip it. The following code is to unzip this file. You only need to run this code once. If your google drive has the file `ceph_hgdp_minor_code_XNA.betterAnnotated.csv`, you can skip this line.   "
      ],
      "metadata": {
        "id": "-4zR5XyY46nJ"
      }
    },
    {
      "cell_type": "code",
      "source": [
        "!unzip ceph_hgdp_minor_code_XNA.betterAnnotated.csv.zip"
      ],
      "metadata": {
        "id": "3nut6_fr49Un"
      },
      "execution_count": null,
      "outputs": []
    },
    {
      "cell_type": "markdown",
      "source": [
        "**Step3**: Here we are using pandas to read this csv file. It may take about 1min to load the file. "
      ],
      "metadata": {
        "id": "Rv_Ip6425EXj"
      }
    },
    {
      "cell_type": "code",
      "source": [
        "df = pd.read_csv('ceph_hgdp_minor_code_XNA.betterAnnotated.csv')\n",
        "df=df.drop(columns=['snp','chr','pos'])\n",
        "df=df.T\n",
        "df\n"
      ],
      "metadata": {
        "id": "ZRxaDI_O5GlA"
      },
      "execution_count": null,
      "outputs": []
    },
    {
      "cell_type": "code",
      "source": [
        "X=df.to_numpy()\n",
        "del df # delete the dataframe to free the memory"
      ],
      "metadata": {
        "id": "LQtQTwagj22c"
      },
      "execution_count": null,
      "outputs": []
    },
    {
      "cell_type": "code",
      "source": [
        "print(X.shape) \n",
        "#Now we have the data matrix X\n",
        "print(X)"
      ],
      "metadata": {
        "colab": {
          "base_uri": "https://localhost:8080/"
        },
        "id": "QFgeggjU5LcS",
        "outputId": "949fe97f-639b-46a2-da43-f3d29a7f3a4e"
      },
      "execution_count": null,
      "outputs": [
        {
          "output_type": "stream",
          "name": "stdout",
          "text": [
            "(1043, 488919)\n",
            "[[1 2 2 ... 2 1 1]\n",
            " [0 1 2 ... 2 1 0]\n",
            " [0 2 2 ... 2 1 0]\n",
            " ...\n",
            " [0 2 2 ... 2 2 2]\n",
            " [0 0 1 ... 2 2 2]\n",
            " [2 2 2 ... 2 2 1]]\n"
          ]
        }
      ]
    },
    {
      "cell_type": "markdown",
      "source": [
        "**Step4**: Moreover, the following file contains\n",
        "the region where each people comes from. "
      ],
      "metadata": {
        "id": "PImZpn5A58i8"
      }
    },
    {
      "cell_type": "code",
      "source": [
        "!wget https://github.com/yexf308/AdvancedMachineLearning/blob/main/Homework/HW1/ceph_hgdp_minor_code_XNA.sampleInformation.csv?raw=true -O A.csv"
      ],
      "metadata": {
        "colab": {
          "base_uri": "https://localhost:8080/"
        },
        "id": "fOZqdeiS6BOf",
        "outputId": "8913ae5b-9baa-466d-b104-34fe2a694d42"
      },
      "execution_count": null,
      "outputs": [
        {
          "output_type": "stream",
          "name": "stdout",
          "text": [
            "--2022-01-21 16:52:28--  https://github.com/yexf308/AdvancedMachineLearning/blob/main/Homework/HW1/ceph_hgdp_minor_code_XNA.sampleInformation.csv?raw=true\n",
            "Resolving github.com (github.com)... 140.82.113.4\n",
            "Connecting to github.com (github.com)|140.82.113.4|:443... connected.\n",
            "HTTP request sent, awaiting response... 302 Found\n",
            "Location: https://github.com/yexf308/AdvancedMachineLearning/raw/main/Homework/HW1/ceph_hgdp_minor_code_XNA.sampleInformation.csv [following]\n",
            "--2022-01-21 16:52:28--  https://github.com/yexf308/AdvancedMachineLearning/raw/main/Homework/HW1/ceph_hgdp_minor_code_XNA.sampleInformation.csv\n",
            "Reusing existing connection to github.com:443.\n",
            "HTTP request sent, awaiting response... 302 Found\n",
            "Location: https://raw.githubusercontent.com/yexf308/AdvancedMachineLearning/main/Homework/HW1/ceph_hgdp_minor_code_XNA.sampleInformation.csv [following]\n",
            "--2022-01-21 16:52:28--  https://raw.githubusercontent.com/yexf308/AdvancedMachineLearning/main/Homework/HW1/ceph_hgdp_minor_code_XNA.sampleInformation.csv\n",
            "Resolving raw.githubusercontent.com (raw.githubusercontent.com)... 185.199.111.133, 185.199.109.133, 185.199.108.133, ...\n",
            "Connecting to raw.githubusercontent.com (raw.githubusercontent.com)|185.199.111.133|:443... connected.\n",
            "HTTP request sent, awaiting response... 200 OK\n",
            "Length: 73712 (72K) [text/plain]\n",
            "Saving to: ‘A.csv’\n",
            "\n",
            "A.csv               100%[===================>]  71.98K  --.-KB/s    in 0.005s  \n",
            "\n",
            "2022-01-21 16:52:28 (15.0 MB/s) - ‘A.csv’ saved [73712/73712]\n",
            "\n"
          ]
        }
      ]
    },
    {
      "cell_type": "code",
      "source": [
        "df2 = pd.read_csv('A.csv')\n",
        "df2"
      ],
      "metadata": {
        "colab": {
          "base_uri": "https://localhost:8080/",
          "height": 419
        },
        "id": "EfF_z8Kt6WrT",
        "outputId": "b6ea5cc4-2f0b-4f2b-df15-ed633616c398"
      },
      "execution_count": null,
      "outputs": [
        {
          "output_type": "execute_result",
          "data": {
            "text/html": [
              "\n",
              "  <div id=\"df-2a160d0e-0b7d-4806-807c-184b5b239938\">\n",
              "    <div class=\"colab-df-container\">\n",
              "      <div>\n",
              "<style scoped>\n",
              "    .dataframe tbody tr th:only-of-type {\n",
              "        vertical-align: middle;\n",
              "    }\n",
              "\n",
              "    .dataframe tbody tr th {\n",
              "        vertical-align: top;\n",
              "    }\n",
              "\n",
              "    .dataframe thead th {\n",
              "        text-align: right;\n",
              "    }\n",
              "</style>\n",
              "<table border=\"1\" class=\"dataframe\">\n",
              "  <thead>\n",
              "    <tr style=\"text-align: right;\">\n",
              "      <th></th>\n",
              "      <th>ID</th>\n",
              "      <th>Gender</th>\n",
              "      <th>Population</th>\n",
              "      <th>Geographic.origin</th>\n",
              "      <th>Geographic.area</th>\n",
              "      <th>region</th>\n",
              "      <th>distance</th>\n",
              "      <th>latitude</th>\n",
              "      <th>longtitude</th>\n",
              "    </tr>\n",
              "  </thead>\n",
              "  <tbody>\n",
              "    <tr>\n",
              "      <th>0</th>\n",
              "      <td>HGDP00448</td>\n",
              "      <td>M</td>\n",
              "      <td>Biaka Pygmies</td>\n",
              "      <td>Central African Republic</td>\n",
              "      <td>Central Africa</td>\n",
              "      <td>Africa</td>\n",
              "      <td>2384.859098</td>\n",
              "      <td>4.0</td>\n",
              "      <td>17.0</td>\n",
              "    </tr>\n",
              "    <tr>\n",
              "      <th>1</th>\n",
              "      <td>HGDP00479</td>\n",
              "      <td>M</td>\n",
              "      <td>Biaka Pygmies</td>\n",
              "      <td>Central African Republic</td>\n",
              "      <td>Central Africa</td>\n",
              "      <td>Africa</td>\n",
              "      <td>2384.859098</td>\n",
              "      <td>4.0</td>\n",
              "      <td>17.0</td>\n",
              "    </tr>\n",
              "    <tr>\n",
              "      <th>2</th>\n",
              "      <td>HGDP00985</td>\n",
              "      <td>M</td>\n",
              "      <td>Biaka Pygmies</td>\n",
              "      <td>Central African Republic</td>\n",
              "      <td>Central Africa</td>\n",
              "      <td>Africa</td>\n",
              "      <td>2384.859098</td>\n",
              "      <td>4.0</td>\n",
              "      <td>17.0</td>\n",
              "    </tr>\n",
              "    <tr>\n",
              "      <th>3</th>\n",
              "      <td>HGDP01094</td>\n",
              "      <td>M</td>\n",
              "      <td>Biaka Pygmies</td>\n",
              "      <td>Central African Republic</td>\n",
              "      <td>Central Africa</td>\n",
              "      <td>Africa</td>\n",
              "      <td>2384.859098</td>\n",
              "      <td>4.0</td>\n",
              "      <td>17.0</td>\n",
              "    </tr>\n",
              "    <tr>\n",
              "      <th>4</th>\n",
              "      <td>HGDP00982</td>\n",
              "      <td>M</td>\n",
              "      <td>Mbuti Pygmies</td>\n",
              "      <td>Democratic Republic of Congo</td>\n",
              "      <td>Central Africa</td>\n",
              "      <td>Africa</td>\n",
              "      <td>1335.495772</td>\n",
              "      <td>1.0</td>\n",
              "      <td>29.0</td>\n",
              "    </tr>\n",
              "    <tr>\n",
              "      <th>...</th>\n",
              "      <td>...</td>\n",
              "      <td>...</td>\n",
              "      <td>...</td>\n",
              "      <td>...</td>\n",
              "      <td>...</td>\n",
              "      <td>...</td>\n",
              "      <td>...</td>\n",
              "      <td>...</td>\n",
              "      <td>...</td>\n",
              "    </tr>\n",
              "    <tr>\n",
              "      <th>1038</th>\n",
              "      <td>HGDP00953</td>\n",
              "      <td>M</td>\n",
              "      <td>Yakut</td>\n",
              "      <td>Siberia</td>\n",
              "      <td>Russia</td>\n",
              "      <td>East Asia</td>\n",
              "      <td>9919.809481</td>\n",
              "      <td>63.0</td>\n",
              "      <td>129.5</td>\n",
              "    </tr>\n",
              "    <tr>\n",
              "      <th>1039</th>\n",
              "      <td>HGDP01070</td>\n",
              "      <td>F</td>\n",
              "      <td>Sardinian</td>\n",
              "      <td>Italy</td>\n",
              "      <td>Southern Europe</td>\n",
              "      <td>Europe</td>\n",
              "      <td>5305.809561</td>\n",
              "      <td>40.0</td>\n",
              "      <td>9.0</td>\n",
              "    </tr>\n",
              "    <tr>\n",
              "      <th>1040</th>\n",
              "      <td>HGDP01376</td>\n",
              "      <td>M</td>\n",
              "      <td>French Basque</td>\n",
              "      <td>France</td>\n",
              "      <td>Southern Europe</td>\n",
              "      <td>Europe</td>\n",
              "      <td>6012.260603</td>\n",
              "      <td>43.0</td>\n",
              "      <td>0.0</td>\n",
              "    </tr>\n",
              "    <tr>\n",
              "      <th>1041</th>\n",
              "      <td>HGDP00671</td>\n",
              "      <td>M</td>\n",
              "      <td>Sardinian</td>\n",
              "      <td>Italy</td>\n",
              "      <td>Southern Europe</td>\n",
              "      <td>Europe</td>\n",
              "      <td>5305.809561</td>\n",
              "      <td>40.0</td>\n",
              "      <td>9.0</td>\n",
              "    </tr>\n",
              "    <tr>\n",
              "      <th>1042</th>\n",
              "      <td>HGDP01024</td>\n",
              "      <td>F</td>\n",
              "      <td>Han</td>\n",
              "      <td>China</td>\n",
              "      <td>China</td>\n",
              "      <td>East Asia</td>\n",
              "      <td>10133.395580</td>\n",
              "      <td>32.3</td>\n",
              "      <td>114.0</td>\n",
              "    </tr>\n",
              "  </tbody>\n",
              "</table>\n",
              "<p>1043 rows × 9 columns</p>\n",
              "</div>\n",
              "      <button class=\"colab-df-convert\" onclick=\"convertToInteractive('df-2a160d0e-0b7d-4806-807c-184b5b239938')\"\n",
              "              title=\"Convert this dataframe to an interactive table.\"\n",
              "              style=\"display:none;\">\n",
              "        \n",
              "  <svg xmlns=\"http://www.w3.org/2000/svg\" height=\"24px\"viewBox=\"0 0 24 24\"\n",
              "       width=\"24px\">\n",
              "    <path d=\"M0 0h24v24H0V0z\" fill=\"none\"/>\n",
              "    <path d=\"M18.56 5.44l.94 2.06.94-2.06 2.06-.94-2.06-.94-.94-2.06-.94 2.06-2.06.94zm-11 1L8.5 8.5l.94-2.06 2.06-.94-2.06-.94L8.5 2.5l-.94 2.06-2.06.94zm10 10l.94 2.06.94-2.06 2.06-.94-2.06-.94-.94-2.06-.94 2.06-2.06.94z\"/><path d=\"M17.41 7.96l-1.37-1.37c-.4-.4-.92-.59-1.43-.59-.52 0-1.04.2-1.43.59L10.3 9.45l-7.72 7.72c-.78.78-.78 2.05 0 2.83L4 21.41c.39.39.9.59 1.41.59.51 0 1.02-.2 1.41-.59l7.78-7.78 2.81-2.81c.8-.78.8-2.07 0-2.86zM5.41 20L4 18.59l7.72-7.72 1.47 1.35L5.41 20z\"/>\n",
              "  </svg>\n",
              "      </button>\n",
              "      \n",
              "  <style>\n",
              "    .colab-df-container {\n",
              "      display:flex;\n",
              "      flex-wrap:wrap;\n",
              "      gap: 12px;\n",
              "    }\n",
              "\n",
              "    .colab-df-convert {\n",
              "      background-color: #E8F0FE;\n",
              "      border: none;\n",
              "      border-radius: 50%;\n",
              "      cursor: pointer;\n",
              "      display: none;\n",
              "      fill: #1967D2;\n",
              "      height: 32px;\n",
              "      padding: 0 0 0 0;\n",
              "      width: 32px;\n",
              "    }\n",
              "\n",
              "    .colab-df-convert:hover {\n",
              "      background-color: #E2EBFA;\n",
              "      box-shadow: 0px 1px 2px rgba(60, 64, 67, 0.3), 0px 1px 3px 1px rgba(60, 64, 67, 0.15);\n",
              "      fill: #174EA6;\n",
              "    }\n",
              "\n",
              "    [theme=dark] .colab-df-convert {\n",
              "      background-color: #3B4455;\n",
              "      fill: #D2E3FC;\n",
              "    }\n",
              "\n",
              "    [theme=dark] .colab-df-convert:hover {\n",
              "      background-color: #434B5C;\n",
              "      box-shadow: 0px 1px 3px 1px rgba(0, 0, 0, 0.15);\n",
              "      filter: drop-shadow(0px 1px 2px rgba(0, 0, 0, 0.3));\n",
              "      fill: #FFFFFF;\n",
              "    }\n",
              "  </style>\n",
              "\n",
              "      <script>\n",
              "        const buttonEl =\n",
              "          document.querySelector('#df-2a160d0e-0b7d-4806-807c-184b5b239938 button.colab-df-convert');\n",
              "        buttonEl.style.display =\n",
              "          google.colab.kernel.accessAllowed ? 'block' : 'none';\n",
              "\n",
              "        async function convertToInteractive(key) {\n",
              "          const element = document.querySelector('#df-2a160d0e-0b7d-4806-807c-184b5b239938');\n",
              "          const dataTable =\n",
              "            await google.colab.kernel.invokeFunction('convertToInteractive',\n",
              "                                                     [key], {});\n",
              "          if (!dataTable) return;\n",
              "\n",
              "          const docLinkHtml = 'Like what you see? Visit the ' +\n",
              "            '<a target=\"_blank\" href=https://colab.research.google.com/notebooks/data_table.ipynb>data table notebook</a>'\n",
              "            + ' to learn more about interactive tables.';\n",
              "          element.innerHTML = '';\n",
              "          dataTable['output_type'] = 'display_data';\n",
              "          await google.colab.output.renderOutput(dataTable, element);\n",
              "          const docLink = document.createElement('div');\n",
              "          docLink.innerHTML = docLinkHtml;\n",
              "          element.appendChild(docLink);\n",
              "        }\n",
              "      </script>\n",
              "    </div>\n",
              "  </div>\n",
              "  "
            ],
            "text/plain": [
              "             ID Gender     Population  ...      distance latitude longtitude\n",
              "0     HGDP00448      M  Biaka Pygmies  ...   2384.859098      4.0       17.0\n",
              "1     HGDP00479      M  Biaka Pygmies  ...   2384.859098      4.0       17.0\n",
              "2     HGDP00985      M  Biaka Pygmies  ...   2384.859098      4.0       17.0\n",
              "3     HGDP01094      M  Biaka Pygmies  ...   2384.859098      4.0       17.0\n",
              "4     HGDP00982      M  Mbuti Pygmies  ...   1335.495772      1.0       29.0\n",
              "...         ...    ...            ...  ...           ...      ...        ...\n",
              "1038  HGDP00953      M          Yakut  ...   9919.809481     63.0      129.5\n",
              "1039  HGDP01070      F      Sardinian  ...   5305.809561     40.0        9.0\n",
              "1040  HGDP01376      M  French Basque  ...   6012.260603     43.0        0.0\n",
              "1041  HGDP00671      M      Sardinian  ...   5305.809561     40.0        9.0\n",
              "1042  HGDP01024      F            Han  ...  10133.395580     32.3      114.0\n",
              "\n",
              "[1043 rows x 9 columns]"
            ]
          },
          "metadata": {},
          "execution_count": 7
        }
      ]
    },
    {
      "cell_type": "code",
      "source": [
        "label= df2['region'].values # this is the region label for each individual.\n",
        "print(label.shape)\n",
        "print(unique(label))"
      ],
      "metadata": {
        "colab": {
          "base_uri": "https://localhost:8080/"
        },
        "id": "NzdhAl1jjl78",
        "outputId": "ef7e0df7-68b5-4122-88ab-4f07872ac292"
      },
      "execution_count": null,
      "outputs": [
        {
          "output_type": "stream",
          "name": "stdout",
          "text": [
            "(1043,)\n",
            "['Africa' 'America' 'Central/South Asia' 'East Asia' 'Europe'\n",
            " 'Middle East' 'Oceania']\n"
          ]
        }
      ]
    },
    {
      "cell_type": "markdown",
      "source": [
        "Now you have loaded the data matrix $X$ and the corresponding label. "
      ],
      "metadata": {
        "id": "TR-vFzS1oEuN"
      }
    },
    {
      "cell_type": "markdown",
      "source": [
        "# Your project: \n",
        "Explore the genetic variation of those persons with their geographic variations, by MDS/PCA.\n",
        "Since $D$ is big, explore random projections for dimensionality reduction.\n",
        "\n",
        "Particularly,\n",
        "projection 1043 persons on the top-2 MDS (PCA) coordinates. Please visualize your results with figures. Make sure to color the data with the region labels. "
      ],
      "metadata": {
        "id": "TjdbyUdXlZFK"
      }
    },
    {
      "cell_type": "code",
      "source": [
        "# Your code starts here. "
      ],
      "metadata": {
        "id": "TDTd15kDmbFv"
      },
      "execution_count": null,
      "outputs": []
    }
  ]
}