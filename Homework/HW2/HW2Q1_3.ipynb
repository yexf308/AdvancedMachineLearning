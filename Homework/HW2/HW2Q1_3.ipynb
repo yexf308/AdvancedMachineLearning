{
  "nbformat": 4,
  "nbformat_minor": 0,
  "metadata": {
    "colab": {
      "name": "HW2Q1_3.ipynb",
      "provenance": [],
      "collapsed_sections": [],
      "authorship_tag": "ABX9TyNc6Df+CdNbUJFxpCYRpbyV",
      "include_colab_link": true
    },
    "kernelspec": {
      "name": "python3",
      "display_name": "Python 3"
    },
    "language_info": {
      "name": "python"
    }
  },
  "cells": [
    {
      "cell_type": "markdown",
      "metadata": {
        "id": "view-in-github",
        "colab_type": "text"
      },
      "source": [
        "<a href=\"https://colab.research.google.com/github/yexf308/AdvancedMachineLearning/blob/main/Homework/HW2/HW2Q1_3.ipynb\" target=\"_parent\"><img src=\"https://colab.research.google.com/assets/colab-badge.svg\" alt=\"Open In Colab\"/></a>"
      ]
    },
    {
      "cell_type": "markdown",
      "source": [
        "$\\def\\m#1{\\mathbf{#1}}$\n",
        "$\\def\\mb#1{\\mathbb{#1}}$\n",
        "$\\def\\c#1{\\mathcal{#1}}$\n",
        "# Advanced Machine Learning\n",
        "# Homework 2\n",
        "## Homework guideline\n",
        "- The deadline is Mar 10th 10:30am. Submission after the deadline will not be graded. \n",
        "\n",
        "- Q1-3 are individual homework and Q4 is group homework. \n",
        "\n",
        "- Submit your work(your reasoning and your code) as a SINGLE .ipynb document. Please rename the document as _HW1_YOURNAME.ipynb_ (for example, _HW1_FELIX.ipynb_). You are responsible for checking that you have correctly submitted the correct document. If your code cannot run, you may receive NO point.\n",
        "\n",
        "- For group homework, only one submission is needed and other group members just need to mention which group belong to.  \n",
        "\n",
        "- Please justify all short answers with a brief explanation.\n",
        "\n",
        "- You only use the Python packages included in the following cell. You are not allowed to use other advanced package or modules unless you are permitted to. \n",
        "\n",
        "- In your final submission include the plots produced by the unedited code as presented below, as well as any additional plots produced after editing the code during the course of a problem. You may find it necessary to copy/paste relevant code into additional cells to accomplish this.\n",
        "\n",
        "- Feel free to use the lecture notes and other resources.\n",
        "\n",
        "- Colab is preferred. However, if you use Anaconda, please download the .mat file locally and save it to the same folder as this homework file. "
      ],
      "metadata": {
        "id": "kxcC_DI2dk8f"
      }
    },
    {
      "cell_type": "code",
      "execution_count": null,
      "metadata": {
        "colab": {
          "base_uri": "https://localhost:8080/"
        },
        "id": "CRRFhnNkdS0P",
        "outputId": "2d57a840-7136-4870-8ab8-bfc4653d45b5"
      },
      "outputs": [
        {
          "output_type": "stream",
          "name": "stdout",
          "text": [
            "Populating the interactive namespace from numpy and matplotlib\n"
          ]
        },
        {
          "output_type": "stream",
          "name": "stderr",
          "text": [
            "/usr/local/lib/python3.7/dist-packages/IPython/core/magics/pylab.py:161: UserWarning:\n",
            "\n",
            "pylab import has clobbered these variables: ['time']\n",
            "`%matplotlib` prevents importing * from pylab and numpy\n",
            "\n"
          ]
        }
      ],
      "source": [
        "%pylab inline \n",
        "import numpy.linalg as LA\n",
        "from time import time\n",
        "import plotly.express as px\n",
        "import pandas as pd"
      ]
    },
    {
      "cell_type": "markdown",
      "source": [
        "# Q1: LSH (10pt) (**)\n",
        "Assume $\\delta$ is the probability that the random hyperplane split the query point and its nearest neighbor\n",
        "\n",
        "In class, we showed if we pick **two** random hyperplanes and search\n",
        "bins 1 bit off from query, the probability doesn't find nearest neighbour is $\\delta^2$. \n",
        "\n",
        "On the other hand, if we repeat **two** hyperplane binning **three times**, but search\n",
        "only query bin per table,  the probability doesn't find nearest neighbour is $2\\delta -\\delta^2$. \n",
        "\n",
        "Now we want to extend it to $h$ hyperplanes. \n",
        "\n",
        "- Please show that if we pick $h$ random hyperplanes and search\n",
        "bins 1 bit off from query, the probability doesn't find nearest neighbour is $1-(1-\\delta)^h-h\\delta(1-\\delta)^{h-1} $. \n",
        "\n",
        "- Please show that if we repeat $h$ hyperplane binning $h+1$ times, but search\n",
        "only query bin per table,  the probability doesn't find nearest neighbour is $(1-(1-\\delta)^h)^{h+1}$. \n",
        "\n",
        "- Please plot these two functions with your choice of $\\delta$ and $h$. Compare with these two methods. "
      ],
      "metadata": {
        "id": "XKbnSBPNETQW"
      }
    },
    {
      "cell_type": "markdown",
      "source": [
        "# Your answer:"
      ],
      "metadata": {
        "id": "D8tcxymIGBet"
      }
    },
    {
      "cell_type": "markdown",
      "source": [
        "\n",
        "\n",
        "---\n",
        "\n",
        "\n",
        "# Q2: Spectral graph theory (60pt) \n",
        "## Q2.1 $\\sigma\\rightarrow 0^+$ and $\\sigma\\rightarrow +\\infty$ (*)\n",
        "\n",
        "Recall that one construction of the weight matrix for a graph on data $\\{\\m{x}^{(i)}\\}_{i=1}^N$ is to use the Gaussian\n",
        "kernel $\\m{W}_{ij}=\\exp(-\\|\\m{x}^{(i)}-\\m{x}^{(j)}\\|_2^2/\\sigma^2)$ for $i\\ne j$ and $\\m{W}_{ij}=0$ for $i=j$ for some choice of $\\sigma>0$. \n",
        "\n",
        "- What happens to the resulting Laplacian matrix $L$ as $\\sigma\\rightarrow 0^+$? What are eigenvalues for the Laplacian matrix $L$?\n",
        "\n",
        "- What about $\\sigma\\rightarrow \\infty$? What are eigenvalues for the Laplacian matrix $L$ now?"
      ],
      "metadata": {
        "id": "DgChOSO6eO-i"
      }
    },
    {
      "cell_type": "markdown",
      "source": [
        "# Your answer: "
      ],
      "metadata": {
        "id": "JOyU1SVaRKYp"
      }
    },
    {
      "cell_type": "markdown",
      "source": [
        "\n",
        "\n",
        "---\n",
        "\n",
        "\n",
        "## Q2.2 Ncut (***)\n",
        "Let $\\m{L} = \\m{D} −\\m{W}$ be the unnormalized graph Laplacian associated to a graph $G=(V, E, \\m{W})$ on points $\\{\\m{x}^{(i)}\\}_{i=1}^N$ with symmetric weight matrix $\\m{W}$ and diagonal degree matrix  $D$. Let $\\{C, \\bar C\\}$ be any partition of $\\{\\m{x}^{(i)}\\}_{i=1}^N$ and let \n",
        "\\begin{align}\n",
        "f_i^C = \\begin{cases} -\\sqrt{\\frac{\\text{Vol}(\\bar{C})}{\\text{Vol}(C)}} & \\m{x}^{(i)}\\in C \\\\ \\sqrt{\\frac{\\text{Vol}(C)}{\\text{Vol}(\\bar C)}} & \\m{x}^{(i)}\\in \\bar C\\end{cases}\n",
        "\\end{align}\n",
        "\n",
        "\n",
        "- Prove that $\\langle D \\m{f}^c, \\mb{1}\\rangle = 0 $, where $\\mb{1}$  is the vector of all 1’s.\n",
        "\n",
        "- Prove that $(\\m{f}^C)^\\top\\m{D}\\m{f}^C=\\text{vol}(V)$.\n",
        "\n",
        "- Prove that $(\\m{f}^C)^\\top\\m{L}\\m{f}^C=\\text{vol}(V)\\text{Ncut}(C, \\bar C)$."
      ],
      "metadata": {
        "id": "qMABVqoWm1Cn"
      }
    },
    {
      "cell_type": "markdown",
      "source": [
        "# Your answer:"
      ],
      "metadata": {
        "id": "MlqOtHqlw_Ao"
      }
    },
    {
      "cell_type": "markdown",
      "source": [
        "\n",
        "\n",
        "---\n",
        "\n",
        "\n",
        "## Q2.3 Random walk graph Laplacian (*)\n",
        "Suppose we build a fully connected graph in which each node is connected to every other node, i.e, $\\m{W}_{ij}=1$, $i\\ne j$ and $\\m{W}_{ii}=0$. \n",
        "\n",
        "\n",
        "- What is the formula for the random walk graph Laplacian $\\m{L}^{\\text{rw}}$ in this case?\n",
        "\n",
        "- What can be said about the eigenvalues $\\lambda_i$ for $\\m{L}^{\\text{rw}}$?\n",
        "\n",
        "- What would happen if the number of clusters was estimated with the eigengap ($\\hat K=\\arg\\max_k (\\lambda_{k+1}-\\lambda_k)$)? Explain if this estimate makes sense or not."
      ],
      "metadata": {
        "id": "k15heaiF081r"
      }
    },
    {
      "cell_type": "markdown",
      "source": [
        "# Your answer:"
      ],
      "metadata": {
        "id": "ZSr6VPww1t97"
      }
    },
    {
      "cell_type": "markdown",
      "source": [
        "\n",
        "\n",
        "---\n",
        "\n",
        "\n",
        "# Q3: Hyperspectral Remote Sensing Scenes (30pt) (**)\n",
        "We are using the data collected by the 224-band AVIRIS sensor over Salinas Valley, California, and is characterized by high spatial resolution (3.7-meter pixels). The link of the data is: http://www.ehu.eus/ccwintco/index.php/Hyperspectral_Remote_Sensing_Scenes#Salinas_scene. Here we use an small subscene of Salinas image, denoted Salinas-A. It comprises $83\\times 86$ pixels and 204 bands, i.e., each pixel has 204 bands information. So the dimensional of the data $D=204$ and the number of the dataset is $N=83\\times 86=7138$. "
      ],
      "metadata": {
        "id": "0BV9tix364yS"
      }
    },
    {
      "cell_type": "code",
      "source": [
        "from scipy.io import loadmat\n",
        "\n",
        "!wget https://github.com/yexf308/AdvancedMachineLearning/blob/main/Homework/HW2/SalinasA_corrected.mat?raw=true -O SalinasA_corrected.mat\n",
        "data = loadmat('SalinasA_corrected.mat')\n",
        "image = data['salinasA_corrected']"
      ],
      "metadata": {
        "colab": {
          "base_uri": "https://localhost:8080/"
        },
        "id": "_17Y6OMTaCE8",
        "outputId": "982b18f2-210a-49b1-ea5f-ef9c37a94a69"
      },
      "execution_count": null,
      "outputs": [
        {
          "output_type": "stream",
          "name": "stdout",
          "text": [
            "--2022-01-24 01:13:57--  https://github.com/yexf308/AdvancedMachineLearning/blob/main/Homework/HW2/SalinasA_corrected.mat?raw=true\n",
            "Resolving github.com (github.com)... 192.30.255.112\n",
            "Connecting to github.com (github.com)|192.30.255.112|:443... connected.\n",
            "HTTP request sent, awaiting response... 302 Found\n",
            "Location: https://github.com/yexf308/AdvancedMachineLearning/raw/main/Homework/HW2/SalinasA_corrected.mat [following]\n",
            "--2022-01-24 01:13:57--  https://github.com/yexf308/AdvancedMachineLearning/raw/main/Homework/HW2/SalinasA_corrected.mat\n",
            "Reusing existing connection to github.com:443.\n",
            "HTTP request sent, awaiting response... 302 Found\n",
            "Location: https://raw.githubusercontent.com/yexf308/AdvancedMachineLearning/main/Homework/HW2/SalinasA_corrected.mat [following]\n",
            "--2022-01-24 01:13:57--  https://raw.githubusercontent.com/yexf308/AdvancedMachineLearning/main/Homework/HW2/SalinasA_corrected.mat\n",
            "Resolving raw.githubusercontent.com (raw.githubusercontent.com)... 185.199.108.133, 185.199.109.133, 185.199.110.133, ...\n",
            "Connecting to raw.githubusercontent.com (raw.githubusercontent.com)|185.199.108.133|:443... connected.\n",
            "HTTP request sent, awaiting response... 200 OK\n",
            "Length: 1539086 (1.5M) [application/octet-stream]\n",
            "Saving to: ‘SalinasA_corrected.mat’\n",
            "\n",
            "SalinasA_corrected. 100%[===================>]   1.47M  --.-KB/s    in 0.05s   \n",
            "\n",
            "2022-01-24 01:13:59 (27.2 MB/s) - ‘SalinasA_corrected.mat’ saved [1539086/1539086]\n",
            "\n"
          ]
        }
      ]
    },
    {
      "cell_type": "code",
      "source": [
        "print(image.shape)"
      ],
      "metadata": {
        "colab": {
          "base_uri": "https://localhost:8080/"
        },
        "id": "R64SZ8YH4IoI",
        "outputId": "15b5f637-85a0-4925-aa7d-7b6df875c007"
      },
      "execution_count": null,
      "outputs": [
        {
          "output_type": "stream",
          "name": "stdout",
          "text": [
            "(83, 86, 204)\n"
          ]
        }
      ]
    },
    {
      "cell_type": "markdown",
      "source": [
        "We are going to perform the clustering task on this dataset `image`.In this case, we also the ground truth to compare with."
      ],
      "metadata": {
        "id": "t9LfEgx75Ilz"
      }
    },
    {
      "cell_type": "code",
      "source": [
        "# Groundtruth classes for the Salinas-A scene and their respective samples\n",
        "# There are six classes. \n",
        "!wget https://github.com/yexf308/AdvancedMachineLearning/blob/main/Homework/HW2/SalinasA_gt.csv?raw=true -O SalinasA_gt.csv\n",
        "df = pd.read_csv('SalinasA_gt.csv')\n",
        "label =df.to_numpy()"
      ],
      "metadata": {
        "colab": {
          "base_uri": "https://localhost:8080/"
        },
        "id": "HikZalt5bWV8",
        "outputId": "01681273-4204-43ab-9ec0-e552760a69df"
      },
      "execution_count": null,
      "outputs": [
        {
          "output_type": "stream",
          "name": "stdout",
          "text": [
            "--2022-01-24 01:10:50--  https://github.com/yexf308/AdvancedMachineLearning/blob/main/Homework/HW2/SalinasA_gt.csv?raw=true\n",
            "Resolving github.com (github.com)... 192.30.255.113\n",
            "Connecting to github.com (github.com)|192.30.255.113|:443... connected.\n",
            "HTTP request sent, awaiting response... 302 Found\n",
            "Location: https://github.com/yexf308/AdvancedMachineLearning/raw/main/Homework/HW2/SalinasA_gt.csv [following]\n",
            "--2022-01-24 01:10:50--  https://github.com/yexf308/AdvancedMachineLearning/raw/main/Homework/HW2/SalinasA_gt.csv\n",
            "Reusing existing connection to github.com:443.\n",
            "HTTP request sent, awaiting response... 302 Found\n",
            "Location: https://raw.githubusercontent.com/yexf308/AdvancedMachineLearning/main/Homework/HW2/SalinasA_gt.csv [following]\n",
            "--2022-01-24 01:10:50--  https://raw.githubusercontent.com/yexf308/AdvancedMachineLearning/main/Homework/HW2/SalinasA_gt.csv\n",
            "Resolving raw.githubusercontent.com (raw.githubusercontent.com)... 185.199.108.133, 185.199.109.133, 185.199.110.133, ...\n",
            "Connecting to raw.githubusercontent.com (raw.githubusercontent.com)|185.199.108.133|:443... connected.\n",
            "HTTP request sent, awaiting response... 200 OK\n",
            "Length: 19233 (19K) [text/plain]\n",
            "Saving to: ‘SalinasA_gt.csv’\n",
            "\n",
            "\rSalinasA_gt.csv       0%[                    ]       0  --.-KB/s               \rSalinasA_gt.csv     100%[===================>]  18.78K  --.-KB/s    in 0.001s  \n",
            "\n",
            "2022-01-24 01:10:51 (27.7 MB/s) - ‘SalinasA_gt.csv’ saved [19233/19233]\n",
            "\n"
          ]
        }
      ]
    },
    {
      "cell_type": "code",
      "source": [
        "figure(figsize=(3,3))\n",
        "imshow(label)"
      ],
      "metadata": {
        "colab": {
          "base_uri": "https://localhost:8080/",
          "height": 228
        },
        "id": "emPbNABkqX-M",
        "outputId": "75134a6f-1b93-4ee4-fdcc-57497137c675"
      },
      "execution_count": null,
      "outputs": [
        {
          "output_type": "execute_result",
          "data": {
            "text/plain": [
              "<matplotlib.image.AxesImage at 0x7f6693b3f450>"
            ]
          },
          "metadata": {},
          "execution_count": 21
        },
        {
          "output_type": "display_data",
          "data": {
            "image/png": "[encoded data removed]",
            "text/plain": [
              "<Figure size 216x216 with 1 Axes>"
            ]
          },
          "metadata": {
            "needs_background": "light"
          }
        }
      ]
    },
    {
      "cell_type": "markdown",
      "source": [
        "## Your task\n",
        "- Step 1: Reshape the image data into the $X$ matrix with the shape $N\\times D= 7138\\times 204$. Build the similarity graph with the **symmetric KNN** and find the weight matrix $\\m{W}$.\n",
        "\n",
        "- Step 2:  Run spectral clustering on this data, using a sparse Laplacian with different numbers of nearest neighbors and $K = 6$ clusters. How do the results compare to the ground truth data?\n",
        "\n",
        "- Step 3: Plot the first 10 eigenvalues of the data for different choices of $\\sigma$. What does the eigengap estimate as\n",
        "the number of clusters for these choices of $\\sigma$?\n",
        "\n",
        "- Step 4: Compare the projections onto the first three principle components with the first three Laplacian eigenvectors by plotting both sets in different figures. How do the representations differ\n",
        "qualitatively?"
      ],
      "metadata": {
        "id": "SU4Tpkbf5dEz"
      }
    },
    {
      "cell_type": "code",
      "source": [
        "# Your code starts here"
      ],
      "metadata": {
        "id": "nnjN3lvt71ac"
      },
      "execution_count": null,
      "outputs": []
    },
    {
      "cell_type": "markdown",
      "source": [
        "# Your answer:"
      ],
      "metadata": {
        "id": "FHXF_GWe73Hz"
      }
    },
    {
      "cell_type": "markdown",
      "source": [
        "\n",
        "\n",
        "---\n",
        "\n",
        "\n",
        "# Optional question (***)\n",
        " If you can handle the previous dataset well, you can uncomment the following code. Now your dataset $N$ is more than $10^5$ and all brute force methods will fail here. Also the number of cluster is also much higher (about 16 clusters). Try it out. Having fun! "
      ],
      "metadata": {
        "id": "ZakxRUDr2tem"
      }
    },
    {
      "cell_type": "code",
      "source": [
        "#!wget https://github.com/yexf308/AdvancedMachineLearning/blob/main/Homework/HW2/Salinas_corrected.mat?raw=true -O Salinas_corrected.mat\n",
        "# data = loadmat('Salinas_corrected.mat')\n",
        "# image = data['salinas_corrected']\n",
        "\n"
      ],
      "metadata": {
        "id": "7MTrCmDc2_BS"
      },
      "execution_count": null,
      "outputs": []
    }
  ]
}