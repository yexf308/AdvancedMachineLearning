{
  "nbformat": 4,
  "nbformat_minor": 0,
  "metadata": {
    "colab": {
      "name": "UMAP clustering.ipynb",
      "provenance": [],
      "collapsed_sections": [],
      "authorship_tag": "ABX9TyNuYX32PZmBdpFHNsABRScB",
      "include_colab_link": true
    },
    "kernelspec": {
      "name": "python3",
      "display_name": "Python 3"
    },
    "language_info": {
      "name": "python"
    },
    "widgets": {
      "application/vnd.jupyter.widget-state+json": {
        "58edbb07caea423b93ade1a3fcc059ab": {
          "model_module": "@jupyter-widgets/controls",
          "model_name": "HBoxModel",
          "model_module_version": "1.5.0",
          "state": {
            "_dom_classes": [],
            "_model_module": "@jupyter-widgets/controls",
            "_model_module_version": "1.5.0",
            "_model_name": "HBoxModel",
            "_view_count": null,
            "_view_module": "@jupyter-widgets/controls",
            "_view_module_version": "1.5.0",
            "_view_name": "HBoxView",
            "box_style": "",
            "children": [
              "IPY_MODEL_fee2677da0024616a89c2473528040b1",
              "IPY_MODEL_ef7fc56371af4bd985016f6b95955bc0",
              "IPY_MODEL_56c9ddae770f403eac6938ebaf67e049"
            ],
            "layout": "IPY_MODEL_98608ae56b8a41429fe5e47725a666af"
          }
        },
        "fee2677da0024616a89c2473528040b1": {
          "model_module": "@jupyter-widgets/controls",
          "model_name": "HTMLModel",
          "model_module_version": "1.5.0",
          "state": {
            "_dom_classes": [],
            "_model_module": "@jupyter-widgets/controls",
            "_model_module_version": "1.5.0",
            "_model_name": "HTMLModel",
            "_view_count": null,
            "_view_module": "@jupyter-widgets/controls",
            "_view_module_version": "1.5.0",
            "_view_name": "HTMLView",
            "description": "",
            "description_tooltip": null,
            "layout": "IPY_MODEL_8919d064c02b416a81e9aba2e79e7ec3",
            "placeholder": "​",
            "style": "IPY_MODEL_d8658849c09d4f37815bbaf361c6ed4d",
            "value": "Epochs completed: 100%| "
          }
        },
        "ef7fc56371af4bd985016f6b95955bc0": {
          "model_module": "@jupyter-widgets/controls",
          "model_name": "FloatProgressModel",
          "model_module_version": "1.5.0",
          "state": {
            "_dom_classes": [],
            "_model_module": "@jupyter-widgets/controls",
            "_model_module_version": "1.5.0",
            "_model_name": "FloatProgressModel",
            "_view_count": null,
            "_view_module": "@jupyter-widgets/controls",
            "_view_module_version": "1.5.0",
            "_view_name": "ProgressView",
            "bar_style": "success",
            "description": "",
            "description_tooltip": null,
            "layout": "IPY_MODEL_d039c74022404c23bc96f0f864470c79",
            "max": 500,
            "min": 0,
            "orientation": "horizontal",
            "style": "IPY_MODEL_d6190bc01bb5480f93d0f3fa4135ea74",
            "value": 500
          }
        },
        "56c9ddae770f403eac6938ebaf67e049": {
          "model_module": "@jupyter-widgets/controls",
          "model_name": "HTMLModel",
          "model_module_version": "1.5.0",
          "state": {
            "_dom_classes": [],
            "_model_module": "@jupyter-widgets/controls",
            "_model_module_version": "1.5.0",
            "_model_name": "HTMLModel",
            "_view_count": null,
            "_view_module": "@jupyter-widgets/controls",
            "_view_module_version": "1.5.0",
            "_view_name": "HTMLView",
            "description": "",
            "description_tooltip": null,
            "layout": "IPY_MODEL_ede4a61a39514f3a82b76651eb1a4b7d",
            "placeholder": "​",
            "style": "IPY_MODEL_cd0d01f5109244898db61245491591b3",
            "value": " 500/500 [00:21]"
          }
        },
        "98608ae56b8a41429fe5e47725a666af": {
          "model_module": "@jupyter-widgets/base",
          "model_name": "LayoutModel",
          "model_module_version": "1.2.0",
          "state": {
            "_model_module": "@jupyter-widgets/base",
            "_model_module_version": "1.2.0",
            "_model_name": "LayoutModel",
            "_view_count": null,
            "_view_module": "@jupyter-widgets/base",
            "_view_module_version": "1.2.0",
            "_view_name": "LayoutView",
            "align_content": null,
            "align_items": null,
            "align_self": null,
            "border": null,
            "bottom": null,
            "display": null,
            "flex": null,
            "flex_flow": null,
            "grid_area": null,
            "grid_auto_columns": null,
            "grid_auto_flow": null,
            "grid_auto_rows": null,
            "grid_column": null,
            "grid_gap": null,
            "grid_row": null,
            "grid_template_areas": null,
            "grid_template_columns": null,
            "grid_template_rows": null,
            "height": null,
            "justify_content": null,
            "justify_items": null,
            "left": null,
            "margin": null,
            "max_height": null,
            "max_width": null,
            "min_height": null,
            "min_width": null,
            "object_fit": null,
            "object_position": null,
            "order": null,
            "overflow": null,
            "overflow_x": null,
            "overflow_y": null,
            "padding": null,
            "right": null,
            "top": null,
            "visibility": null,
            "width": null
          }
        },
        "8919d064c02b416a81e9aba2e79e7ec3": {
          "model_module": "@jupyter-widgets/base",
          "model_name": "LayoutModel",
          "model_module_version": "1.2.0",
          "state": {
            "_model_module": "@jupyter-widgets/base",
            "_model_module_version": "1.2.0",
            "_model_name": "LayoutModel",
            "_view_count": null,
            "_view_module": "@jupyter-widgets/base",
            "_view_module_version": "1.2.0",
            "_view_name": "LayoutView",
            "align_content": null,
            "align_items": null,
            "align_self": null,
            "border": null,
            "bottom": null,
            "display": null,
            "flex": null,
            "flex_flow": null,
            "grid_area": null,
            "grid_auto_columns": null,
            "grid_auto_flow": null,
            "grid_auto_rows": null,
            "grid_column": null,
            "grid_gap": null,
            "grid_row": null,
            "grid_template_areas": null,
            "grid_template_columns": null,
            "grid_template_rows": null,
            "height": null,
            "justify_content": null,
            "justify_items": null,
            "left": null,
            "margin": null,
            "max_height": null,
            "max_width": null,
            "min_height": null,
            "min_width": null,
            "object_fit": null,
            "object_position": null,
            "order": null,
            "overflow": null,
            "overflow_x": null,
            "overflow_y": null,
            "padding": null,
            "right": null,
            "top": null,
            "visibility": null,
            "width": null
          }
        },
        "d8658849c09d4f37815bbaf361c6ed4d": {
          "model_module": "@jupyter-widgets/controls",
          "model_name": "DescriptionStyleModel",
          "model_module_version": "1.5.0",
          "state": {
            "_model_module": "@jupyter-widgets/controls",
            "_model_module_version": "1.5.0",
            "_model_name": "DescriptionStyleModel",
            "_view_count": null,
            "_view_module": "@jupyter-widgets/base",
            "_view_module_version": "1.2.0",
            "_view_name": "StyleView",
            "description_width": ""
          }
        },
        "d039c74022404c23bc96f0f864470c79": {
          "model_module": "@jupyter-widgets/base",
          "model_name": "LayoutModel",
          "model_module_version": "1.2.0",
          "state": {
            "_model_module": "@jupyter-widgets/base",
            "_model_module_version": "1.2.0",
            "_model_name": "LayoutModel",
            "_view_count": null,
            "_view_module": "@jupyter-widgets/base",
            "_view_module_version": "1.2.0",
            "_view_name": "LayoutView",
            "align_content": null,
            "align_items": null,
            "align_self": null,
            "border": null,
            "bottom": null,
            "display": null,
            "flex": null,
            "flex_flow": null,
            "grid_area": null,
            "grid_auto_columns": null,
            "grid_auto_flow": null,
            "grid_auto_rows": null,
            "grid_column": null,
            "grid_gap": null,
            "grid_row": null,
            "grid_template_areas": null,
            "grid_template_columns": null,
            "grid_template_rows": null,
            "height": null,
            "justify_content": null,
            "justify_items": null,
            "left": null,
            "margin": null,
            "max_height": null,
            "max_width": null,
            "min_height": null,
            "min_width": null,
            "object_fit": null,
            "object_position": null,
            "order": null,
            "overflow": null,
            "overflow_x": null,
            "overflow_y": null,
            "padding": null,
            "right": null,
            "top": null,
            "visibility": null,
            "width": null
          }
        },
        "d6190bc01bb5480f93d0f3fa4135ea74": {
          "model_module": "@jupyter-widgets/controls",
          "model_name": "ProgressStyleModel",
          "model_module_version": "1.5.0",
          "state": {
            "_model_module": "@jupyter-widgets/controls",
            "_model_module_version": "1.5.0",
            "_model_name": "ProgressStyleModel",
            "_view_count": null,
            "_view_module": "@jupyter-widgets/base",
            "_view_module_version": "1.2.0",
            "_view_name": "StyleView",
            "bar_color": null,
            "description_width": ""
          }
        },
        "ede4a61a39514f3a82b76651eb1a4b7d": {
          "model_module": "@jupyter-widgets/base",
          "model_name": "LayoutModel",
          "model_module_version": "1.2.0",
          "state": {
            "_model_module": "@jupyter-widgets/base",
            "_model_module_version": "1.2.0",
            "_model_name": "LayoutModel",
            "_view_count": null,
            "_view_module": "@jupyter-widgets/base",
            "_view_module_version": "1.2.0",
            "_view_name": "LayoutView",
            "align_content": null,
            "align_items": null,
            "align_self": null,
            "border": null,
            "bottom": null,
            "display": null,
            "flex": null,
            "flex_flow": null,
            "grid_area": null,
            "grid_auto_columns": null,
            "grid_auto_flow": null,
            "grid_auto_rows": null,
            "grid_column": null,
            "grid_gap": null,
            "grid_row": null,
            "grid_template_areas": null,
            "grid_template_columns": null,
            "grid_template_rows": null,
            "height": null,
            "justify_content": null,
            "justify_items": null,
            "left": null,
            "margin": null,
            "max_height": null,
            "max_width": null,
            "min_height": null,
            "min_width": null,
            "object_fit": null,
            "object_position": null,
            "order": null,
            "overflow": null,
            "overflow_x": null,
            "overflow_y": null,
            "padding": null,
            "right": null,
            "top": null,
            "visibility": null,
            "width": null
          }
        },
        "cd0d01f5109244898db61245491591b3": {
          "model_module": "@jupyter-widgets/controls",
          "model_name": "DescriptionStyleModel",
          "model_module_version": "1.5.0",
          "state": {
            "_model_module": "@jupyter-widgets/controls",
            "_model_module_version": "1.5.0",
            "_model_name": "DescriptionStyleModel",
            "_view_count": null,
            "_view_module": "@jupyter-widgets/base",
            "_view_module_version": "1.2.0",
            "_view_name": "StyleView",
            "description_width": ""
          }
        }
      }
    }
  },
  "cells": [
    {
      "cell_type": "markdown",
      "metadata": {
        "id": "view-in-github",
        "colab_type": "text"
      },
      "source": [
        "<a href=\"https://colab.research.google.com/github/yexf308/AdvancedMachineLearning/blob/main/UMAP_clustering.ipynb\" target=\"_parent\"><img src=\"https://colab.research.google.com/assets/colab-badge.svg\" alt=\"Open In Colab\"/></a>"
      ]
    },
    {
      "cell_type": "code",
      "execution_count": 1,
      "metadata": {
        "id": "v2uE1fQwvl-r",
        "colab": {
          "base_uri": "https://localhost:8080/"
        },
        "outputId": "17f96cb6-533b-4eda-d6ea-de9feb0e2e5c"
      },
      "outputs": [
        {
          "output_type": "stream",
          "name": "stdout",
          "text": [
            "Populating the interactive namespace from numpy and matplotlib\n"
          ]
        }
      ],
      "source": [
        "%pylab inline \n",
        "from IPython.display import Image\n",
        "import numpy.linalg as LA\n",
        "from time import time\n",
        "from sklearn.metrics import pairwise_distances"
      ]
    },
    {
      "cell_type": "markdown",
      "source": [
        "# UMAP: Uniform Manifold Approximation and Projection\n",
        "refer to [summary1](https://pair-code.github.io/understanding-umap/) and [summary2](https://github.com/NikolayOskolkov/HowUMAPWorks/blob/master/HowUMAPWorks.ipynb). Also the code in the summary is acturally wrong.\n",
        "\n",
        " The original paper and its package [doc](https://umap-learn.readthedocs.io/en/latest/basic_usage.html) is very hard to follow. It clearly has very deep relation with TDA. I try to explain it without using TDA knowledge. \n"
      ],
      "metadata": {
        "id": "M5wNrqZhQD-n"
      }
    },
    {
      "cell_type": "markdown",
      "source": [
        "## A bit summary on Dimensionality reduction algorithms\n",
        "Most dimensionality reduction algorithms fit into either one of two broad categories:\n",
        "\n",
        "- Matrix factorization: \n",
        "   - **Principle Component Analysis (PCA)**\n",
        "   - Autoencoder (AMAT 592 Fall 2022)\n",
        "   - Latent Dirichlet Allocation (LDA)\n",
        "   - **Non-nagative matrix factorization** \n",
        "   - **Low rank matrix factorization**\n",
        "   - Word2Vec, GloVe\n",
        "\n",
        "- Neighbour Graphs:\n",
        "  - **Laplacian Eigenmaps (LE)**\n",
        "  - Hessian Eigenmaps\n",
        "  - **Diffusion Maps**\n",
        "  - Local Tangent Space Alignment (LTSA)\n",
        "  - **Isomap**\n",
        "  - **Locally linear Embedding**\n",
        "  - **t-SNE**\n",
        "  - **UMAP**  \n",
        "\n"
      ],
      "metadata": {
        "id": "OjjGfdknQdIo"
      }
    },
    {
      "cell_type": "markdown",
      "source": [
        "$\\def\\m#1{\\mathbf{#1}}$\n",
        "$\\def\\mb#1{\\mathbb{#1}}$\n",
        "$\\def\\c#1{\\mathcal{#1}}$\n",
        "## Revisit t-SNE\n",
        "\n",
        "- In high dimensions\n",
        "\\begin{align}\n",
        "&P_{j|i}(\\m{X})=\\frac{\\exp(-\\|\\m{x}^{(i)} -\\m{x}^{(j)}\\|^2/2\\sigma_i^2)}{\\sum_{k\\ne i}\\exp(-\\|\\m{x}^{(i)} -\\m{x}^{(k)}\\|^2/2\\sigma_i^2)} \\\\\n",
        "&P_{ij}(\\m{X})=  \\frac{P_{i|j}(\\m{X})+P_{j|i}(\\m{X})}{2N}\n",
        "\\end{align}\n",
        "   - All pairwise distances are needed to calculate Gaussian probability of observing distances.\n",
        "   - Normalize the Gaussian probability to be a probability \n",
        "   - Use desired perplexity to adjust the size of the neighbours $\\sigma_i$. Smaller $\\sigma_i$ will focus more on local structure and larger $\\sigma_i$ focus on global struture. \n",
        "\n",
        "- In low dimensions\n",
        "\\begin{align}\n",
        "Q_{ij}(\\m{Z})= \\frac{(1+\\|\\m{z}^{(i)}-\\m{z}^{(j)}\\|^2)^{-1}}{\\sum_{k\\ne l} (1+\\|\\m{z}^{(k)}-\\m{z}^{(l)}\\|^2)^{-1}}\n",
        "\\end{align}\n",
        "  - Calculate the t-distribution for distances between all pairs of points and normalize to be a probability. \n",
        "\n",
        "- Initialize the embedding in low dimension with a standard Gaussian distribution. \n",
        "\n",
        "- The loss function is Kullback-Leibler divergence \n",
        "\\begin{align}\n",
        "L(\\m{Z})=\\mb{KL}(P(\\m{X})||Q(\\m{Z}))=\\sum_{i\\ne j} P_{ij}(\\m{X})\\log\\frac{P_{ij}(\\m{X})}{Q_{ij}(\\m{Z})}\n",
        "\\end{align}\n",
        "\n",
        "\n"
      ],
      "metadata": {
        "id": "-UgbtiiZdlbR"
      }
    },
    {
      "cell_type": "markdown",
      "source": [
        "## UMAP \n",
        "- In high dimensions, (**locally varying metrics**)\n",
        "   \\begin{align}\n",
        "   &P_{j|i} = \\exp\\left(-\\frac{d(\\m{x}^{(i)},\\m{x}^{(j)})-\\rho_i}{\\sigma_i}\\right) \\\\\n",
        "   &P_{ij} = P_{j|i} +P_{i|j} - P_{j|i}P_{i|j}\n",
        "   \\end{align}\n",
        "   - Only calculate the distance to its $k$ nearest neighbours to construct the initial high-dim graph. In other words, the probability that $\\m{x}^{(i)}$ connects to $k+1$ nearest point is 0. In practice $k\\sim 15$.\n",
        "      - low $k$: focus more on local structure \n",
        "\n",
        "      - high $k$: represent the big-picture structure while losing fine detail.  \n",
        "\n",
        "   - $\\rho_i$: the distance from each data $\\m{x}^{(i)}$ to its **first nearest neighbor** by default. In other words, the probability that $\\m{x}^{(i)}$ connects to its nearest point is 1. \n",
        "      - It imposes a locally self-adjustable exponential kernel for each data point. \n",
        "\n",
        "      - Rather than using a fixed radius, it uses various radius here such that all points much be connected to at least its nearest neighbor. \n",
        "\n",
        "   - To search for $\\sigma_i$: use binary search method to solve \n",
        "   \\begin{align}\n",
        "   2^{\\sum_{j}P_{j|i}(\\sigma_i)} = k \n",
        "   \\end{align} \n",
        "\n",
        "   - $P_{j|i}$ interprets the probability that $\\m{x}^{(i)}$ connects to 2nd to $k$th neighbors. UMAP doesn't apply normalization to these probabilities. \n",
        "\n",
        "   - UMAP uses different symmetrization method. It interprets as the probability of at least one edge exists ($i\\rightarrow j$ or $j\\rightarrow i$), which is the same as the probability that $i$ and $j$ share an edge. \n",
        "\n",
        "<img src=\"https://github.com/yexf308/AdvancedMachineLearning/blob/main/image/umap3.png?raw=true\" width=\"500\" />\n",
        "\n",
        "<img src=\"https://github.com/yexf308/AdvancedMachineLearning/blob/main/image/umap1.png?raw=true\" width=\"500\" />\n",
        "\n",
        "\n",
        "\n",
        "<img src=\"https://github.com/yexf308/AdvancedMachineLearning/blob/main/image/umap4.png?raw=true\" width=\"500\" />\n",
        "\n",
        "\n",
        "<img src=\"https://github.com/yexf308/AdvancedMachineLearning/blob/main/image/umap5.png?raw=true\" width=\"500\" />\n",
        "\n",
        "- In low dimensions,\n",
        "  \\begin{align}\n",
        "   Q_{ij}&=(1+a\\|\\m{z}^{(i)}-\\m{z}^{(j)}\\|^{2b})^{-1}\\\\\n",
        "   &\\approx\\begin{cases}\n",
        "        1 & \\text{if } \\|\\m{z}^{(i)}-\\m{z}^{(j)}\\|\\le \\text{min_dist}  \\\\\n",
        "        \\exp\\left(-(\\|\\m{z}^{(i)}-\\m{z}^{(j)}\\|-\\text{min_dist})\\right) &  \\text{Otherwise}\n",
        "            \\end{cases}\n",
        "  \\end{align}\n",
        "\n",
        "  - It uses the family of functions $(1+a\\m{z}^{2b})^{-1}$. When $a=1, b=1$, it becomes t-distribution. The default UMAP hyperparameters is $a = 1.93$ and $b=0.79$. \n",
        "\n",
        "  -  UMAP finds $a$ and $b$ from non-linear least-square fitting for given `min_dist`. This can be used to avoid point overlaping in the same cluster. By default, it is 0.1. \n",
        "     - low values of `min_dist` leads to more tightly packed embeddings. \n",
        "     - Large values of `min_dist` will make UMAP pack points together more loosely, focusing instead on the preservation of the broad topological structure.\n",
        "\n",
        "  - UMAP doesn't apply normalization to these probabilities. So it will dramatically reduce time of computing. \n",
        "\n",
        "- UMAP assigns initial low-dimensional coordiantes using **Graph Laplacian**. This should make UMAP less changing from run to run since it is not a random initialization anymore. The **motivation** is  minimzation of KL-divergence in the initial stage with early exageration is equivalent to constructing the Graph Laplacian (HW). \n",
        "\n",
        "- The loss function is **binary cross-entropy (CE)**\n",
        "\\begin{align}\n",
        "L(Z)= \\mb{CE}(P(\\m{X}), Q(\\m{Z})) = \\sum_{i\\ne j}\\left(P_{ij}(\\m{X})\\log\\frac{P_{ij}(\\m{X})}{Q_{ij}(\\m{Z})}+(1-P_{ij}(\\m{X}))\\log\\frac{1-P_{ij}(\\m{X})}{1-Q_{ij}(\\m{Z})}\\right)\n",
        "\\end{align} \n",
        "\n",
        "- Summary: Overall, two parameters, `k` and `min_dist`, which are effectively used to control the balance between local and global structure in the embedding.\n",
        "<img src=\"https://github.com/yexf308/AdvancedMachineLearning/blob/main/image/umap6.png?raw=true\" width=\"500\" />\n",
        "\n",
        "\n"
      ],
      "metadata": {
        "id": "1KJHu8akvdHR"
      }
    },
    {
      "cell_type": "markdown",
      "source": [
        "- For the binary cross-entropy, it is equilvalent to consider \n",
        "\\begin{align}\n",
        "&\\ell_{ij} = -P_{ij}\\log(Q(d_{ij})) - (1-P_{ij})\\log(1-Q(d_{ij}))\\\\\n",
        "& L(\\m{Z})=\\sum_{i\\ne j} \\ell_{ij}\n",
        "\\end{align}\n",
        "where $Q(d_{ij})=\\frac{1}{1+a d_{ij}^b} $ and $d_{ij}$ is the squared distance of $\\m{z}^{(i)}$ and $\\m{z}^{(j)}$, $d_{ij}=\\|\\m{z}^{(i)} - \\m{z}^{(j)}\\|^2$. \n",
        "\n",
        "- We have the following \n",
        "\\begin{align}\n",
        "&1-Q(d_{ij})= \\frac{a d_{ij}^b}{1+a d_{ij}^b}, \\qquad \\frac{\\partial Q(d_{ij})}{\\partial d_{ij}} = -\\frac{abd_{ij}^{b-1}}{(1+a d_{ij}^b)^2}.\n",
        "\\end{align} \n",
        "- Then the derivative with respect to $d_{ij}$ is \n",
        "\\begin{align}\n",
        "& \\frac{\\partial \\ell_{ij}}{\\partial d_{ij}} = -\\frac{P_{ij}}{Q(d_{ij})}\\frac{\\partial Q(d_{ij})}{\\partial d_{ij}}  +\\frac{1-P_{ij}}{1-Q(d_{ij})}\\frac{\\partial Q(d_{ij})}{\\partial d_{ij}}  \\\\\n",
        "&=P_{ij}\\frac{abd_{ij}^{b}}{d_{ij}(1+ad_{ij}^b)}- (1-P_{ij})\\frac{b}{d_{ij}(1+ad_{ij}^b)} \\\\\n",
        "&= P_{ij}\\frac{b}{d_{ij}}-\\frac{b}{d_{ij}(1+ad_{ij}^b)}=\\frac{b}{d_{ij}}(P_{ij}-Q_{ij}).\n",
        "\\end{align} \n",
        "\n",
        "- The derivative of $L(\\m{Z})$ with respect to $\\m{z}^{(i)}$\n",
        "\\begin{align}\n",
        "\\nabla_{\\m{z}^{(i)}}L(\\m{Z})=\\sum_{j\\ne i}\\frac{2b}{d_{ij}}(P_{ij}-Q_{ij})(\\m{z}^{(i)}-\\m{z}^{(j)})\n",
        "\\end{align}\n",
        "\n",
        "This won't work!!\n",
        "\n",
        "Rewrite it!\n",
        "\\begin{align}\n",
        "& \\nabla_{\\m{z}^{(i)}}L(\\m{Z}) =\\sum_{j\\ne i}\\boxed{P_{ij}\\frac{2abd_{ij}^{b}}{d_{ij}(1+ad_{ij}^b)}(\\m{z}^{(i)}-\\m{z}^{(j)})}- \\boxed{(1-P_{ij})\\frac{2b}{d_{ij}(1+ad_{ij}^b)}(\\m{z}^{(i)}-\\m{z}^{(j)})}\n",
        "\\end{align}\n",
        "The first term is treated as attraction and the second term is treated as repulsion. \n",
        "\n",
        "In SGD, \n",
        "\\begin{align}\n",
        " \\nabla_{\\m{z}^{(i)}}L(\\m{Z})  \\approx \\begin{cases} \\frac{2abd_{ij}^{b-1}}{(1+ad_{ij}^b)}(\\m{z}^{(i)}-\\m{z}^{(j)}) & \\text{with probabily } P_{ij}, i\\sim j   \\\\\n",
        " -\\frac{2b}{(\\epsilon+ d_{ij})(1+ad_{ij}^b)}(\\m{z}^{(i)}-\\m{z}^{(j)}) & \\text{Otherwise } \\end{cases}\n",
        "\\end{align}\n",
        "\n",
        "The algorithm is actually implemented as follows, \n",
        "### In each epoch\n",
        "\n",
        "For each connected edge $(i,j)$, \n",
        "  - $r \\sim \\text{U}(0,1)$: sample a random number uniformly\n",
        "\n",
        "  - If $r< P_{ij}$, then \n",
        "      - $\\m{z}^{(i)}\\leftarrow \\m{z}^{(i)} - \\eta \\frac{2abd_{ij}^{b-1}}{(1+ad_{ij}^b)}(\\m{z}^{(i)}-\\m{z}^{(j)})$\n",
        "\n",
        "      - $\\m{z}^{(j)}\\leftarrow \\m{z}^{(j)} - \\eta \\frac{2abd_{ij}^{b-1}}{(1+ad_{ij}^b)}(\\m{z}^{(j)}-\\m{z}^{(i)})$\n",
        "\n",
        "      - For $\\ell = 1, \\dots, m$,\n",
        "        - Uniformly sample an integer $s$ from 1 to N. \n",
        "        - $\\m{z}^{(i)}\\leftarrow \\m{z}^{(i)} + \\eta \\frac{2b}{(\\epsilon+ d_{ij})(1+ad_{ij}^b)}(\\m{z}^{(i)}-\\m{z}^{(j)})  $\n",
        "\n",
        "This finish one epoch. \n"
      ],
      "metadata": {
        "id": "axf0E2WcSWrz"
      }
    },
    {
      "cell_type": "markdown",
      "source": [
        "### Family of distributions"
      ],
      "metadata": {
        "id": "7lRw8G7333ej"
      }
    },
    {
      "cell_type": "code",
      "source": [
        "plt.figure(figsize=(8, 5))\n",
        "z = np.linspace(0, 10, 1000)\n",
        "\n",
        "my_prob = lambda z, a, b: np.power(1 + a*z**(2*b), -1)\n",
        "plt.plot(z, my_prob(z, a = 1, b = 1))\n",
        "plt.plot(z, my_prob(z, a = 1.93, b = 0.79))\n",
        "plt.plot(z, my_prob(z, a = 2, b = 3))\n",
        "\n",
        "plt.gca().legend(('a = 1, b = 1', 'a = 1.93, b = 0.79', 'a = 2, b = 3'), fontsize = 20)\n",
        "plt.title(\"Low-Dimensional Probability of Pairwise Euclidean Distances\", fontsize = 20)\n",
        "plt.xlabel(\"Z\", fontsize = 20); plt.ylabel(\"Q(Z)\", fontsize = 20)\n",
        "plt.show()"
      ],
      "metadata": {
        "colab": {
          "base_uri": "https://localhost:8080/",
          "height": 364
        },
        "id": "g3NoJi4rTbN9",
        "outputId": "79a42330-4278-435e-bb26-947b4d6aaef2"
      },
      "execution_count": 2,
      "outputs": [
        {
          "output_type": "display_data",
          "data": {
            "text/plain": [
              "<Figure size 576x360 with 1 Axes>"
            ],
            "image/png": "[encoded data removed]"
          },
          "metadata": {
            "needs_background": "light"
          }
        }
      ]
    },
    {
      "cell_type": "markdown",
      "source": [
        "- We can see that the family of curves is very sensitive to the parameter $b$. At large $b$, $Q(Z)$ behaves almost like a **Heaviside step function**. This means in low dimension, datapoints that are below `min_dist` are equally tightly connected. \n",
        "It is exactly the reason that leads to the super-tightly packed clusters.  \n"
      ],
      "metadata": {
        "id": "v2x2Df3xMOPk"
      }
    },
    {
      "cell_type": "code",
      "source": [
        "from scipy import optimize\n",
        "\n",
        "\n",
        "MIN_DIST = 0.25\n",
        "\n",
        "x = np.linspace(0, 10, 300)\n",
        "\n",
        "def f(x, min_dist):\n",
        "    y = []\n",
        "    for i in range(len(x)):\n",
        "        if(x[i] <= min_dist):\n",
        "            y.append(1)\n",
        "        else:\n",
        "            y.append(np.exp(- x[i] + min_dist))\n",
        "    return y\n",
        "\n",
        "dist_low_dim = lambda x, a, b: 1 / (1 + a*x**(2*b))\n",
        "    \n",
        "p , _ = optimize.curve_fit(dist_low_dim, x, f(x, MIN_DIST))\n",
        "print(p)\n",
        "\n",
        "plt.figure(figsize=(7,5))\n",
        "plt.plot(x, f(x, MIN_DIST))\n",
        "plt.plot(x, dist_low_dim(x, p[0], p[1]), c = \"red\")\n",
        "plt.title(\"Non-Linear Least Square Fit of Piecewise Function\", fontsize = 20)\n",
        "plt.gca().legend(('Original', 'Fit'), fontsize = 20)\n",
        "plt.xlabel(\"Z\", fontsize = 20)\n",
        "plt.ylabel(\"Q(Z)\", fontsize = 20)\n",
        "plt.show()"
      ],
      "metadata": {
        "colab": {
          "base_uri": "https://localhost:8080/",
          "height": 382
        },
        "id": "OaUkZRIvPIlV",
        "outputId": "84043419-7c7c-4e4b-91c2-06801d4fbc46"
      },
      "execution_count": 3,
      "outputs": [
        {
          "output_type": "stream",
          "name": "stdout",
          "text": [
            "[1.12271838 1.12152528]\n"
          ]
        },
        {
          "output_type": "display_data",
          "data": {
            "text/plain": [
              "<Figure size 504x360 with 1 Axes>"
            ],
            "image/png": "[encoded data removed]"
          },
          "metadata": {
            "needs_background": "light"
          }
        }
      ]
    },
    {
      "cell_type": "code",
      "source": [
        "a = 1.929\n",
        "b= 0.7915"
      ],
      "metadata": {
        "id": "teqOGUKNvs60"
      },
      "execution_count": 52,
      "outputs": []
    },
    {
      "cell_type": "code",
      "source": [
        "def cal_pairwise_dist_sq(X):\n",
        "   return np.square(pairwise_distances(X, X, metric='euclidean'))\n",
        "\n",
        "def find_rho(dist_matrix, n_neigh):\n",
        "   \"\"\"\n",
        "   UMAP: Calculate distance from each data point to its first nearest neightbor\n",
        "   \"\"\"\n",
        "   N = dist_matrix.shape[0]\n",
        "   rho = np.zeros(N)\n",
        "   dist_matrix_new = np.zeros([N,N])+ np.inf\n",
        "   for i in range(N):\n",
        "     dist_matrix_i = dist_matrix[i]\n",
        "     sort_index    = np.argsort(dist_matrix_i)\n",
        "     labels        = sort_index[1:n_neigh+1]\n",
        "     rho[i]        = dist_matrix_i[sort_index[1]]\n",
        "     dist_matrix_new[i,labels] = dist_matrix_i[labels]\n",
        "   return rho, dist_matrix_new\n",
        "\n",
        "def calc_p_matrix_row(dist_row,rho_row, sigma):\n",
        "    \"\"\"\n",
        "    UMAP: For each row of Euclidean distance matrix (row) compute\n",
        "    probability in high dimensions (1D array)\n",
        "    \"\"\"\n",
        "    d = dist_row - rho_row\n",
        "    #d[d < 0] = 0\n",
        "    return exp(- d / sigma)  \n",
        "\n",
        "def k(prob):\n",
        "    \"\"\"\n",
        "    Compute n_neighbor = k (scalar) for each 1D array of high-dimensional probability\n",
        "    \"\"\"\n",
        "    return np.power(2, sum(prob))\n",
        "\n",
        "def sigma_binary_search(k_of_sigma, fixed_k):\n",
        "    \"\"\"\n",
        "    Solve equation k_of_sigma(sigma) = fixed_k \n",
        "    with respect to sigma by the binary search algorithm\n",
        "    \"\"\"\n",
        "    sigma_lower_limit = 0\n",
        "    sigma_upper_limit = 1000\n",
        "    for i in range(20):\n",
        "        approx_sigma = (sigma_lower_limit + sigma_upper_limit) / 2\n",
        "        if k_of_sigma(approx_sigma) < fixed_k:\n",
        "            sigma_lower_limit = approx_sigma\n",
        "        else:\n",
        "            sigma_upper_limit = approx_sigma\n",
        "        if np.abs(fixed_k - k_of_sigma(approx_sigma)) <= 1e-5:\n",
        "            break\n",
        "    return approx_sigma  \n",
        "\n",
        "def symmetric_p(P):\n",
        "   return P + P.T - P * P.T \n",
        "\n",
        "\n",
        "def P_UMAP(X, n_neigh):\n",
        "    \"\"\"\n",
        "    UMAP: Given the data matrix X, compute\n",
        "    matrix of joint probabilities with entries P_{ij}.\n",
        "    \"\"\"\n",
        "    N = X.shape[0]\n",
        "    prob = np.zeros((N,N))\n",
        "    sigma_array = []\n",
        "\n",
        "    # Get the distances from every point to every other. \n",
        "    # Get the first nearest neighbour\n",
        "    X_dist_matrix= pairwise_distances(X, X, metric='euclidean')\n",
        "    rho, X_dist_matrix = find_rho(X_dist_matrix,n_neigh)\n",
        "    # Find optimal sigma for each row of this distances matrix\n",
        "    # Calculate the probabilities based on these optimal sigmas\n",
        "    for row in range(N):\n",
        "      dist_row    = X_dist_matrix[row]\n",
        "      rho_row     = rho[row]\n",
        "\n",
        "      func = lambda sigma: k(calc_p_matrix_row(dist_row, rho_row, sigma))\n",
        "      sigma_result = sigma_binary_search(func, n_neigh)\n",
        "      prob[row]    = calc_p_matrix_row(dist_row, rho_row, sigma_result)\n",
        "      sigma_array.append(sigma_result)\n",
        "    \n",
        "    # Calculate symmetrical P\n",
        "    P = symmetric_p(prob)\n",
        "    return P, sigma_array\n",
        "\n"
      ],
      "metadata": {
        "id": "QcCUoieM6kkm"
      },
      "execution_count": 55,
      "outputs": []
    },
    {
      "cell_type": "code",
      "source": [
        "def P_to_edge(P): \n",
        "  N = P.shape[0]\n",
        "  N_entry = count_nonzero(P)\n",
        "  non_zero_index = transpose(nonzero(P))\n",
        "  \n",
        "  edges_P = []\n",
        "  \n",
        "  for i in range(N_entry):\n",
        "    index_0 = non_zero_index[i,0]\n",
        "    index_1 = non_zero_index[i,1]\n",
        "    if index_1 > index_0:\n",
        "      edges_P.append([index_0, index_1, P[index_0, index_1]])\n",
        "      \n",
        "  return edges_P\n",
        "  \n"
      ],
      "metadata": {
        "id": "dxTjpj46fmJM"
      },
      "execution_count": 54,
      "outputs": []
    },
    {
      "cell_type": "code",
      "source": [
        "def Q_umap(Z,a,b):\n",
        "    \"\"\"\n",
        "    Compute matrix of probabilities q_ij in low-dimensional space\n",
        "    \"\"\"\n",
        "    Z_dist_matrix_sq = cal_pairwise_dist_sq(Z)\n",
        "    inv_distances = np.power(1 + a * Z_dist_matrix_sq**b, -1)\n",
        "    np.fill_diagonal(inv_distances, 0.)\n",
        "    return inv_distances\n",
        "\n",
        "def off_diag_sum(M):\n",
        "    return np.sum(M) - np.trace(M)    \n",
        "\n",
        "    \n",
        "def CE(P, Q):\n",
        "    \"\"\"\n",
        "    Compute Cross-Entropy (CE) from matrix of high-dimensional probabilities \n",
        "    and coordinates of low-dimensional embeddings\n",
        "    \"\"\"\n",
        "    P = np.clip(P, 1e-8, 1-1e-8)\n",
        "    Q = np.clip(Q, 1e-8, 1-1e-8)\n",
        "    return off_diag_sum(P * np.log(P) + (1-P)*np.log(1-P) - P * np.log(Q) - (1 - P) * np.log(1 - Q))\n",
        "\n",
        "\n",
        "def CE_grad(P,Q,Z, Z_dist_matrix_sq, b):\n",
        "    \"\"\"Estimate the gradient of CE cost with respect to Z.\"\"\"\n",
        "    # \\sum_j 2b(P_{ij}-Q_{ij})(z_i-z_j)/||z_i-z_j||^2\n",
        "    # just to prevent the situation to divide zero\n",
        "\n",
        "    pq_diff = P - Q  # NxN matrix\n",
        "    pq_expanded = np.expand_dims(pq_diff, 2)\n",
        "    Z_diffs = np.expand_dims(Z, 1) - np.expand_dims(Z, 0)\n",
        "\n",
        "    #Expand our distances matrix \n",
        "    distances_expanded = np.expand_dims(Z_dist_matrix_sq, 2) +1e-3\n",
        "    Z_diffs_wt = Z_diffs / distances_expanded\n",
        "    grad = 2. * b * (pq_expanded * Z_diffs_wt).sum(1)\n",
        "    return grad   \n"
      ],
      "metadata": {
        "id": "NH2Olr5i6pH8"
      },
      "execution_count": 95,
      "outputs": []
    },
    {
      "cell_type": "code",
      "source": [
        "def one_epoch( edges_P, Z, eta, M=5):\n",
        "\n",
        "  np.random.shuffle(edges_P)\n",
        "  N_entry = len(edges_P)\n",
        "  N       = Z.shape[0]\n",
        "  for k in range(N_entry):\n",
        "    r = np.random.uniform()\n",
        "    if r < edges_P[k][2]:\n",
        "      i = edges_P[k][0]\n",
        "      j = edges_P[k][1]\n",
        "      dist_sq_ij = sum((Z[i] - Z[j])**2)\n",
        "      attraction =  2*a*b* dist_sq_ij**(b-1) * (Z[i] - Z[j]) /(1+a*dist_sq_ij**b)\n",
        "      attraction = clip(attraction, -4, 4)\n",
        "      Z[i] = Z[i] - eta * attraction \n",
        "      Z[j] = Z[j] + eta * attraction\n",
        "      for l in range(M):\n",
        "        s = np.random.randint(N)\n",
        "        while P[i,s] >0:\n",
        "          s = np.random.randint(N)\n",
        "        \n",
        "        dist_sq_is = sum((Z[i] - Z[s])**2)\n",
        "        repulsion = 2*b* (Z[i] - Z[s])/((1e-3 + dist_sq_is) * (1+a*dist_sq_is**b)) \n",
        "        repulsion = clip(repulsion, -4, 4)\n",
        "        Z[i] = Z[i] + eta * repulsion \n",
        "        Z[s] = Z[s] - eta * repulsion \n",
        "\n",
        "  return Z     \n",
        "\n",
        "\n",
        "    \n"
      ],
      "metadata": {
        "id": "xaKIhQdh494U"
      },
      "execution_count": 129,
      "outputs": []
    },
    {
      "cell_type": "code",
      "source": [
        "edges_P"
      ],
      "metadata": {
        "id": "DVt1UcBD0VZT"
      },
      "execution_count": null,
      "outputs": []
    },
    {
      "cell_type": "markdown",
      "source": [
        "### 0. Load the data"
      ],
      "metadata": {
        "id": "3mR7EU-6STh7"
      }
    },
    {
      "cell_type": "code",
      "source": [
        "from sklearn.datasets import load_digits\n",
        "digits = load_digits() \n",
        "\n",
        "X = digits.data\n",
        "y = digits.target \n",
        "\n",
        "X = X[(y==0) | (y==1) | (y==2) | (y==3)|(y==4)]\n",
        "y = y[(y==0) | (y==1) | (y==2) | (y==3) | (y==4)]\n",
        "n = X.shape[0]\n",
        "print(\"\\nThis data set contains \" + str(n) + \" samples\")\n",
        "print(\"\\nDimensions of the  data set: \")\n",
        "print(X.shape)"
      ],
      "metadata": {
        "colab": {
          "base_uri": "https://localhost:8080/"
        },
        "id": "kZndX_c4ta2g",
        "outputId": "149405aa-87b8-4b9a-fbe7-1a5dd971b852"
      },
      "execution_count": 57,
      "outputs": [
        {
          "output_type": "stream",
          "name": "stdout",
          "text": [
            "\n",
            "This data set contains 901 samples\n",
            "\n",
            "Dimensions of the  data set: \n",
            "(901, 64)\n"
          ]
        }
      ]
    },
    {
      "cell_type": "markdown",
      "source": [
        "### 1. Calculate pairwise distance\n",
        "### 2. Calculate $\\sigma_i$ and  Calculate $P$ matrix given `n_neigh`."
      ],
      "metadata": {
        "id": "aO1m4Fi8theY"
      }
    },
    {
      "cell_type": "code",
      "source": [
        "n_neigh = 15 # same as K in KNN\n",
        "t0= time()\n",
        "P, sigma_array = P_UMAP(X, n_neigh)\n",
        "t1= time()\n",
        "print(\"Calculating sigmas and P time: \"+str(t1-t0))\n",
        "print(\"\\nMean sigma = \" + str(mean(sigma_array)))\n"
      ],
      "metadata": {
        "colab": {
          "base_uri": "https://localhost:8080/"
        },
        "id": "UF1O9Aa9vJFb",
        "outputId": "d9379f56-b5da-4576-f498-1f45c51f2d7c"
      },
      "execution_count": 58,
      "outputs": [
        {
          "output_type": "stream",
          "name": "stdout",
          "text": [
            "Calculating sigmas and P time: 2.641113758087158\n",
            "\n",
            "Mean sigma = 3.255983833202908\n"
          ]
        }
      ]
    },
    {
      "cell_type": "code",
      "source": [
        "edges_P = P_to_edge(P)\n"
      ],
      "metadata": {
        "id": "dhfmcPfHhTnk"
      },
      "execution_count": 59,
      "outputs": []
    },
    {
      "cell_type": "code",
      "source": [
        "len(edges_P)"
      ],
      "metadata": {
        "colab": {
          "base_uri": "https://localhost:8080/"
        },
        "id": "VS6twCOYFVIZ",
        "outputId": "45585d50-939c-4b89-91a9-f50bc7910b25"
      },
      "execution_count": 11,
      "outputs": [
        {
          "output_type": "execute_result",
          "data": {
            "text/plain": [
              "9197"
            ]
          },
          "metadata": {},
          "execution_count": 11
        }
      ]
    },
    {
      "cell_type": "markdown",
      "source": [
        "### 3. Estimate hyperparameters a and b\n"
      ],
      "metadata": {
        "id": "fsuRTSUKXfkf"
      }
    },
    {
      "cell_type": "code",
      "source": [
        "MIN_DIST = 0.25\n",
        "p , _ = optimize.curve_fit(dist_low_dim, x, f(x, MIN_DIST))\n",
        "a = p[0]\n",
        "b = p[1] \n",
        "print(\"Hyperparameters a = \" + str(a) + \" and b = \" + str(b))\n"
      ],
      "metadata": {
        "colab": {
          "base_uri": "https://localhost:8080/"
        },
        "id": "5En0bGy9XU-9",
        "outputId": "c035715f-4101-4d17-f3f6-540a0f30469e"
      },
      "execution_count": 97,
      "outputs": [
        {
          "output_type": "stream",
          "name": "stdout",
          "text": [
            "Hyperparameters a = 1.1227183788461688 and b = 1.1215252782501515\n"
          ]
        }
      ]
    },
    {
      "cell_type": "markdown",
      "source": [
        "### 4. Laplacian Eigenmap as initial guess\n"
      ],
      "metadata": {
        "id": "sZEujqYSZJtu"
      }
    },
    {
      "cell_type": "markdown",
      "source": [
        "### 5. Running Gradient Descent optimization.\n"
      ],
      "metadata": {
        "id": "OUbqsbLYcrr3"
      }
    },
    {
      "cell_type": "code",
      "source": [
        "# just to save some space here\n",
        "from sklearn.manifold import SpectralEmbedding\n",
        "model = SpectralEmbedding(n_components = 2, n_neighbors = 50)\n",
        "#Z = model.fit_transform(X)*500\n",
        "#Z = np.random.normal(loc = 0, scale = 1, size = (n, 2))*100\n",
        "Z= Z_int\n",
        "plt.figure(figsize=(7,5))\n",
        "plt.scatter(Z[:, 0], Z[:, 1], c = y.astype(int), cmap = 'tab10', s = 50)\n",
        "plt.title('Laplacian Eigenmap', fontsize = 20)\n",
        "plt.xlabel(\"Z1\", fontsize = 20)\n",
        "plt.ylabel(\"Z2\", fontsize = 20)\n",
        "plt.show()\n",
        "\n",
        "\n",
        "N_LOW_DIMS = 2\n",
        "\n",
        "n_epoch = 50\n",
        "n_span = arange(n_epoch)\n",
        "eta_span = 0.1/((1+ n_span)**2) \n",
        "#LEARNING_RATE = 0.001\n",
        "\n",
        "np.random.seed(12345)\n",
        "CE_array = []\n",
        "file_names =[]\n",
        "\n",
        "print(\"Running Gradient Descent: \\n\")\n",
        "for i in range(n_epoch):\n",
        "  Q = Q_umap(Z,a,b)\n",
        "  Z = one_epoch(edges_P, Z, eta_span[i] )\n",
        "\n",
        "\n",
        "  \n",
        "  #Z_grad  = CE_grad(P, Q, Z, dist, b)\n",
        "  #Z_grad  = CE_grad1(P, Q, Z, dist, a,b)\n",
        "  #Z = Z - LEARNING_RATE * Z_grad\n",
        "  #print(norm(Z_grad,'fro'))\n",
        "  #print(Z)\n",
        "\n",
        "\n",
        "  #plt.figure(figsize=(10,7))\n",
        "  #plt.scatter(Z[:,0], Z[:,1], c = y.astype(int), cmap = 'tab10', s = 50)\n",
        "  #plt.title(\"UMAP on MNIST\", fontsize = 20)\n",
        "  #plt.xlabel(\"UMAP1\", fontsize = 20); plt.ylabel(\"UMAP2\", fontsize = 20)\n",
        "  #file_name = 'UMAP_iter_' + str(i) + '.png'\n",
        "  #plt.savefig(file_name)  \n",
        "  #plt.close()\n",
        "  #file_names.append(file_name)\n",
        "\n",
        "  CE_current = CE(P,Q)\n",
        "  CE_array.append(CE_current)\n",
        "  if i % 1 == 0:\n",
        "    print(\"Cross-Entropy = \" + str(CE_current) + \" after \" + str(i) + \" iterations\")\n",
        "\n"
      ],
      "metadata": {
        "id": "Uf3197W_dStx",
        "colab": {
          "base_uri": "https://localhost:8080/",
          "height": 1000
        },
        "outputId": "7e89e404-11ac-4d7b-8439-573b15e1075f"
      },
      "execution_count": 145,
      "outputs": [
        {
          "output_type": "display_data",
          "data": {
            "text/plain": [
              "<Figure size 504x360 with 1 Axes>"
            ],
            "image/png": "[encoded data removed]"
          },
          "metadata": {
            "needs_background": "light"
          }
        },
        {
          "output_type": "stream",
          "name": "stdout",
          "text": [
            "Running Gradient Descent: \n",
            "\n",
            "Cross-Entropy = 230200.54923261364 after 0 iterations\n",
            "Cross-Entropy = 218085.53100715642 after 1 iterations\n",
            "Cross-Entropy = 216311.10756490016 after 2 iterations\n",
            "Cross-Entropy = 215406.3059462831 after 3 iterations\n",
            "Cross-Entropy = 214834.63925877385 after 4 iterations\n",
            "Cross-Entropy = 214523.27475385493 after 5 iterations\n",
            "Cross-Entropy = 214297.19218744038 after 6 iterations\n",
            "Cross-Entropy = 214140.86145610886 after 7 iterations\n",
            "Cross-Entropy = 214024.47444139613 after 8 iterations\n",
            "Cross-Entropy = 213951.93816316605 after 9 iterations\n",
            "Cross-Entropy = 213870.00643785702 after 10 iterations\n",
            "Cross-Entropy = 213798.99084866137 after 11 iterations\n",
            "Cross-Entropy = 213748.48096191694 after 12 iterations\n",
            "Cross-Entropy = 213690.7280854319 after 13 iterations\n",
            "Cross-Entropy = 213651.89410928293 after 14 iterations\n",
            "Cross-Entropy = 213618.72774377628 after 15 iterations\n",
            "Cross-Entropy = 213581.08520332366 after 16 iterations\n",
            "Cross-Entropy = 213557.10057103977 after 17 iterations\n",
            "Cross-Entropy = 213533.60759804706 after 18 iterations\n",
            "Cross-Entropy = 213515.4424681276 after 19 iterations\n",
            "Cross-Entropy = 213495.32970757879 after 20 iterations\n",
            "Cross-Entropy = 213481.98957548192 after 21 iterations\n",
            "Cross-Entropy = 213465.84210324925 after 22 iterations\n",
            "Cross-Entropy = 213453.60583640143 after 23 iterations\n",
            "Cross-Entropy = 213439.52175744512 after 24 iterations\n",
            "Cross-Entropy = 213430.17685978662 after 25 iterations\n",
            "Cross-Entropy = 213419.069192648 after 26 iterations\n",
            "Cross-Entropy = 213410.1360371664 after 27 iterations\n",
            "Cross-Entropy = 213401.36558377594 after 28 iterations\n",
            "Cross-Entropy = 213391.1815627725 after 29 iterations\n",
            "Cross-Entropy = 213383.39202228346 after 30 iterations\n",
            "Cross-Entropy = 213375.92961260118 after 31 iterations\n",
            "Cross-Entropy = 213369.81449487328 after 32 iterations\n",
            "Cross-Entropy = 213361.95225861113 after 33 iterations\n",
            "Cross-Entropy = 213355.48541997324 after 34 iterations\n",
            "Cross-Entropy = 213350.5337366507 after 35 iterations\n",
            "Cross-Entropy = 213344.70078214028 after 36 iterations\n",
            "Cross-Entropy = 213339.05553590186 after 37 iterations\n",
            "Cross-Entropy = 213333.37999381896 after 38 iterations\n",
            "Cross-Entropy = 213328.27186860453 after 39 iterations\n",
            "Cross-Entropy = 213324.16057563332 after 40 iterations\n",
            "Cross-Entropy = 213321.0027260762 after 41 iterations\n",
            "Cross-Entropy = 213316.57200647148 after 42 iterations\n",
            "Cross-Entropy = 213312.0972648768 after 43 iterations\n",
            "Cross-Entropy = 213307.80438522363 after 44 iterations\n",
            "Cross-Entropy = 213303.93045061437 after 45 iterations\n",
            "Cross-Entropy = 213300.1910851907 after 46 iterations\n",
            "Cross-Entropy = 213296.3162015456 after 47 iterations\n",
            "Cross-Entropy = 213293.15985070902 after 48 iterations\n",
            "Cross-Entropy = 213290.77287284474 after 49 iterations\n"
          ]
        }
      ]
    },
    {
      "cell_type": "code",
      "source": [
        "repulsion = 2*b/((1e-3 + dist_sq) * (1+a*dist_sq**b))\n",
        "attraction = 2*a*b*dist_sq**(b-1)/(1+a*dist_sq**b)"
      ],
      "metadata": {
        "id": "v-FrixEmht8Z"
      },
      "execution_count": 55,
      "outputs": []
    },
    {
      "cell_type": "code",
      "source": [
        "attraction[0,461]"
      ],
      "metadata": {
        "colab": {
          "base_uri": "https://localhost:8080/"
        },
        "id": "NXhHp3Ufh7jZ",
        "outputId": "3a7abc31-f84b-4531-afe6-b1ce4d6d3948"
      },
      "execution_count": 57,
      "outputs": [
        {
          "output_type": "execute_result",
          "data": {
            "text/plain": [
              "1.7646992927696454"
            ]
          },
          "metadata": {},
          "execution_count": 57
        }
      ]
    },
    {
      "cell_type": "code",
      "source": [
        "plt.figure(figsize=(7,5))\n",
        "plt.scatter(Z[:, 0], Z[:, 1], c=y, cmap = 'tab10', s = 50)"
      ],
      "metadata": {
        "colab": {
          "base_uri": "https://localhost:8080/",
          "height": 338
        },
        "id": "6hTDNcJ0lHqW",
        "outputId": "c33f37b8-709c-4ab0-9766-562358562477"
      },
      "execution_count": 146,
      "outputs": [
        {
          "output_type": "execute_result",
          "data": {
            "text/plain": [
              "<matplotlib.collections.PathCollection at 0x7fb599796a10>"
            ]
          },
          "metadata": {},
          "execution_count": 146
        },
        {
          "output_type": "display_data",
          "data": {
            "text/plain": [
              "<Figure size 504x360 with 1 Axes>"
            ],
            "image/png": "[encoded data removed]"
          },
          "metadata": {
            "needs_background": "light"
          }
        }
      ]
    },
    {
      "cell_type": "code",
      "source": [
        "Z_int = Z"
      ],
      "metadata": {
        "id": "-vft5KKU68lu"
      },
      "execution_count": 144,
      "outputs": []
    },
    {
      "cell_type": "code",
      "source": [
        "!pip install umap-learn[plot]\n",
        "!pip install holoviews\n",
        "!pip install -U ipykernel"
      ],
      "metadata": {
        "id": "U7ldzEdzpaKo"
      },
      "execution_count": null,
      "outputs": []
    },
    {
      "cell_type": "code",
      "source": [
        "from umap import UMAP\n"
      ],
      "metadata": {
        "id": "fVfmyrDNo3cB"
      },
      "execution_count": null,
      "outputs": []
    },
    {
      "cell_type": "code",
      "source": [
        "plt.figure(figsize=(7,5))\n",
        "model = UMAP(n_neighbors = 15, min_dist = 0.25, n_components = 2, verbose = True)\n",
        "umap = model.fit_transform(X)\n",
        "plt.scatter(umap[:, 0], umap[:, 1], c = y.astype(int), cmap = 'tab10', s = 50)\n",
        "plt.title('UMAP', fontsize = 20)\n",
        "plt.xlabel(\"UMAP1\", fontsize = 20)\n",
        "plt.ylabel(\"UMAP2\", fontsize = 20)\n",
        "plt.show()"
      ],
      "metadata": {
        "colab": {
          "base_uri": "https://localhost:8080/",
          "height": 503,
          "referenced_widgets": [
            "58edbb07caea423b93ade1a3fcc059ab",
            "fee2677da0024616a89c2473528040b1",
            "ef7fc56371af4bd985016f6b95955bc0",
            "56c9ddae770f403eac6938ebaf67e049",
            "98608ae56b8a41429fe5e47725a666af",
            "8919d064c02b416a81e9aba2e79e7ec3",
            "d8658849c09d4f37815bbaf361c6ed4d",
            "d039c74022404c23bc96f0f864470c79",
            "d6190bc01bb5480f93d0f3fa4135ea74",
            "ede4a61a39514f3a82b76651eb1a4b7d",
            "cd0d01f5109244898db61245491591b3"
          ]
        },
        "id": "51g3R7DuqHI-",
        "outputId": "9a860f25-2325-48a9-a09d-bdf2e43e51be"
      },
      "execution_count": null,
      "outputs": [
        {
          "output_type": "stream",
          "name": "stdout",
          "text": [
            "UMAP(min_dist=0.25, verbose=True)\n",
            "Fri Apr 22 23:44:20 2022 Construct fuzzy simplicial set\n",
            "Fri Apr 22 23:44:22 2022 Finding Nearest Neighbors\n",
            "Fri Apr 22 23:44:22 2022 Finished Nearest Neighbor Search\n",
            "Fri Apr 22 23:44:22 2022 Construct embedding\n"
          ]
        },
        {
          "output_type": "display_data",
          "data": {
            "text/plain": [
              "Epochs completed:   0%|            0/500 [00:00]"
            ],
            "application/vnd.jupyter.widget-view+json": {
              "version_major": 2,
              "version_minor": 0,
              "model_id": "58edbb07caea423b93ade1a3fcc059ab"
            }
          },
          "metadata": {}
        },
        {
          "output_type": "stream",
          "name": "stdout",
          "text": [
            "Fri Apr 22 23:44:43 2022 Finished embedding\n"
          ]
        },
        {
          "output_type": "display_data",
          "data": {
            "text/plain": [
              "<Figure size 504x360 with 1 Axes>"
            ],
            "image/png": "[encoded data removed]"
          },
          "metadata": {
            "needs_background": "light"
          }
        }
      ]
    }
  ]
}