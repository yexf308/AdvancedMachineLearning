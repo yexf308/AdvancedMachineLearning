{
  "nbformat": 4,
  "nbformat_minor": 0,
  "metadata": {
    "colab": {
      "name": "Manifold_Learning:LE.ipynb",
      "provenance": [],
      "collapsed_sections": [],
      "authorship_tag": "ABX9TyMs+AHuzF8NqYSmLHXvOPOX",
      "include_colab_link": true
    },
    "kernelspec": {
      "name": "python3",
      "display_name": "Python 3"
    },
    "language_info": {
      "name": "python"
    }
  },
  "cells": [
    {
      "cell_type": "markdown",
      "metadata": {
        "id": "view-in-github",
        "colab_type": "text"
      },
      "source": [
        "<a href=\"https://colab.research.google.com/github/yexf308/AdvancedMachineLearning/blob/main/Manifold_Learning_LE.ipynb\" target=\"_parent\"><img src=\"https://colab.research.google.com/assets/colab-badge.svg\" alt=\"Open In Colab\"/></a>"
      ]
    },
    {
      "cell_type": "markdown",
      "source": [
        "This lecture is partially based on Prof. Guangliang Chen's [course slides.](https://www.sjsu.edu/faculty/guangliang.chen/Math250.html)"
      ],
      "metadata": {
        "id": "40ca1Ur2AHsd"
      }
    },
    {
      "cell_type": "code",
      "execution_count": 1,
      "metadata": {
        "id": "JrRl7pPTafVR",
        "colab": {
          "base_uri": "https://localhost:8080/"
        },
        "outputId": "5ba5583b-0b55-47b2-c932-1af87461f92f"
      },
      "outputs": [
        {
          "output_type": "stream",
          "name": "stdout",
          "text": [
            "Populating the interactive namespace from numpy and matplotlib\n"
          ]
        }
      ],
      "source": [
        "%pylab inline \n",
        "from IPython.display import Image\n",
        "import numpy.linalg as LA"
      ]
    },
    {
      "cell_type": "markdown",
      "source": [
        "$\\def\\m#1{\\mathbf{#1}}$\n",
        "$\\def\\mb#1{\\mathbb{#1}}$\n",
        "$\\def\\c#1{\\mathcal{#1}}$\n",
        "# Laplacian Eigemaps\n",
        "- For dimension reduction\n",
        "\n",
        "- For clustering (LE + $k$-means = spectral clustering)\n",
        "\n",
        "Original paper: “Laplacian Eigenmaps for dimensionality reduction and data representation”,\n",
        "Belkin and Niyogi, Neural Computation 15, 1373–1396 (2003).\n",
        "\n",
        "**Isomap**:  preserves geodesic distances between **all** points, which means preserving global geometry. \n",
        "\n",
        "In contrast, **Laplacian Eigenmaps** will focus on preserving the **local** geometry: nearby points in the original space remain nearby in the reduced space."
      ],
      "metadata": {
        "id": "ihEuBoDAFjCZ"
      }
    },
    {
      "cell_type": "markdown",
      "source": [
        "## Similarity graphs\n",
        "Like ISOmap, the first step of Laplacian Eigenmaps is to build a neighborhood graph $G$ from the given data $\\m{x}^{(1)}, \\dots, \\m{x}^{(N)}\\in \\mb{R}^{D}$ by connecting only “nearby” points, where nearby is defined in one of the following ways: \n",
        "\n",
        "- **$\\epsilon$-ball approach**.\n",
        "\n",
        "- **$k$-NN approach**.\n",
        "   "
      ],
      "metadata": {
        "id": "QpoFeCT9OD7x"
      }
    },
    {
      "cell_type": "code",
      "source": [
        "display(Image(url='https://github.com/yexf308/AdvancedMachineLearning/blob/main/image/neighbor.png?raw=true', width=800))"
      ],
      "metadata": {
        "id": "OQRPaRh0O-4M",
        "colab": {
          "base_uri": "https://localhost:8080/",
          "height": 324
        },
        "outputId": "5c4725a5-8669-4127-b0dd-bfe21442c6b6"
      },
      "execution_count": 2,
      "outputs": [
        {
          "output_type": "display_data",
          "data": {
            "text/html": [
              "<img src=\"https://github.com/yexf308/AdvancedMachineLearning/blob/main/image/neighbor.png?raw=true\" width=\"800\"/>"
            ],
            "text/plain": [
              "<IPython.core.display.Image object>"
            ]
          },
          "metadata": {}
        }
      ]
    },
    {
      "cell_type": "markdown",
      "source": [
        "However, they use different kinds of weights for the connected edges.\n",
        "- ISOmap: The edges are weighted by the Euclidean distances:\n",
        "$$d_\\m{X}(i,j) = \\|\\m{x}^{(i)}-\\m{x}^{(j)}\\|_2 \\qquad \\text{if $\\m{x}^{(i)}$ and $\\m{x}^{(j)}$ are connected.} $$\n",
        "   We call the correspondingly weighted graph a **dissimilarity graph**.\n",
        "\n",
        "- Laplacian Eigenmaps: **similarity graph**,\n",
        "with weights stored in a weight matrix $\\m{W}=w_{ij}\\in\\mb{R}^{N\\times N}$. Here we build a similarity graph\n",
        "via the dissimilarity scores (distances) on vector data in Euclidean spaces.\n",
        "   - The Euclidean distances between nearby points are transformed to 0/1 similarity scores (to be used as weights): $w_{ij}=1$ if there is an edge between $\\m{x}^{(i)}$ and $\\m{x}^{(j)}$,  and 0, otherwise. This\n",
        "leads to a sparse graph.\n",
        "\n",
        "   - We may construct a fully connected graph using Gaussian weights $w_{ij}= \\exp(-d_\\m{X}^2(i,j)/t)$ for all pairs of points $\\m{x}^{(i)}$ and $\\m{x}^{(j)}$ ($t>0$ is a parameter set by the user). A reasonably large value of $t$ leads to large weights only for close neighbors.\n",
        "\n",
        "   - In many other scenarios, the similarity graph can be specified directly. For example, we may build a **similarity graph** over a group of people by assigning the similarity of any two people as the number of friends they have in common.\n",
        "\n",
        "**The effective input to Laplacian Eigenmaps is a similarity graph.** The algorithm will then try to find a representation of the nodes in a low-dimensional Euclidean space by preserving locality information.   \n",
        "     "
      ],
      "metadata": {
        "id": "RCS0-No5P3q8"
      }
    },
    {
      "cell_type": "markdown",
      "source": [
        "## Example\n",
        "The following displays a similarity graph on a set of 5 data\n",
        "points (called vertices or nodes), with associated weight matrix $\\m{W}$.\n",
        "\\begin{align}\n",
        " \\m{W}=\\begin{pmatrix}0 & 0.8 & 0.8 & 0 & 0 \\\\ \n",
        "                        0.8 & 0 & 0.8 & 0 & 0 \\\\ \n",
        "                        0.8 & 0.8 & 0 & 0.1 & 0 \\\\ \n",
        "                        0 & 0&0.1 & 0 & 0.9 \\\\ \n",
        "                        0 & 0 & 0 &0.9 & 0 \\end{pmatrix}\n",
        "\\end{align}"
      ],
      "metadata": {
        "id": "uo30g1GiZlMJ"
      }
    },
    {
      "cell_type": "code",
      "source": [
        "display(Image(url='https://github.com/yexf308/AdvancedMachineLearning/blob/main/image/graph.png?raw=true', width=500))"
      ],
      "metadata": {
        "colab": {
          "base_uri": "https://localhost:8080/",
          "height": 160
        },
        "id": "D3F1S8wjaq_Y",
        "outputId": "bc17f88f-0bd8-4e89-8927-de822822097b"
      },
      "execution_count": 3,
      "outputs": [
        {
          "output_type": "display_data",
          "data": {
            "text/html": [
              "<img src=\"https://github.com/yexf308/AdvancedMachineLearning/blob/main/image/graph.png?raw=true\" width=\"500\"/>"
            ],
            "text/plain": [
              "<IPython.core.display.Image object>"
            ]
          },
          "metadata": {}
        }
      ]
    },
    {
      "cell_type": "markdown",
      "source": [
        "## 1D dimension reduction by Laplacian Eigenmaps\n",
        "Key point of Laplacian Eigenmaps: **Locality-preserving**!\n",
        "\n",
        "Assuming a weighted similarity graph (constructed on the given data set), we first consider the problem of **mapping the graph to a line** in a way such that close neighbors on the graph are still close on the line. \n",
        "\n",
        "\n",
        "---\n",
        "Let $\\m{Z}=(\\m{z}^{(1)}, \\dots, \\m{z}^{(N)})^\\top$ represent the 1D embedding of the nodes. We then formulate the following problem:\n",
        "$$ \\min_{\\m{f}\\in\\mb{R}^N}\\frac{1}{2}\\sum_{ij}w_{ij}(\\m{z}^{(i)} - \\m{z}^{(j)})^2$$\n",
        "\n",
        "**Interpretation:**\n",
        "- If $w_{ij}$ is large (close to 1, meaning $\\m{x}^{(i)}$, $\\m{x}^{(j)}$ are originally very close),\n",
        "then $\\m{z}^{(i)}, \\m{z}^{(j)}$ must still be close (otherwise there is a heavy penalty).\n",
        "\n",
        "- If $w_{ij}$ is small (close to 0, meaning $\\m{x}^{(i)}$, $\\m{x}^{(j)}$ are originally very far), then there is much flexibility in putting $\\m{z}^{(i)}$, $\\m{z}^{(j)}$ on the line.\n",
        "\n",
        "However, the problem $ \\min_{\\m{f}\\in\\mb{R}^N}\\frac{1}{2}\\sum_{ij}w_{ij}(\\m{z}^{(i)} - \\m{z}^{(j)})^2$ is not well defined. Because $\\m{Z}=\\mb{0}$ and $\\mb{1}$ are the trivial solution. \n",
        "\n",
        "### Mathematical Formulation\n",
        "To get rid of the scaling and translational invariances in $\\m{Z}$ and these trivial solutions. We will add the following constraints on $\\m{Z}$: \n",
        "$$ \\min_{\\m{Z}\\in\\mb{R}^N}\\frac{1}{2}\\sum_{ij}w_{ij}(\\m{z}^{(i)} - \\m{z}^{(j)})^2, \\ \\text{subject to}\\ \\sum_i \\m{z}^{(i)}=0, \\sum_{i} (\\m{z}^{(i)})^2=1.$$\n",
        "\n",
        "Equivalently, it can be reformulated as an unconstrained problem:\n",
        "$$ \\min_{\\m{Z}^\\top \\mb{1}=0, \\|\\m{Z}\\|=1}\\frac{1}{2}\\sum_{ij}w_{ij}(\\m{z}^{(i)} - \\m{z}^{(j)})^2 \\ \\text{or} \\  \\min_{\\m{Z}^\\top \\mb{1}=0,\\m{Z}\\ne 0}\\frac{\\frac{1}{2}\\sum_{ij}w_{ij}(\\m{z}^{(i)} - \\m{z}^{(j)})^2}{\\sum_{i} (\\m{z}^{(i)})^2}$$\n",
        "\n",
        "\n",
        "The original Laplacian eigenmaps algorithm proposed by Belkin and Niyogi (2003) uses a different set of constraints placed on $\\m{z}$ for\n",
        "eliminating the trivial solutions:\n",
        "$$ \\m{Z}^\\top \\m{D}\\mb{1} = \\sum_{i}d_i \\m{z}^{(i)}=0,\\qquad \\m{Z}^\\top \\m{D}\\m{Z} = \\sum_i d_i (\\m{z}^{(i)})^2 =1$$\n",
        "We will compare them later! "
      ],
      "metadata": {
        "id": "nseDJxoZH8Q2"
      }
    },
    {
      "cell_type": "markdown",
      "source": [
        "## Spectral graph theory\n",
        "We will present some graph terminology and theory.\n",
        "\n",
        "Let $G=(V, E, \\m{W})$ be a weighted graph with vertices $V=\\{1,\\dots, N\\}$ and weights $w_{ij}\\ge 0$. There is an edge $e_{ij}\\in E$ connecting nodes $i$ and $j$ iff $w_{ij}>0$ and $i$ and $j$ are called **adjacent**. \n",
        "\n",
        "When the binary weighting method is used (i.e., all positive weights are equal to 1), the weight matrix $\\m{W}$ is also referred to as the **adjacency matrix**.\n",
        "\n",
        "The degree of a vertex $i\\in V$ is defined as $d_i=\\sum_{j=1}^N w_{ij}$. \n",
        "It measures the connectivity of the vertex in the graph. For example. \n",
        "\n",
        "The degrees of all vertices can be used to form a degree matrix $\\m{D}=\\text{diag}(d_1, \\dots, d_N)\\in \\mb{R}^{N\\times N}$. An equivalent way of defining the degree matrix is $\\m{D}= \\text{diag}(\\m{W}\\mb{1})$.\n",
        "\n",
        "With the example above, \n",
        "$$\\m{D}=\\text{diag}(1.6, 1.6, 1.7, 1, 0.9). $$\n",
        "\n",
        "### Graph Laplacian \n",
        "**Definition**: Given a graph $G=(V, E, \\m{W})$ with size $|V|=N$, the graph Laplacian is defined as the following matrix,\n",
        " $$ \\m{L}=\\m{D}-\\m{W}\\in \\mb{R}^{N\\times N},\\ \\text{where }\\m{D}= \\text{diag}(\\m{W}\\mb{1}). $$\n",
        "\n",
        "**Property**: Let $\\m{L}\\in \\mb{R}^{N\\times N}$ be a graph Laplacian matrix.\n",
        "\n",
        "- $\\m{L}$ is symmetric.\n",
        "\n",
        "- All the rows (and columns) sum to 0, i.e., $\\m{L}\\mb{1}=\\mb{0}$. This implies that $\\m{L}$ has a eigenvalue 0 with eigenvector $\\mb{1}\\in \\mb{R}^N$.\n",
        "\n",
        "- For every $\\m{Z}\\in \\mb{R}^N$, we have \n",
        "$$\\m{Z}^\\top \\m{L}\\m{Z}=\\frac{1}{2}\\sum_{i,j}w_{ij}(\\m{z}^{(i)}-\\m{z}^{(j)})^2. $$\n",
        "This implies that $\\m{L}$ is positive semidefinite and accordingly, its eigenvalues are all nonnegative: $0=\\lambda_1 \\le \\lambda_2\\dots \\le \\lambda_N$.\n",
        "\n",
        "- The algebraic (and also geometric) multiplicity of the eigenvalue 0 equals the number of connected components of the graph.\n",
        "\n",
        "A little bit derivation:\n",
        "\n",
        "\\begin{align}\n",
        "&\\frac{1}{2}\\sum_{i,j}\\left(w_{ij}(\\m{z}^{(i)})^2+w_{ij}(\\m{z}^{(j)})^2 - 2w_{ij}\\m{z}^{(i)} \\m{z}^{(j)} \\right) =\\sum_{ij} w_{ij}(\\m{z}^{(i)})^2-w_{ij}\\m{z}^{(i)} \\m{z}^{(j)} \\\\\n",
        "&=\\sum_i (\\sum_j w_{ij})(\\m{z}^{(i)})^2-\\sum_{ij}\\m{z}^{(i)} w_{ij}\\m{z}^{(j)} \\\\\n",
        "& =\\m{Z}^\\top (\\m{D}-\\m{W})\\m{Z} =\\m{Z}^\\top \\m{L}\\m{Z}\n",
        "\\end{align}\n",
        "\n",
        "\n",
        "For the example above (which is connected), \n",
        "\\begin{align}\n",
        " \\m{L}=\\begin{pmatrix}1.6 & -0.8 & -0.8 & 0 & 0 \\\\ \n",
        "                        -0.8 & 1.6 & -0.8 & 0 & 0 \\\\ \n",
        "                        -0.8 & -0.8 & 1.7 & -0.1 & 0 \\\\ \n",
        "                        0 & 0&-0.1 & 1 & -0.9 \\\\ \n",
        "                        0 & 0 & 0 &-0.9 & 0.9 \\end{pmatrix}\n",
        "\\end{align}\n",
        "\n",
        "\n",
        "the eigenvalues\n",
        "of the graph Laplacian are $0 < 0.0788 < 1.8465 < 2.4000 < 2.4747$.\n",
        "\n",
        "\n",
        "\n",
        "\n"
      ],
      "metadata": {
        "id": "0nlmFoy6-9j8"
      }
    },
    {
      "cell_type": "markdown",
      "source": [
        "\n",
        "\n",
        "---\n",
        "\n",
        "\n",
        "Consider the modified graph (which has two connected\n",
        "components)\n",
        "\n",
        "\\begin{align}\n",
        " \\m{W}=\\begin{pmatrix}0 & 0.8 & 0.8 & 0 & 0 \\\\ \n",
        "                        0.8 & 0 & 0.8 & 0 & 0 \\\\ \n",
        "                        0.8 & 0.8 & 0 & 0 & 0 \\\\ \n",
        "                        0 & 0&0 & 0 & 0.9 \\\\ \n",
        "                        0 & 0 & 0 &0.9 & 0 \\end{pmatrix}\n",
        "\\end{align}\n",
        "\n",
        "\n",
        "It can be shown that\n",
        "$$ \\text{det}(\\lambda \\m{I}-\\m{L})=\\lambda^2(\\lambda -2.4)^2(\\lambda-1.8)$$\n",
        "\n",
        "Thus, the graph Laplacian has a repeated eigenvalue 0, with multiplicity 2 (which is equal to the number of connected components)."
      ],
      "metadata": {
        "id": "j-CZGZ5jGRB4"
      }
    },
    {
      "cell_type": "markdown",
      "source": [
        "\n",
        "\n",
        "---\n",
        "\n",
        "\n",
        "Another example with binary weighting, then $m{W}$ is the adjacency matrix. "
      ],
      "metadata": {
        "id": "05cVCzVJc1gY"
      }
    },
    {
      "cell_type": "code",
      "source": [
        "display(Image(url='https://github.com/yexf308/AdvancedMachineLearning/blob/main/image/laplacian.png?raw=true', width=800))"
      ],
      "metadata": {
        "colab": {
          "base_uri": "https://localhost:8080/",
          "height": 203
        },
        "id": "eYavywCtdDd0",
        "outputId": "f1f48309-fe35-46f8-8e08-5dce552ef777"
      },
      "execution_count": 4,
      "outputs": [
        {
          "output_type": "display_data",
          "data": {
            "text/html": [
              "<img src=\"https://github.com/yexf308/AdvancedMachineLearning/blob/main/image/laplacian.png?raw=true\" width=\"800\"/>"
            ],
            "text/plain": [
              "<IPython.core.display.Image object>"
            ]
          },
          "metadata": {}
        }
      ]
    },
    {
      "cell_type": "markdown",
      "source": [
        "## Back to 1D Laplacian Eigenmaps problem\n",
        "\n",
        "It embeds the nodes of a similarity graph $G=(V, E, \\m{W})$ into a line:\n",
        "\n",
        "$$ \\min_{\\m{Z}^\\top \\mb{1}=0,\\m{Z}\\ne 0}\\frac{\\frac{1}{2}\\sum_{ij}w_{ij}(\\m{z}^{(i)} - \\m{z}^{(j)})^2}{\\sum_{i} (\\m{z}^{(i)})^2}$$\n",
        "\n",
        "With the help of graph laplacian, we can rewrite the above\n",
        "problem as follows:\n",
        "$$ \\min_{\\m{Z}^\\top \\mb{1}=0,\\m{Z}\\ne 0} \\frac{\\m{Z}^\\top \\m{L}\\m{Z}}{\\m{Z}^\\top\\m{Z}}$$\n",
        "\n",
        "This is a **Rayleigh quotient problem** with an\n",
        "extra constraint!! Refer to [PCA](https://github.com/yexf308/MAT592/blob/main/Module2/PCA1.ipynb)."
      ],
      "metadata": {
        "id": "ILrFml0Xkz5l"
      }
    },
    {
      "cell_type": "markdown",
      "source": [
        "- **Without the extra constraint $\\m{Z}^\\top\\mb{1}=0$**, a minimizer of the Rayleigh quotient is an eigenvector of the graph Laplacian $\\m{L}$ corresponding to the smallest eigenvalue $\\lambda_1=0$ is $\\m{Z}^*=\\m{v}_1=\\mb{1}$. Because the objective function is always non-negative and $\\m{Z}^*=\\mb{1}$ gives the value 0. \n",
        "\n",
        "  However, this is a trivial solution which puts all nodes of the graph at the same point of a line.\n",
        "\n",
        "- **With the extra constraint**, we force $\\m{Z}$ to be **perpendicular to the smallest eigenvector**. The minimizer of this new problem is given by the second smallest eigenvector of $\\m{L}$, $\\m{Z}^*=\\m{v}_2$ and the minimum value of the Rayleigh quotient is $\\lambda_2$. \n",
        "\n",
        "- Remember if the similarity graph is connected (which is the interesting, nontrivial\n",
        "case), the algebraic (and geometric) multiplicity of the eigenvalue 0 is one. Consequently, we must have $\\lambda_2>0$, and $(\\m{Z}^*)^\\top\\m{L}\\m{Z}^* = \\lambda_2 (\\m{Z}^{*})^2 >0  $. This shows that $\\m{Z}^*=\\m{v}_2$ will lead to a nontrivial embedding of the graph.\n",
        "\n",
        "\n",
        "For the graph below (which is connected), the second smallest\n",
        "eigenvector is $\\lambda_2 =0.0788, \\m{v}_2= (−.3771,−.3771,−.3400, .5221, .5722).$ It splits into two parts, left three vertices and right two vertices. "
      ],
      "metadata": {
        "id": "bv3TyaiTuZ05"
      }
    },
    {
      "cell_type": "markdown",
      "source": [
        "## Original Laplacian Eigenmaps algorithm\n",
        "The original Laplacian\n",
        "Eigenmaps algorithm proposed by Belkin and Niyogi (2003) corresponds\n",
        "to solving the following problem:\n",
        "$$ \\min_{\\m{Z}^\\top \\m{D}\\mb{1}=0,\\m{Z}\\ne 0}\\frac{\\m{Z}^\\top \\m{L}\\m{Z}}{\\m{Z}^\\top\\m{D}\\m{Z}}$$\n",
        "\n",
        "Similarly, $\\m{Z}^\\top\\m{D}\\m{Z}$ removes the scaling factor and the constraint $\\m{Z}^\\top \\m{D}\\mb{1}=0$ removes the translational invariance and the trivial solution. \n",
        "\n",
        "This is a **generalized Rayleigh quotient problem** with an\n",
        "extra constraint!!\n",
        "\n",
        "- **Without the extra constraint $\\m{Z}^\\top\\m{D}\\mb{1}=0$**, the solution of the generalized\n",
        "Rayleigh quotient problem is the smallest eigenvector $\\m{v}_1$ of $\\m{D^{-1}L}$, $\\ \\m{D^{-1}L}\\m{v}_1=\\lambda_1\\m{v}_1 $, which is the trivial solution $\\m{Z}^*=\\mb{1}$ The reason is \n",
        "  -  $\\frac{\\m{Z}^\\top \\m{L}\\m{Z}}{\\m{Z}^\\top\\m{D}\\m{Z}}\\ge 0 $ and $\\frac{\\mb{1}^\\top \\m{L}\\mb{1}}{\\mb{1}^\\top\\m{D}\\mb{1}}=0$. So $\\m{Z}^{*}=\\mb{1}$ is the minimizer. \n",
        "  - $\\m{D^{-1}L} \\mb{1}=\\m{D^{-1}}(\\m{L}\\mb{1})=0\\cdot \\mb{1}$. This implies $\\m{v}_1=\\mb{1}$ for the smallest eigenvalue $\\lambda_1=0$. \n",
        "\n",
        "\n"
      ],
      "metadata": {
        "id": "L_Flzl26bX4u"
      }
    },
    {
      "cell_type": "markdown",
      "source": [
        "### Normalized Graph Laplacian.\n",
        "\n",
        "\n",
        "Given a graph $G=(V, E, \\m{W})$ with size $|V|=N$ and the graph Laplacian $\\m{L}=\\m{D}-\\m{W}$. \n",
        "-  Random walk normalized Laplacian is defined as $\\m{L}^{\\text{rw}}=\\m{D}^{-1}\\m{L}$.\n",
        "The element of $\\m{L}^{\\text{rw}}$ is \n",
        "\\begin{align}\n",
        "\\m{L}^{\\text{rw}}_{ij} =  \n",
        "\\begin{cases}1 &\\text{if $i=j$ and $d_i\\ne 0$} \\\\ \n",
        "             -\\frac{w_{ij}}{d_i} & \\text{if $i\\ne j$ and $w_{ij}>0$} \\\\\n",
        "             0 & \\text{Otherwise}\\end{cases}  \n",
        "\\end{align}\n",
        "\n",
        "- Symmetric normalized Laplacian is defined as $\\m{L}^{\\text{sym}}=\\m{D}^{-1/2}\\m{L}\\m{D}^{-1/2}$. The element of $\\m{L}^{\\text{sym}}$ is \n",
        "\\begin{align}\n",
        "\\m{L}^{\\text{sym}}_{ij} =  \n",
        "\\begin{cases}1 &\\text{if $i=j$ and $d_i\\ne 0$} \\\\ \n",
        "             -\\frac{w_{ij}}{\\sqrt{d_id_j}} & \\text{if $i\\ne j$ and $w_{ij}>0$} \\\\\n",
        "             0 & \\text{Otherwise}\\end{cases}  \n",
        "\\end{align}\n",
        "\n",
        "**Property**:\n",
        "- $\\m{L}^{\\text{rw}}\\mb{1}=\\mb{0}$, the row sums are 1 and it has eigenvalue 0 with eigenvector $\\mb{1}$. But $\\m{L}^{\\text{sym}}\\mb{1}\\ne\\mb{0}$.\n",
        "\n",
        "- $\\m{L}^{\\text{sym}}$ is symmetric and PSD, while $\\m{L}^{\\text{rw}}$ is not, but they are similar. \n",
        " $$ \\underbrace{\\m{D^{-1}L}}_{\\m{L}^{\\text{rw}}}=\\m{D^{-1/2}}\\underbrace{\\m{D^{-1/2}LD^{-1/2}}}_{\\m{L}^{\\text{sym}}}\\m{D^{1/2}}$$\n",
        " This implies that both matrices have the same eigenvalues\n",
        " $$0=\\lambda_1\\le \\lambda_2\\le \\dots \\le\\lambda_N $$\n",
        " \n",
        "- Additionally, it can be shown that the multiplicity of the 0 eigenvalue\n",
        "is also equal to the number of connected components in the graph.\n",
        "\n",
        "- A vector $\\m{v}$ is an eigenvector of $\\m{L}^{\\text{rw}}$ iff the vector $\\m{D^{-1}v}$ is an eigenvector of $\\m{L}^{\\text{sym}}$.\n",
        "\n",
        "$$ \\m{D^{-1}L}\\m{v}=\\lambda \\m{v} \\leftrightarrow  \\m{D^{-1/2}LD^{-1/2}}\\m{D^{1/2}v}=\\lambda \\m{D^{1/2} v}$$\n",
        "  In particular, for the eigenvalue $\\lambda_1=0$, the associated eigenvectors for $\\m{L}^{\\text{rw}}$ and $\\m{L}^{\\text{sym}}$ are \n",
        "\n",
        "  - $\\m{L}^{\\text{rw}}$: $\\m{v}_1=\\mb{1}$\n",
        "\n",
        "  -  $\\m{L}^{\\text{sym}}$: $\\m{v}_1=\\m{D}^{1/2}\\mb{1}$"
      ],
      "metadata": {
        "id": "fSxgZ7R9DpKZ"
      }
    },
    {
      "cell_type": "markdown",
      "source": [
        "### Solve original Laplacian Eigenmaps\n",
        "When the graph is connected, we will show that the minimizer is given by the second smallest eigenvector of $\\m{L}^{\\text{rw}}=\\m{D^{-1}L}$.\n",
        "\n",
        "- First, change of variables $\\tilde{\\m{Z}}= \\m{D}^{1/2}\\m{Z}$ such that \n",
        "$$ \\m{Z}^\\top \\m{L}\\m{Z}=\\m{Z}^\\top  \\m{D}^{1/2}  \\m{D}^{-1/2}\\m{L} \\m{D}^{-1/2} \\m{D}^{1/2}\\m{Z}=\\tilde{\\m{Z}}^{\\top}\\m{L}^{\\text{sym}}\\tilde{\\m{Z}} $$\n",
        "\n",
        "$$\\m{Z}^\\top \\m{D}\\m{Z}=\\m{Z}^\\top \\m{D}^{1/2}\\m{D}^{1/2}\\m{Z}= \\tilde{\\m{Z}}^{\\top}\\tilde{\\m{Z}}$$\n",
        "\n",
        "- Then we obtain the following equivalent problem:\n",
        "   $$ \\min_{\\tilde{\\m{Z}}^\\top (\\m{D}^{1/2}\\mb{1})=0,\\tilde{\\m{Z}}\\ne 0} \\frac{\\tilde{\\m{Z}}^\\top \\m{L}^{\\text{sym}}\\tilde{\\m{Z}}}{\\tilde{\\m{Z}}^\\top\\tilde{\\m{Z}}}$$\n",
        "\n",
        "- It is equivalent with the previous optimization problem. Then the optimal $\\tilde{\\m{Z}}$ is given by the second smallest eigenvector of $\\m{L}^{\\text{sym}}$. Because $\\m{D}^{1/2}\\mb{1}$ is the eigenvector corresponding to the smallest eigenvalue $\\lambda_1=0$.\n",
        "\n",
        "- In the original variable $\\m{Z}$, this becomes\n",
        "$$\\m{L}^{\\text{sym}} \\m{D}^{1/2}\\m{Z}=\\lambda_2 \\m{D}^{1/2}\\m{Z} \\rightarrow \\m{D^{-1}L}\\m{Z}=\\lambda_2 \\m{Z}$$\n",
        "\n",
        "Thus the optimal $\\m{Z}$ is given by the second smallest eigenvector of $\\m{L}^{\\text{rw}}$. \n",
        "\n",
        "With the example above, the normalized graph Laplacian is \n",
        "\\begin{align}\n",
        " \\m{D^{-1}L}=\\begin{pmatrix}1 & -0.5 & -0.5 & 0 & 0 \\\\ \n",
        "                        -0.5 & 1 & -0.5 & 0 & 0 \\\\ \n",
        "                        −0.4706 & −0.4706 & 1& −0.0588 & 0 \\\\ \n",
        "                        0 & 0&-0.1 & 1 & -0.9 \\\\ \n",
        "                        0 & 0 & 0 &-1 & 1 \\end{pmatrix}\n",
        "\\end{align}\n",
        "Its second smallest eigenvector (corresponding to  $\\lambda_2 = 0.0693$) is\n",
        "$$\\m{v}_2 = (−0.2594,−0.2594,−0.2235, 0.6152, 0.6610).$$\n",
        "\n",
        "Compare with the unnormalized graph Laplacian $\\m{L}$:\n",
        "$$\\lambda_2 =0.0788, \\m{v}_2 = (−0.3771,−0.3771,−0.3400, 0.5221, 0.5722) $$\n",
        "\n"
      ],
      "metadata": {
        "id": "3Rg8LXFnLG-U"
      }
    },
    {
      "cell_type": "markdown",
      "source": [
        "### Which graph Laplacian $\\m{L}, \\m{L}^{\\text{rw}}$ should be used?\n",
        "\n",
        " They correspond to two different formulations of the embedding problem\n",
        "$$  \\min_{\\m{Z}^\\top \\mb{1}=0,\\m{Z}\\ne 0} \\frac{\\m{Z}^\\top \\m{L}\\m{Z}}{\\m{Z}^\\top\\m{Z}} \\ \\text{ verse  } \\ \\min_{\\m{Z}^\\top \\m{D}\\mb{1}=0,\\m{Z}\\ne 0}\\frac{\\m{Z}^\\top \\m{L}\\m{Z}}{\\m{Z}^\\top\\m{D}\\m{Z}}  $$\n",
        "\n",
        "The two criteria work the same when all nodes of the graph have the same degrees (i.e., $\\m{D}=\\lambda\\m{I}$ for some $\\lambda>0$.)\n",
        "\n",
        "In general, the **normalized graph Laplacian** should be used.\n",
        "\n"
      ],
      "metadata": {
        "id": "0gvFnYRpuB-q"
      }
    },
    {
      "cell_type": "markdown",
      "source": [
        "## Embedding graph data to 2D or higher\n",
        "To produce a $d$-dimensional embedding of the nodes of a connected graph $G=(V, E, \\m{W})$, one can just take more eigenvectors of the normalized Laplacian $\\m{L}^{\\text{rw}}=\\m{D}^{-1}\\m{L}$, i.e, the embedding matrix is \n",
        "\\begin{align}\n",
        "\\m{Z} =[\\m{v}_2, \\dots, \\m{v}_{d+1}]\\in \\mb{R}^{N\\times d} \n",
        "\\end{align}\n",
        "The rows of $\\m{Z}$ are new coordinates for the original data points $\\m{x}^{(i)}\\in \\mb{R}^d$.\n",
        "\n",
        "Equivalently, we could formulate the following minimization problem over a $d$-dimensional embedding matrix $\\m{Z}=[\\m{z}^{(1)}, \\dots, \\m{z}^{(N)}]^\\top \\in \\mb{R}^{N\\times d}$,\n",
        "$$\\min_{\\m{Z}^\\top \\m{D}\\m{Z}=\\m{I}, \\m{Z}^\\top \\m{D} \\mb{1}=\\mb{0}}\\frac{1}{2}\\sum_{ij}w_{ij}\\|\\m{z}^{(i)}-\\m{z}^{(j)}\\|^2=\\min_{\\m{Z}^\\top \\m{D}\\m{Z}=\\m{I}, \\m{Z}^\\top \\m{D} \\mb{1}=\\mb{0}}\\text{trace}(\\m{Z}^\\top \\m{L}\\m{Z}) $$\n",
        "It turns out that the solution is given by the same eigenvectors of $\\m{L}^{\\text{rw}}$. \n"
      ],
      "metadata": {
        "id": "5-h3YdQJwbdz"
      }
    },
    {
      "cell_type": "markdown",
      "source": [
        "## The Laplacian Eigenmaps algorithm\n",
        "**Input:** Similarity graph $G=(V, E, \\m{W})$, embedding dimension $d$.\n",
        "\n",
        "**Output:** A $d$-dimensional representation of the input data ($\\m{Z}\\in\\mb{R}^{N\\times d}$). \n",
        "\n",
        "- Compute the normalized graph Laplacian\n",
        "$$ \\m{L}^{\\text{rw}} =\\m{D}^{-1}\\m{L}= \\m{I}-\\m{D}^{-1}\\m{W}$$\n",
        "where $\\m{D}=\\text{diag}(\\m{W}\\mb{1})$.\n",
        "\n",
        "- Find the eigenvectors of $\\m{L}^{\\text{rw}}$ corresponding to the second to $(d+1)$st smallest eigenvalues\n",
        " $$\\m{L}^{\\text{rw}} \\m{v}_i = \\lambda_i\\m{v}_i, \\qquad i=2,\\dots,d+1 $$\n",
        "\n",
        "- Return: $\\m{Z}=[\\m{v}_2, \\dots, \\m{v}_{d+1}]\\in \\mb{R}^{N\\times d}.$\n"
      ],
      "metadata": {
        "id": "zBGnyp1g6Ru6"
      }
    },
    {
      "cell_type": "code",
      "source": [
        "from scipy.sparse.csgraph import connected_components\n",
        "\n",
        "def similarity(dist,t):\n",
        "  return exp(- (dist*dist)/t) \n",
        "\n",
        "\n",
        "def eps_ball(dist_matrix,eps):\n",
        "   '''Output the index of nearest neighbor for each i'''\n",
        "   N = dist_matrix.shape[1]\n",
        "   nn_matrix = []\n",
        "   for i in range(N):\n",
        "     nn_i = []\n",
        "     for index, d in enumerate(dist_matrix[i,:]):\n",
        "       if d < eps and index != i:\n",
        "         nn_i.append(index)\n",
        "     nn_matrix.append(nn_i)\n",
        "\n",
        "   return nn_matrix      \n",
        "\n",
        "\n",
        "\n",
        "## KNN to be done."
      ],
      "metadata": {
        "id": "nR1fmFZC6fAh"
      },
      "execution_count": 6,
      "outputs": []
    },
    {
      "cell_type": "code",
      "source": [
        "def construct_nearest_graph(dist_matrix, method, t):\n",
        "  \"\"\" Compute weight matrix W\"\"\"\n",
        "  nn_matrix = method['fun'](dist_matrix, method['para'])\n",
        "  N = dist_matrix.shape[1]\n",
        "  # weight matrix\n",
        "  W = zeros([N,N])\n",
        "  for i in range(N):\n",
        "    for v in nn_matrix[i]:\n",
        "      W[i,v] = similarity(dist_matrix[i,v],t)\n",
        "  \n",
        "  # Check for connectivity\n",
        "  G =W.copy()\n",
        "  G[G > 0] = 1  \n",
        "  n_components = connected_components(csgraph=G, directed=False, return_labels=False)\n",
        "  return W, n_components\n"
      ],
      "metadata": {
        "id": "R0onzXHcM8It"
      },
      "execution_count": 51,
      "outputs": []
    },
    {
      "cell_type": "code",
      "source": [
        "def optimum_epsilon(dist_matrix, opt_eps_jumps, t):\n",
        "  \"\"\"\n",
        "  Compute epsilon for eps_ball\n",
        "        \n",
        "  To chose the minimum epsilon which guarantees G to be \n",
        "  connected, first, epsilon is set to be equal to the distance \n",
        "  from observation i = 0 to its nearest neighbour. Then\n",
        "  we check if the Graph is connected, if it's not, epsilon\n",
        "  is increased and the process is repeated until the Graph\n",
        "  is connected\n",
        "  \"\"\"\n",
        "  eps = min(dist_matrix[0,1:])\n",
        "  con = False\n",
        "  while not con:\n",
        "     eps     = opt_eps_jumps *eps\n",
        "     method = {'fun':  eps_ball,\n",
        "                'para': eps}\n",
        "     W, n_components =construct_nearest_graph(dist_matrix, method, t)\n",
        "     con = n_components == 1\n",
        "  return eps, W\n",
        "\n"
      ],
      "metadata": {
        "id": "NRbRgJaEcu1j"
      },
      "execution_count": 9,
      "outputs": []
    },
    {
      "cell_type": "code",
      "source": [
        "def LE(dist_matrix, method, options,t,d):\n",
        "\n",
        "  opt_eps_jumps = 1.4\n",
        "  eps, W = optimum_epsilon(dist_matrix, opt_eps_jumps, t)\n",
        "  method['para']=eps\n",
        "\n",
        "  N = dist_matrix.shape[1]\n",
        "  D = diag(W.sum(axis=1))  \n",
        "  L = D - W # unnormalized_laplacian\n",
        "  \n",
        "  if options == 'unnormalized':\n",
        "    eigval, eigvec = eigh(L)\n",
        "  elif  options == 'random':\n",
        "    Lr = eye(N)- (diag(1/D.diagonal())@W) # normalized_random_laplacian\n",
        "    eigval, eigvec = eig(Lr)\n",
        "  else:\n",
        "    d_half = diag(1/sqrt(D.diagonal()))\n",
        "    Ls =  d_half @ ( L @ d_half ) # normalized_symmetrized_laplacian\n",
        "    eigval, eigvec = eigh(Ls)\n",
        "\n",
        "  order = argsort(eigval)  \n",
        "  Z = eigvec[:, order[1:d + 1]]\n",
        "\n",
        "  return Z, eigval[order],method\n",
        "\n"
      ],
      "metadata": {
        "id": "9MN18eIbfOjr"
      },
      "execution_count": 169,
      "outputs": []
    },
    {
      "cell_type": "markdown",
      "source": [
        "# Swiss roll"
      ],
      "metadata": {
        "id": "e8jtvBtu9847"
      }
    },
    {
      "cell_type": "code",
      "source": [
        "from sklearn.datasets import make_swiss_roll\n",
        "import plotly.express as px\n",
        "\n",
        "n_samples = 1000\n",
        "noise = 0.05\n",
        "X, color = make_swiss_roll(n_samples, noise=noise)\n",
        "\n",
        "N = X.shape[0]\n",
        "dist_matrix = zeros([N,N])\n",
        "for i in range(N):\n",
        "  for j in range(N):\n",
        "    dist_matrix[i,j]=norm(X[i]-X[j],2)"
      ],
      "metadata": {
        "id": "3ePDqwgeLak_"
      },
      "execution_count": 177,
      "outputs": []
    },
    {
      "cell_type": "code",
      "source": [
        "method = {'fun':  eps_ball,\n",
        "          'para': 2}\n",
        "t =3    \n",
        "d =2 \n",
        "options = 'random'     "
      ],
      "metadata": {
        "id": "5g3aXwI5v54j"
      },
      "execution_count": 178,
      "outputs": []
    },
    {
      "cell_type": "code",
      "source": [
        "Z, eigval,method = LE(dist_matrix, method, 'random',t,d)"
      ],
      "metadata": {
        "id": "b6wHraZJt_mv"
      },
      "execution_count": 179,
      "outputs": []
    },
    {
      "cell_type": "code",
      "source": [
        "fig =  px.scatter(x=Z[:, 0], y=Z[:, 1], color=color)\n",
        "fig.show()"
      ],
      "metadata": {
        "colab": {
          "base_uri": "https://localhost:8080/",
          "height": 542
        },
        "id": "kSIKtJTxvrAP",
        "outputId": "8dd53229-c2b7-4dcf-a5dd-5cce959b2ba2"
      },
      "execution_count": 181,
      "outputs": [
        {
          "output_type": "display_data",
          "data": {
            "text/html": [
              "<html>\n",
              "<head><meta charset=\"utf-8\" /></head>\n",
              "<body>\n",
              "    <div>\n",
              "            <script src=\"https://cdnjs.cloudflare.com/ajax/libs/mathjax/2.7.5/MathJax.js?config=TeX-AMS-MML_SVG\"></script><script type=\"text/javascript\">if (window.MathJax) {MathJax.Hub.Config({SVG: {font: \"STIX-Web\"}});}</script>\n",
              "                <script type=\"text/javascript\">window.PlotlyConfig = {MathJaxConfig: 'local'};</script>\n",
              "        <script src=\"https://cdn.plot.ly/plotly-latest.min.js\"></script>    \n",
              "            <div id=\"f23ee2d5-4af5-4dd3-ad13-7d46125523fd\" class=\"plotly-graph-div\" style=\"height:525px; width:100%;\"></div>\n",
              "            <script type=\"text/javascript\">\n",
              "                \n",
              "                    window.PLOTLYENV=window.PLOTLYENV || {};\n",
              "                    \n",
              "                if (document.getElementById(\"f23ee2d5-4af5-4dd3-ad13-7d46125523fd\")) {\n",
              "                    Plotly.newPlot(\n",
              "                        'f23ee2d5-4af5-4dd3-ad13-7d46125523fd',\n",
              "                        [{\"hoverlabel\": {\"namelength\": 0}, \"hovertemplate\": \"x=%{x}<br>y=%{y}<br>color=%{marker.color}\", \"legendgroup\": \"\", \"marker\": {\"color\": [11.704148839936932, 13.793680971303012, 5.06054158509663, 5.895692148991476, 12.988176306834054, 8.567822359220727, 5.512679036149921, 7.451623616483853, 11.61663163344196, 5.715490622228822, 13.098558022940814, 6.087669291269727, 8.954126063303452, 8.063747011141745, 6.633178548225283, 10.404629297600613, 10.694144412426523, 5.822830475012176, 10.827055412440183, 4.730554098089319, 9.56599348551587, 9.8289592599339, 11.586288297347922, 11.392623207448414, 12.697043647750123, 6.1311016483544645, 13.443602356452251, 12.885864298422941, 13.937740492348395, 11.403960202967717, 11.167479041907983, 13.879953258788708, 8.939992596309919, 9.66078575021575, 13.451994059833828, 12.467349692955375, 9.503226669005166, 10.154083753640792, 7.039489276117228, 5.834787864590121, 7.067393096447415, 8.415883925127067, 8.483501463585192, 9.749219556393534, 10.36640868144429, 14.077175682181029, 11.895511969969224, 14.015113214164037, 8.627697055563027, 8.42654749647405, 8.495039066012003, 10.820599782511152, 10.029950304000783, 4.992186961520183, 13.8758875007914, 12.151576227824249, 8.594854753609544, 14.071972990507756, 7.126933382114913, 10.20112987422335, 9.488061631406584, 8.742306939827243, 11.567389935692125, 10.353875203935853, 14.054926294231295, 6.250131310073603, 5.075068695146508, 10.897250556707565, 10.443584744139725, 9.725028490040371, 12.391667107092044, 13.145829109322577, 7.351029057077765, 7.73523261756933, 13.263529328563896, 8.128533412985307, 13.166609948111123, 9.79117480898124, 10.466240106609261, 9.999251426059502, 7.35251315018404, 13.742830084685911, 13.680787930968753, 10.148948126898274, 9.955394266008401, 6.377650984000037, 11.1457006592776, 7.5142151013957825, 6.391284224295422, 10.147863730906952, 8.472965787127865, 10.668466974571935, 7.10327938110656, 12.314970549809493, 10.03533639725132, 13.287951177975438, 8.93609439809261, 10.33680379016456, 14.000695294656063, 11.476461317409246, 8.658171489030597, 7.764643517715818, 6.219282858835472, 10.392781080429325, 7.2155560059016715, 8.605602732268864, 11.009178637050631, 12.837018407013485, 8.445163336881288, 12.233740745731696, 8.262667654945037, 11.778167128228901, 9.365021844064058, 5.742962364086353, 6.3410445425849575, 9.049536941874553, 8.290157894011676, 12.079920400345394, 12.085659195755632, 13.532874609209212, 12.971969759430333, 10.182715305332685, 12.864945841312936, 9.58181447422354, 6.675466444409603, 12.988448916809094, 9.041605626646763, 8.215371559302765, 10.756596709305292, 9.679999634762337, 5.880527947065143, 5.007749660384436, 9.378407600183365, 13.056274644487733, 11.512424868257694, 10.552548230411993, 12.311217670521657, 8.777299357209001, 10.059570107818596, 13.219208683973216, 11.333146023877998, 9.901559697574154, 9.157727408184282, 8.468315738641593, 6.787308750638211, 5.054148124451831, 8.682363890080607, 8.199451051714329, 13.195728809708644, 6.572703781549258, 12.728272856462162, 12.092448711488643, 8.70780523787733, 8.340910535855535, 6.121249239638054, 5.8013524383532395, 6.364833336953554, 8.618333051496757, 10.630185905864073, 6.195165980935919, 8.109179585457264, 12.611048727683063, 12.331796628951071, 11.523795289941345, 7.422415566987335, 13.792004167396613, 6.84654863531692, 12.213609465776544, 11.137578686185535, 12.456945793888721, 11.846858408609155, 5.291654468766679, 9.841914908678234, 7.90459829386661, 4.86728171282077, 7.531729368803061, 9.475588620028729, 7.716067405850653, 13.154756119047443, 10.848180419107468, 8.96949764676494, 12.347014406323895, 7.8197374765839776, 13.036790741506342, 10.93266451978863, 9.952270301250296, 7.080084879612285, 10.142039352655157, 12.81311818286345, 13.142384245729957, 11.272793163498783, 11.078185871598492, 9.95615172497481, 13.939080164180771, 13.041667092020983, 4.98689808879193, 9.18578037691471, 13.36772731803679, 7.459871077093293, 9.003986670232115, 13.578325495034077, 6.350689795458013, 13.036586118976313, 11.842194835734777, 8.925762367952823, 9.378924805293257, 8.675944952751673, 12.62553629894162, 9.28776583778607, 6.395731024696599, 10.260588080249299, 7.604658108375443, 13.399473841063667, 5.401562662670907, 12.117045674641927, 5.199452421439607, 11.155040611368113, 11.27265157050671, 5.756559857711929, 10.395721945608381, 10.717963116923867, 4.842409150507112, 9.595838692706685, 5.4248308983192715, 9.59517582253428, 12.621848682314239, 6.69587553909352, 11.839214226577553, 9.100574993209012, 8.074654823258417, 12.747964089396831, 8.304199670153059, 9.05475012138728, 8.33017433722772, 10.7854080489201, 5.274311782254273, 13.461836479316132, 13.50742427991533, 12.237268824447291, 9.232444300834837, 12.363965117836226, 9.301388919405586, 7.824485404885859, 8.235188193982836, 5.098175457484994, 10.126117700846521, 14.021528426507738, 7.494725863007062, 10.134697597997754, 9.595357365803443, 13.207566358859816, 7.287056424194631, 11.690245138607965, 10.00064380457237, 11.411992280562535, 6.5218571926659346, 9.21276790712705, 6.349091655067938, 6.565049631071751, 9.077466189914873, 6.729069750936806, 8.195108312852122, 13.821130945571289, 9.35233961891414, 6.28353415619287, 13.520340337139357, 13.197966276704888, 9.716626134001173, 9.122499423810678, 12.494340587313705, 14.08117444517956, 13.685778237074222, 12.383030749364288, 6.350238646699516, 10.101243583227976, 11.572482991003852, 9.593151564069945, 9.03244176839553, 8.881710416828238, 7.522208343490471, 11.599010473968281, 12.627827062140902, 6.56436396639047, 11.984176473935063, 7.57266016461158, 5.412358179818583, 12.06568744517882, 6.50601843008875, 12.527038254375555, 10.753597285249487, 9.518758766529011, 12.560173090459806, 13.043665397059769, 5.134717903047954, 6.262601838229366, 6.148645258170541, 13.949235332778867, 11.7081195696162, 13.343416057987286, 5.467544094714051, 12.945747978836613, 5.490935423173563, 9.139467442427897, 13.662080428145044, 9.447725586752522, 7.609819924776477, 11.143426477312058, 6.175345766974484, 13.620342805052196, 11.333734052681585, 7.680980027770596, 13.483965364319644, 7.673250843836208, 8.043102425662406, 8.245105421589273, 8.020817590311346, 10.137915427888997, 10.151107876845668, 13.205839548064423, 10.93004034482225, 6.867253454077397, 5.376481518618312, 12.506612978341016, 10.0466448355705, 11.34583166923394, 5.365657488164764, 13.197637531990809, 7.943810898130913, 5.775546009469884, 13.037754492236516, 12.883803277757808, 8.920344452438817, 6.19903802370329, 8.125066896402814, 6.006153529369716, 12.00789246273531, 13.709693519066336, 7.517837511983942, 6.619396921866373, 5.006267646873822, 10.582283995059344, 9.002916677964059, 5.315509155818263, 12.456593904282563, 10.960300549264227, 6.864769277598037, 11.984290693446066, 13.094980472001604, 13.44919226263155, 11.42971068493296, 8.376734353373141, 12.880202004455827, 11.64029296342141, 7.1726411793348746, 8.193990677936048, 12.110332400810995, 7.696169105751613, 11.837822942257723, 10.976219759064996, 8.261430487020675, 5.877940971584427, 12.53841910529153, 10.891203538612965, 12.977548231996405, 6.668201172191021, 9.021653410480667, 6.8033343277902185, 4.80584030315065, 9.190463820642588, 11.122457391426687, 12.548979486362242, 10.092891852389812, 5.301003871867011, 9.067069940163229, 13.137188900176215, 10.37278925532899, 11.55483153475363, 5.439234512919787, 7.805233824978294, 9.42283325639337, 7.7474642012728046, 8.524869216041866, 6.883122128812718, 8.274265567816812, 11.85490540825782, 12.312297247655273, 13.359570092371625, 12.585191496540434, 11.087114247399484, 13.412724163281025, 12.241350390212082, 4.712528178189092, 8.79506581843035, 10.920740359367331, 7.565446538193424, 9.957918006182714, 12.154218034024156, 4.794242251973837, 10.079629983960226, 5.8427846466523805, 4.785311525227198, 6.76671473315421, 12.841538929621086, 7.972904134059919, 13.541264491262758, 12.557646909676059, 7.144231426561779, 5.205067207025958, 13.48259449376708, 14.091261253001566, 9.795167078633952, 12.834143466832105, 5.125308005935239, 13.300093712545792, 9.035687153492775, 9.481669731800816, 11.728184257309886, 8.785532851358896, 9.418422056045346, 7.238292777783327, 6.249565299377564, 12.301907084787963, 5.4021027862745035, 10.938969081486253, 13.889831717915472, 12.232692607626579, 8.778438433645594, 6.8044377551735975, 14.100987926045244, 9.899625522464552, 10.353198566448723, 10.684913394974338, 12.686133274173763, 13.291133082794886, 9.974064979477102, 13.02324548529195, 8.074834662150215, 11.944334407239985, 6.9178724517164865, 13.778267702002246, 7.281665346688513, 6.123907991816781, 8.571933017551961, 12.291157704140677, 6.349794069622557, 10.218782408552443, 12.741539103912626, 11.782898677928697, 12.854443615121196, 9.40332930046879, 9.306586077075021, 11.242044073292279, 10.949658371410234, 6.139173846929132, 10.204236808029078, 5.556856732838849, 4.8513808348730985, 12.092995008393522, 10.554898726179928, 5.160530289564756, 13.45789401412836, 8.264046172606621, 13.294852886821221, 6.445354691263389, 6.5288782766719455, 5.835537026785992, 12.145554693027536, 11.440506529430365, 9.408353144788556, 9.691745273534908, 7.409345483866929, 5.290084660204091, 4.899266085617402, 12.543897803362317, 13.685304774977926, 5.093656032492173, 13.776683992008744, 8.240942072478115, 11.309032621641492, 7.801359392473734, 12.576728955369708, 9.810545269407125, 9.773688831682133, 5.581614933033447, 6.80815849889593, 5.719256082518146, 11.983339242540767, 12.12189732257329, 7.580712144376587, 9.200628839439233, 6.554688502057995, 5.472208054944053, 6.490870620459021, 12.67359013924791, 11.879483551016667, 5.355440997439126, 6.884861723598056, 9.158887034522257, 11.4594267381096, 5.8093192377010086, 8.32544710202192, 13.130429438441825, 8.852105018037687, 8.18404152062152, 10.632336482172438, 5.913710830662512, 13.713400400769535, 13.890455542682409, 13.580172063086929, 7.106025489187601, 5.768481209255603, 4.8014436862574845, 12.156378938852564, 11.861335657180218, 5.63345223332767, 8.129043952483958, 12.61020021010895, 11.029316149859381, 11.295422572756005, 4.82465309104966, 13.534568693819327, 7.584908632400204, 13.001306232089426, 10.808323988491791, 8.157955904281016, 12.713617869212316, 6.129453551862484, 13.277361621617006, 5.571217886377782, 10.838028211475718, 10.574762475305473, 13.839970269404569, 5.119843240101094, 12.340044869317845, 11.37381529804024, 11.0493648668753, 7.192451281648143, 12.458433578401761, 5.932437437385829, 11.008659077474487, 13.543949055091508, 13.701220082477382, 5.023423712935706, 12.395627618153686, 11.44290626364464, 7.3225175021245565, 9.94184136004196, 13.683469055027528, 9.416407937714524, 9.124798915693455, 13.96081239500517, 13.62210682909854, 10.298053452430151, 6.806173793611888, 9.843025797479655, 8.133527659238661, 9.029406373607628, 13.840198553704978, 9.632767179977087, 5.523600879771002, 7.1363686888248825, 10.010141405764225, 12.250986551807841, 6.010516577146919, 12.626583114793892, 7.952542943148997, 4.844585474353935, 9.34226905007424, 6.14911755816822, 8.495465245781906, 7.225062245587434, 10.843752045444633, 5.484229063565747, 5.623029905141055, 13.421771429123362, 10.206896720120085, 10.993435466885742, 8.75712800584592, 4.9424301774319, 12.280835281310408, 7.595987989822768, 6.335114886067596, 7.552196399723662, 13.087660035803832, 12.030027321313495, 9.755910292832983, 7.1823965998464665, 12.049110969938578, 11.571211787893207, 6.4679519075898835, 4.7419222345204375, 10.387302139682777, 13.678522065324275, 6.71593387423837, 9.557192132955935, 9.618700243250412, 12.723141109784203, 13.732057185814991, 10.117317337947853, 5.701788813975949, 13.193501406452494, 11.288434778206263, 13.376843577504332, 7.9034217498797, 6.7542095958371915, 10.59463368796395, 5.339231988448851, 11.672916303598598, 8.93823399334909, 6.2308398380068635, 8.0983687740923, 11.66842670943299, 5.7611431619285804, 10.866445387230678, 5.672255056981746, 5.697260817140417, 11.770530297651389, 12.87450170285364, 10.505865345519409, 11.171383708951685, 13.709099141953729, 7.018777513871354, 9.711175544484831, 6.691279932690342, 7.188890643390096, 5.68151067473589, 11.541813560235061, 6.289525323025855, 7.962290905438978, 12.710969598520132, 13.796993190338833, 14.072753416229038, 7.752774081870652, 9.320144779137456, 12.184111186913977, 7.1790190734883, 7.641246766368132, 6.6285435519936, 6.702428720994229, 6.364588470256211, 6.26802849589492, 12.046266913324734, 13.559590055426513, 11.663709656692532, 5.354762227236612, 9.428031835948266, 9.98428413887209, 9.588177226444282, 7.545945823488743, 5.0784801484920425, 13.74490960868911, 12.248206493137767, 8.994491755810984, 10.887570165446892, 12.23787655710819, 13.90512075469412, 13.92187811435527, 10.54429550628376, 11.736183140760742, 11.052040892968536, 10.350465358404819, 8.49576792936145, 11.946065811907147, 7.7024594184092665, 5.44664851129996, 13.353379741379278, 8.667930814807965, 13.088704947686805, 7.062035608435983, 5.134096347764691, 5.4946792020114295, 13.489762204869052, 11.186655166165426, 7.391136289091267, 9.256079105423067, 6.593912635538374, 7.70655339612095, 11.669054949147107, 9.774575623400942, 7.510273304986554, 10.83176545205256, 11.72915238997092, 6.159847590604369, 7.596105396105831, 13.243875986978626, 6.255510134389628, 8.680061611258955, 6.181114759476778, 12.176095109689195, 12.65620706672442, 9.144801905627244, 7.484882815174351, 9.501488200681031, 6.8893858546534394, 5.356425269869032, 6.788162326511487, 6.761005280151214, 12.93400386106826, 13.472754821715284, 5.621842674223947, 13.115389730593463, 7.5678836314506235, 5.927384118805581, 7.5392028503122095, 7.890740897261822, 6.133970892141534, 11.938758622693568, 12.337841060664262, 10.196075127023358, 5.433195834873573, 8.866398683818854, 4.906464617863383, 8.03823499260007, 9.39131805205634, 10.30082383897307, 12.155288773736718, 12.767862253991417, 9.953642135839585, 12.933566265369723, 4.785368032096443, 6.670290607478282, 11.629291848714237, 10.366882440288835, 12.27126797486592, 12.155185941707058, 13.671876796272047, 7.172487588708612, 5.112089384552821, 8.254319100789052, 12.650842461140819, 8.967059592403158, 11.840484215939155, 13.882733512337476, 5.222807036206133, 6.559497527293803, 7.629775729592612, 6.437329359541119, 8.373206324253958, 11.164404649924093, 11.561946909184345, 11.190833791514047, 12.511407564137945, 7.426575381741792, 5.5721066616973065, 6.293757392929832, 10.020444260705721, 6.3867472848344535, 5.043392850614138, 11.239580927154298, 9.963503718709777, 7.474765560417063, 12.423749939163457, 11.984407636152566, 5.309507053625162, 12.099794121891955, 5.644462336080194, 7.547532288137237, 6.4211531116898195, 6.9842483737900745, 7.322738351522951, 10.945898754969168, 10.753306228574655, 9.217253152871214, 5.608988213406118, 5.764746660899763, 10.584907982753995, 8.774337473992476, 7.738020175996124, 10.352763460554938, 9.43179871566239, 11.96896145751416, 5.6773168897782496, 8.035379195139653, 7.839525084847465, 12.899217776969953, 12.991666739708224, 7.779162118502116, 9.17640796543385, 10.354010671858221, 10.112328592747504, 5.904019754313847, 6.895989385124957, 5.385005875108665, 10.938811061500497, 8.72379405893036, 6.355020703770392, 13.296313752350747, 7.901076022620555, 11.224338595980338, 12.795788069481027, 7.879300156031409, 8.398831199503645, 7.639749450983411, 4.942303003994951, 10.963923968551613, 12.958837825380817, 9.836872336836265, 7.997891582184104, 8.320438901198061, 7.641464049889907, 10.33064485821791, 13.30896286074774, 10.62156192952256, 9.380332906627217, 7.054513889447033, 5.6284296840615475, 10.939868815727197, 11.862656016603813, 10.532703329314197, 8.146660135458623, 12.1129330089161, 11.006132196277878, 10.136773185262372, 12.1208402093058, 12.38246874107481, 5.8361449384024535, 8.408504998536152, 9.521380923335464, 6.684807556801686, 12.706114091230196, 10.675480732596819, 12.734458387607125, 13.652965525790492, 5.904049131057985, 5.080061899597031, 5.948168116769898, 14.104469191924611, 13.792084243188349, 11.130988362918448, 12.219221600842959, 12.93466357352399, 12.158010518246947, 8.129587124030143, 9.312452855686148, 13.668413626817365, 12.378391952598617, 5.3983250482660985, 7.1292147984587215, 13.85045895010653, 10.73162820649565, 8.584055926680682, 6.126943077729808, 4.838985437981546, 7.247991982460449, 7.6572389448031695, 6.1451411610422735, 6.911810673775804, 8.306030147724147, 5.92157004023572, 6.092551547316851, 13.432557612461196, 11.36472795566508, 8.345613413974984, 7.042739546310512, 4.724130291673285, 9.925761224690778, 10.227367893495439, 10.922173616755595, 10.615470000420084, 12.101294203014664, 4.878445667491279, 4.7740506556809645, 13.660855689240826, 12.118214243571414, 8.350505453275789, 13.371633509376926, 9.76252065236445, 5.091359243295122, 12.361932059785003, 8.754848155739634, 11.3035385122509, 5.648323076796078, 5.275667730899239, 9.566708144832633, 8.174596940884214, 13.722927285599262, 9.750912504435146, 10.012479263449444, 12.492032810735507, 8.258583952011918, 14.086522605905893, 9.773942851188343, 12.937715287032187, 9.841894804903317, 12.650523606498364, 12.931242418469306, 5.674547968436828, 7.934420723778936, 8.772268147195831, 13.491559413043184, 6.52026898507197, 11.856412078009312, 13.609493441641389, 14.097497729092462, 8.936256000845315, 8.581146249771571, 12.26521831728012, 13.350506098150596, 4.976401772072227, 12.586655637978708, 12.199488302126847, 8.929793360770368, 13.182758265991245, 13.180163664903898, 12.416382747357337, 13.317507597736656, 10.668028490009121, 6.653386397412345, 8.992500503831716, 9.762634564504973, 7.790864840802844, 9.008732295417083, 4.8416575375732425, 5.317897446994453, 11.303640504538144, 5.411481075748462, 10.914387753147018, 10.056205840934073, 6.122639593728714, 7.445482805246843, 6.033824599037568, 9.618357999727529, 6.611317186427912, 6.417541110572302, 11.604173109372747, 9.658855830861087, 13.79536878791369, 7.525573296040977, 7.5110634089157085, 5.715812903986508, 11.664845257063428, 6.632500334562942, 10.993387773448937, 12.769485341227519, 13.479024017166699, 6.255379278897591, 9.798731076634564, 7.16023085321502, 8.538266769704645, 9.493859431994998, 6.947913218430837, 10.545253501483817, 8.302161526989762, 8.24493461687349, 13.900417958055465, 9.714492052305658, 4.825337991148186, 7.748554752478176, 5.091239798706805, 9.04188386858134, 6.608895182503509, 7.9820598824357925, 11.513135790140568, 7.9677847919618285, 12.794937611971745, 12.92006687375476, 9.75467905140908, 7.190312459161857, 5.665716434452522, 6.041145847165245, 12.29152303425299, 7.938024879094938, 6.433296055527674, 7.016523960527248, 12.933403714632057, 13.861455648704826, 8.08264706494389, 7.14638595930444, 13.03379392325418, 7.528519643555648, 4.730946478372675, 8.75411356606096, 7.989106535236072, 12.932132869938117, 6.905983631705626, 7.976383340450861, 6.467965356442844, 9.620707928344014, 5.894008686890233, 11.626980219058971, 13.870455624668812, 9.58712531680484, 5.998722921922667, 12.382669395895324, 7.406486383901025, 10.369020568291313, 6.250559377026059, 4.9515040699741855, 9.866513134755587, 6.589454531813802, 10.08499121953313, 5.377697032748908, 6.9855696074810165, 13.005406822366778, 6.599332365129507, 11.185626747395341, 11.600704404674051, 6.619462601496183, 8.537528946054447, 13.64112019759181], \"coloraxis\": \"coloraxis\", \"symbol\": \"circle\"}, \"mode\": \"markers\", \"name\": \"\", \"showlegend\": false, \"type\": \"scatter\", \"x\": [-0.038374965050816084, -0.05845861139826349, 0.022959591025836477, 0.022546823458104024, -0.054092099178490324, 0.013357915308808128, 0.02295149376747088, 0.0194023502653101, -0.03563559454501826, 0.02281272560109306, -0.054789737906395485, 0.02229527865352574, 0.01135234932883558, 0.01981798047203746, 0.02236346101294678, 0.0026092708552696666, -0.0042421444948801445, 0.02267990141769029, -0.005375133724751651, 0.02300314572134854, 0.006793861884540592, 0.005674626025139475, -0.030680106305986193, -0.03508585595118845, -0.04448306047577063, 0.022262104801572695, -0.058643259841059794, -0.053235370979947266, -0.05896943172205091, -0.029401175755971648, -0.01007027758540257, -0.05858913698896248, 0.012287234020380965, 0.006981419855810413, -0.05861875915437051, -0.04763799250701565, 0.007950726913399916, 0.0026409822935493073, 0.02031286171209159, 0.022793194518196582, 0.020986780262360807, 0.015788877526063092, 0.013250937657390351, 0.006093720768785991, 0.0011882944417943026, -0.05984707294405857, -0.03948837023780793, -0.05899043045893554, 0.014065731285163651, 0.015662352886683856, 0.015133735427360219, -0.005346264301238912, 0.004673524961343309, 0.022946619656550104, -0.058638891295743144, -0.041830621487890254, 0.015110045697642767, -0.05894559452342597, 0.02184871653910833, 0.002466880511008135, 0.007428358886021259, 0.013164902429940506, -0.03062765530375383, 0.00043616783933447237, -0.06025975354982984, 0.022326313484932588, 0.022994904940183778, -0.007231403311839125, -1.0071963346126881e-05, 0.006150283718477017, -0.04854279663327791, -0.05487570839344091, 0.019570966572886036, 0.018827875259609717, -0.054986000702615695, 0.016570535494618295, -0.05510616892568956, 0.0060634885991612065, -0.0010741607341972616, 0.0038855129893461734, 0.01956039066761787, -0.060549051384634685, -0.05869192646153592, 0.002739033212564408, 0.005684365575535361, 0.022574316353562572, -0.010454483280751874, 0.019321269825630438, 0.022414494420256278, 0.0038554721946276655, 0.01327987484525355, -0.005036239284073329, 0.02022080202688971, -0.0458864439737124, 0.003338059016908398, -0.0597278717751006, 0.01193686288697905, 0.0009356574685363192, -0.06140636848265444, -0.030124913914676473, 0.014235968763726587, 0.017167005333822746, 0.02266494815152471, 0.0026082068832170013, 0.01995377089531298, 0.013207525221659064, -0.007772776034785958, -0.05207881488824761, 0.015719240867134818, -0.0476943035906172, 0.01682967875157069, -0.03620844120202331, 0.009489804180339985, 0.022769977137155825, 0.02209916913379438, 0.01034874751917491, 0.016718937618902648, -0.044586494359974034, -0.042252828007630305, -0.056810196751419705, -0.05347135540445966, 0.003538417599882135, -0.05319564839463405, 0.007984801473422388, 0.02150835418909901, -0.05435865403928471, 0.01175525823967188, 0.016617519409481817, -0.004811206010713275, 0.0069373672080653955, 0.022859667773433113, 0.022962166140118555, 0.009097158147857531, -0.05318019934667204, -0.03036788549180189, -0.003121519911234647, -0.04620670520006146, 0.013298929200620611, 0.004770301283418128, -0.05511288976049078, -0.026728826399986822, 0.00423719620138724, 0.011352787047214768, 0.01560431753763579, 0.02231032804229182, 0.022986058815753326, 0.013951587427268104, 0.0170351000508225, -0.05474856165379652, 0.02238345933714907, -0.05035350760072539, -0.04243780547609387, 0.013726729901343831, 0.016459724642086164, 0.02269185324889765, 0.022885270467467925, 0.022572347947609154, 0.012971707720776998, -0.00257599569596269, 0.022406955352849447, 0.019535295531721893, -0.04437622725501486, -0.04813954673365537, -0.03406103863236992, 0.018357501145789813, -0.06016182210871875, 0.021347853364362394, -0.047766841920771345, -0.008214588929892271, -0.04905916069666997, -0.03787813855112327, 0.022936351854814126, 0.005547765386563741, 0.01843741627230108, 0.02296828148520453, 0.019320195646061734, 0.008773471202127124, 0.018832846260224013, -0.054686008725555874, -0.005574887281391425, 0.012213875732039955, -0.04416797847856509, 0.018844869954223523, -0.05313100198790511, -0.007506688344985453, 0.005460407447234976, 0.02187070458758923, 0.003914539821338203, -0.05287535269049499, -0.05320863859742947, -0.02811875968416208, -0.009528244767735252, 0.004777048395281633, -0.058945523065006, -0.054004578530469964, 0.02299717764806634, 0.01072775693691181, -0.05959084680108508, 0.01941390099020014, 0.012015442153715986, -0.0586448940525815, 0.0220776006992565, -0.05315616622551944, -0.0372818962103341, 0.011998677319307335, 0.009387374410983088, 0.013995875762815439, -0.04946153933363048, 0.00905299258319823, 0.022084374704699768, 0.0019514058168955926, 0.021105197692726906, -0.05959413698058783, 0.022896061694909344, -0.0472218091288712, 0.022984600864965548, -0.008159645694824235, -0.026425672995526697, 0.022795702634610233, -0.00033523314867447626, -0.0065387351987491755, 0.02302380053868818, 0.007599754522029288, 0.022959603885910722, 0.008529815953929699, -0.04985607132976556, 0.021880606955485046, -0.03726739494931689, 0.011208018678195888, 0.01777183191913182, -0.05208918646385494, 0.016368727081307554, 0.011275700700468854, 0.01628471334730329, -0.005761094826248172, 0.022937068353036293, -0.05862466214256645, -0.056531677500998294, -0.044109967119556864, 0.009241387817988366, -0.04362643243750976, 0.009713853019044282, 0.01872435503574172, 0.019684760417435925, 0.022956022169683597, 0.002825774565784917, -0.058970054239453035, 0.017867684475490853, 0.002787508871541606, 0.008490376530839292, -0.05458398996824531, 0.021743901887996415, -0.03381063517379353, 0.00468129235784873, -0.025903321555666634, 0.022398428776049983, 0.010667873849946467, 0.022562558111411495, 0.021699225784824014, 0.011234460124762256, 0.021564937023505232, 0.016595497072447517, -0.05855681248010914, 0.009575760520496291, 0.02208188726582053, -0.05661322641834395, -0.05509318014462894, 0.008201202032969384, 0.009782062928774805, -0.04365606242407084, -0.06147639716143298, -0.057979446466533205, -0.04760329711582799, 0.021935747227901585, 0.002841788084110994, -0.034326513669021036, 0.007317637488831086, 0.011925788622860596, 0.01272274006930935, 0.01924774487528781, -0.0317582493102448, -0.04986505398305166, 0.022382393294542943, -0.0409643318010312, 0.017407697514992597, 0.022895397923597315, -0.04227038209258815, 0.022444795698546464, -0.043711795666459365, -0.0048220088221716355, 0.007913945973086006, -0.04956280143799473, -0.048787960372230696, 0.022979159673063066, 0.02218480520966425, 0.022625155451097285, -0.05892985267148707, -0.031934445355851555, -0.05966256889573041, 0.022893539556961797, -0.05271091490810422, 0.022874453899710163, 0.011077501158246803, -0.06085469112860255, 0.008117713592712694, 0.019000345736264673, -0.009475110398922851, 0.022669549127297055, -0.060588215723420595, -0.009442165361476249, 0.01730079228347503, -0.058639657006788755, 0.017765026064649667, 0.016850112738618243, 0.016352869559475586, 0.016869645021826803, 0.00375383355302793, 0.003688986567831936, -0.05506063269904647, -0.010334808041079366, 0.021285740715737914, 0.02290576186333446, -0.04630722080400023, 0.0030826263506219358, -0.02834359899324517, 0.022860938949307075, -0.054870944349503854, 0.018007291518613647, 0.022582566181340136, -0.05366005525993786, -0.05344322304208755, 0.011230270181356937, 0.022333329559134103, 0.017366049503103838, 0.022723336408111236, -0.04549952071853887, -0.0605900673937752, 0.019116135473430333, 0.022365656012164236, 0.022995381154611128, -0.0014543196792973902, 0.011521594466046172, 0.02297351846841553, -0.04741699227283678, -0.007592123087694772, 0.02177613864143538, -0.041193452963299106, -0.05318957985162525, -0.05977736908703986, -0.03598071713419589, 0.01601002050529415, -0.052340230000627284, -0.037686055289321764, 0.02016777977740549, 0.016529526981683786, -0.0471915542915442, 0.01898196754332723, -0.03893764130051866, -0.011145628730748895, 0.01629308454812363, 0.022727687681569842, -0.04603718945267868, -0.009431016908845244, -0.05275607797955967, 0.021583764812414353, 0.01172650910908442, 0.022291584019799974, 0.022969243799925865, 0.010651609021434394, -0.009614966107425193, -0.04948457469826341, 0.0036247680421752295, 0.02296505873807429, 0.010265241216817609, -0.054789396174389667, 0.0005131591538653031, -0.030375572131561234, 0.02293554006494404, 0.018673300476100774, 0.008403010015727545, 0.01895031028266081, 0.015291913662696676, 0.021855529949221277, 0.016232609190714127, -0.038888645708862246, -0.04796679774461615, -0.05974975002298944, -0.049038752696040105, -0.009543869437043516, -0.056004025118315426, -0.04585527744201104, 0.023026231895231588, 0.013050502925550465, -0.009557361055242256, 0.019350868509281683, 0.00496081189547705, -0.04343093834351141, 0.023003036446519038, 0.003974728714920148, 0.02277361135369689, 0.022982966964292383, 0.022346952824451014, -0.045043502180673455, 0.0180907663525686, -0.05665455203410728, -0.04624618369723663, 0.021836379301278963, 0.022976156400366904, -0.058540910772310155, -0.06146985484104816, 0.005881198292767933, -0.05225439989544501, 0.022985114485126457, -0.05526893516162983, 0.011305741782276264, 0.0074467992048605275, -0.03672676572849385, 0.0132556331925766, 0.0091281943363161, 0.019937772789761065, 0.022604552863354332, -0.04490798024836455, 0.022906299531429412, -0.007524365493101006, -0.058634251516002635, -0.04764595908496571, 0.013201974718760483, 0.021180484606155427, -0.061356277978396344, 0.00523063827249309, 0.00022159994743306186, -0.004448684452756178, -0.045236785118379925, -0.05525546406905809, 0.004640248951191598, -0.05364672603525936, 0.016747164349365407, -0.04413714739951829, 0.02218169956429724, -0.06092082556877529, 0.021765441366569414, 0.022688962720526156, 0.014466764704851953, -0.043277787341832664, 0.02222886897720756, 0.0034383477735196654, -0.044809956605135266, -0.038768395596573836, -0.04546872429204982, 0.007796944950994454, 0.008993906578004376, -0.010579167570515028, -0.009559930568826378, 0.02225425808033652, 0.003705815343868599, 0.02276588009403336, 0.022997900834770962, -0.04245472045945989, -0.002108772006289483, 0.02298371348227793, -0.05987115105224252, 0.016501924021238488, -0.05526434353484686, 0.022426120126884636, 0.021774158338742994, 0.022794403451670966, -0.04385149433878805, -0.02964632861568319, 0.008348257546596813, 0.006303674621491675, 0.021479994999262172, 0.02297508832198706, 0.023016922933040588, -0.04954780067230325, -0.05866230637880114, 0.022984901260591578, -0.06088560967139118, 0.01662836072142081, -0.010847769655401353, 0.018444606357104945, -0.04885356376591906, 0.005679748473130809, 0.005871779829073212, 0.022939980516713306, 0.022210275359197118, 0.02283164625646377, -0.04120575676121283, -0.042336309908701776, 0.019247704422991705, 0.010367663675997427, 0.021705792973502912, 0.02288827931416847, 0.02185770320718979, -0.044428905494937485, -0.038972294824842095, 0.022863855742922927, 0.020514680822897386, 0.010703930378695848, -0.036155265417454514, 0.02271876047566313, 0.016268481252255322, -0.05472062211419159, 0.012835761669042496, 0.016871160773136756, -0.0037151124007176605, 0.022744919476385902, -0.06089672671450605, -0.058692118173424734, -0.058379114428047225, 0.020194661671762103, 0.0229105581150182, 0.022994360884320653, -0.04524952030087906, -0.039220499188072536, 0.02282127358143308, 0.017368458168800262, -0.049748847790070036, -0.007840121363774098, -0.02735387016908972, 0.022969925996628858, -0.06037287745146906, 0.017381420640795994, -0.05388228172593984, -0.005280274039640802, 0.01659159396323662, -0.05026167703990963, 0.022453984294314847, -0.05508770018725792, 0.0227266166256685, -0.006439384297139255, -0.0034672530913507317, -0.06073837726533604, 0.022940855940887593, -0.04283419282569025, -0.026900337504091154, -0.008675235924779192, 0.021681971622810624, -0.04889064445293118, 0.02251023599872899, -0.008737430201197079, -0.060539644311946285, -0.06088806425174844, 0.023010604131026534, -0.046815341096033844, -0.029604569154423905, 0.021709551166129257, 0.00461297147061857, -0.06088328157794925, 0.008926116995436736, 0.010323019304052392, -0.061299377365866256, -0.06080791488053593, 0.0019685427120190273, 0.021124833635159684, 0.005887225172522475, 0.01721568164371337, 0.011748875917285883, -0.05887910311906631, 0.0075439908142349524, 0.022943894001214077, 0.021368130512028266, 0.004314521267108148, -0.045795636676498934, 0.022478939216898097, -0.0498114273157939, 0.016853792488276613, 0.02302283270172313, 0.009022988160067677, 0.022436711747307766, 0.015577162143102799, 0.02054292128906583, -0.006484557755143567, 0.02286574902920761, 0.022873971063176637, -0.05591700945368835, 0.002414403449167962, -0.009973145757759545, 0.012606025586061654, 0.022962379601179746, -0.042535283266619844, 0.019055652206194037, 0.022091210782210456, 0.017789273389599132, -0.05319441209824132, -0.041369374361988856, 0.0061434272316355076, 0.019938592317480054, -0.0418422794692756, -0.03523489993684629, 0.022522137748854372, 0.02297103884218976, 0.0027229721007466473, -0.05780444016774537, 0.021738408168818505, 0.007689081094400652, 0.008426413440125046, -0.050376946506698016, -0.06065216768033136, 0.0037845172751493038, 0.02280161420363707, -0.05379625838693483, -0.010773209896158, -0.055690452007260575, 0.016947382422101812, 0.02156233082627857, -0.0028996425570279, 0.022913640471449923, -0.03475787989980756, 0.011686486528665243, 0.02242482565617285, 0.017456195810470726, -0.03786398759964644, 0.022805520125918473, -0.006966670918464066, 0.022839918827356837, 0.022910850409184762, -0.036866065661487084, -0.05249598779424199, -0.0008457992443721482, -0.020402168651796497, -0.057975302015486445, 0.020414338867708666, 0.006310967064358692, 0.022365003882432975, 0.020064199283205488, 0.02274929192657859, -0.03421789381236321, 0.022416174096357402, 0.01740608377996972, -0.05046675206724251, -0.058564980570127975, -0.06137357990110758, 0.0208727777846508, 0.009195806019743544, -0.04375989843869608, 0.02010829171701489, 0.018055426007680262, 0.022374657544384773, 0.022332065576174356, 0.02184823171338329, 0.022379873575706883, -0.04384038504156766, -0.05862791759848344, -0.03298190763429226, 0.022877683930560607, 0.008283763316670616, 0.004804422406550952, 0.006711065096842663, 0.019272309751457384, 0.022990916619197478, -0.05876663160364771, -0.04300078855923327, 0.011836406502620864, -0.009495116878857499, -0.04545966405593436, -0.0586602626683435, -0.058963210393161325, -0.0015746356306322081, -0.032440452621019994, -0.009130653413593839, 0.0009374532613303543, 0.01576385438426265, -0.04059570212479849, 0.019071612555483793, 0.022899854835199178, -0.0554704673210133, 0.01338735261042039, -0.053183437453947, 0.021885002321486314, 0.02292275748397901, 0.0228760577821515, -0.05654719134993471, -0.010218625260454896, 0.01967313712107821, 0.009172097414860077, 0.022397853881670943, 0.020643275313235933, -0.03193425485563007, 0.005563843157284305, 0.019157984545528986, -0.006066481881392985, -0.0310779142220719, 0.02240350176487913, 0.01928967573402436, -0.05519072598556165, 0.02241442855772903, 0.013190481441130594, 0.022432818158039575, -0.047461330214199765, -0.044388029286795826, 0.011012736166912087, 0.019315928682502162, 0.007239136241136618, 0.0222341173459487, 0.02296914823569602, 0.021473511791213182, 0.022296336806449057, -0.05379820361006683, -0.05633578734959821, 0.022747415298535963, -0.0546523135545403, 0.018972617121998676, 0.022751815605597726, 0.019259854793858156, 0.016965214809303082, 0.022684973469924583, -0.03981460997760496, -0.04630650577595189, 0.003564340426813214, 0.02291383640361946, 0.012524766703855413, 0.023020675353053393, 0.01784657567136931, 0.009243006897249002, 0.003166015385204403, -0.04520729307559315, -0.05258936591321088, 0.004795343728043988, -0.053628166739105684, 0.022972242085581008, 0.022264551173864902, -0.03083612654524057, 0.00012827227862507632, -0.04538071142236184, -0.044185983811907935, -0.05776110852673049, 0.020593199923008447, 0.022955754733406466, 0.01631174500897952, -0.050484493323151115, 0.011040890465949974, -0.03839375214231634, -0.058594178954591, 0.02296821145993699, 0.02238879879677685, 0.019143943188536943, 0.02182730721468731, 0.01615125859162827, -0.00823236931004026, -0.03482321237735728, -0.009590795189813043, -0.04930280428902948, 0.019397791341609294, 0.02285523248010701, 0.022430256836141603, 0.0045902961341886175, 0.022424616965908514, 0.022981090168574102, -0.012292972261516563, 0.0036674631972934213, 0.01918967520969035, -0.04314477307811594, -0.04608907192321164, 0.022888309412494635, -0.04223178077875862, 0.022853032325353656, 0.019217878310582793, 0.022409989632172694, 0.021119997175307072, 0.019700232588963668, -0.006770137813466362, -0.005075592043736822, 0.009571125367328445, 0.02294017950571066, 0.022798019451618162, -0.0028186322544885975, 0.012890735872390386, 0.0208241095323983, 0.0006486349447359473, 0.009230971628654005, -0.04099940901327707, 0.02267657299505437, 0.017280217549186277, 0.01707079908478527, -0.05327427808363416, -0.05275828063428189, 0.018910638327158225, 0.010929419919334089, 0.0007302806296279368, 0.0038894824728277835, 0.022518132869577122, 0.021219354606061704, 0.02293449495213827, -0.009521058813256279, 0.013678182890572233, 0.02260107204662061, -0.05526157710672177, 0.018447481212150934, -0.0213314346604898, -0.05320645075595248, 0.018299468500289125, 0.016080029939240303, 0.019232258236022655, 0.0229919923738067, -0.009584027625912463, -0.05305710148000486, 0.00548533018774376, 0.017972724772897436, 0.01668921408377737, 0.019126415846335936, 0.0012612766079485062, -0.05531993036735799, -0.0024859199429348505, 0.009232708222625547, 0.02029001870806618, 0.022811444468171738, -0.009538309072010904, -0.039216198386054654, -0.001700189581463379, 0.016629691803614143, -0.04224201323746605, -0.007706326775524643, 0.003982609521926582, -0.04194842492290174, -0.0429680104698308, 0.022574096199935747, 0.01604134160748158, 0.007928524032711456, 0.021360541094727004, -0.05048926352513323, -0.005035317529714248, -0.044620019842649156, -0.05859975521123557, 0.02276757653974858, 0.02298976881629559, 0.022752316673079424, -0.061475265653499554, -0.06055135363688545, -0.009098698939029643, -0.042215163037763646, -0.05336310872749878, -0.041906673240060914, 0.017299498298723768, 0.009288146728123045, -0.06062427060299253, -0.048510401469040385, 0.022906945130400633, 0.020808374882541513, -0.060973489684711904, -0.005288844631187063, 0.013572336906237388, 0.022693367818568337, 0.022983406960586303, 0.019884492527359403, 0.01897810878219636, 0.022247708205235597, 0.02064843366482034, 0.01622593827175346, 0.022442934173093204, 0.022448331325037076, -0.056271248879159845, -0.028839623310921596, 0.016032441723618698, 0.021887285863719044, 0.0229722389288922, 0.0049570773794362, 0.002408190013118139, -0.009633201866051065, -0.003955605333515626, -0.04707940858081218, 0.02299534819860139, 0.02302603744314302, -0.06086060755751389, -0.04488118977927648, 0.016169170139804862, -0.0557838127450865, 0.0060481921315794305, 0.02299135935882213, -0.048358267641592706, 0.013151321023229998, -0.011172555240181414, 0.022833863037575845, 0.022930924567678555, 0.008423948556120865, 0.017082538243639, -0.06061515844070688, 0.006230736610049313, 0.005526975533195218, -0.04909912518828863, 0.016323760071249742, -0.06147370170774903, 0.0063429673347638795, -0.052989240640352424, 0.005403949811115917, -0.04993730621490822, -0.05298150371887702, 0.02292648517063086, 0.018213601150415513, 0.013274891775911157, -0.058549054289427374, 0.022392345743355878, -0.03929757374207493, -0.05857885760261191, -0.060027694581887475, 0.01203691899445186, 0.015154126413658459, -0.04406012963566747, -0.059578641752594634, 0.02297892688765607, -0.04985967038571069, -0.04529337168433247, 0.011985895099220186, -0.054394131483165395, -0.053232571849817056, -0.04324323957612158, -0.059054258915122886, -0.0024210018961072083, 0.022011824508028438, 0.012228063293818647, 0.0056237659579994785, 0.018867187306324373, 0.011778833294278264, 0.02298200179581689, 0.02287130015330347, -0.012050121543225944, 0.022812917427213614, -0.00955217167452721, 0.0041135230282553555, 0.022698352421335753, 0.019393001655382935, 0.022488884697955076, 0.006683363845363311, 0.02168322423086587, 0.02222844442756144, -0.032483056732143176, 0.006456155812499498, -0.06068251425430125, 0.019333570502828627, 0.021461887928001223, 0.022911735260456565, -0.033588623939410596, 0.022366036684922562, -0.007380761602283413, -0.05311117798824366, -0.05638182686656542, 0.02216493352516369, 0.00597344385089079, 0.020455611646024184, 0.015544013130260827, 0.00799773629319713, 0.021219726272357207, -0.0030885908111788272, 0.016706443598219697, 0.01675959740725235, -0.05889528743760817, 0.008301509041071586, 0.02299282219611291, 0.019010311428925824, 0.02294681222800443, 0.011741232090454882, 0.021617690571640823, 0.01793923680958423, -0.03656427550514763, 0.017461076928144165, -0.0532223307233714, -0.05332625659103185, 0.008337051210836654, 0.021450034680508448, 0.02292554161352621, 0.02274305507726259, -0.0432649451254684, 0.017973193987418812, 0.022221930043337286, 0.021906006249293945, -0.0526398649210994, -0.0604399851342062, 0.01717958199208978, 0.02015394943402555, -0.05313002965431591, 0.019310590102095217, 0.022999308246498606, 0.013613806264614116, 0.01793989764289544, -0.05371406957057439, 0.02052921959937614, 0.01738975919923828, 0.0225090775970471, 0.006575226120883213, 0.02268554439680377, -0.03577607891323211, -0.0604974237666876, 0.007742570015710229, 0.022742216130188172, -0.04468751039419278, 0.01947605579071657, 0.0013555645421544035, 0.02264049635403086, 0.022998041409963792, 0.0058541588380724915, 0.022431120820026143, 0.004184027460755069, 0.022873793097457563, 0.020421588344109023, -0.05452787354029355, 0.022080079826341838, -0.022489308878613282, -0.034346241980610405, 0.021652605200027392, 0.01564616454168782, -0.05761276638926641], \"xaxis\": \"x\", \"y\": [-0.0216630079988956, 0.03876213416902572, 0.02768350934666075, 0.024893915961986673, 0.0212738668188653, -0.02438545269997192, 0.02761302013196368, 0.004781408080947354, -0.025028238265282908, 0.026723119726117385, 0.02423511547900222, 0.023189776568344835, -0.03169062878780106, 0.007993779896531205, 0.023569647791770763, -0.051521833980991666, -0.05420100024742763, 0.02580468481359624, -0.05439123726503841, 0.028031903131150383, -0.04553712718137005, -0.04654479528206641, -0.03194805170692739, -0.025934090099467278, -0.010454962688548381, 0.02296827834818989, 0.03803075166764808, 0.01781023578982362, 0.039652886284181496, -0.03349604997237626, -0.05256458889661125, 0.03921281322713822, -0.028083392061629023, -0.04362975511381767, 0.03793616535492294, 0.00042016427462473875, -0.04221902051275002, -0.05144965187257912, 0.01032328626206758, 0.026594673922040738, 0.014722369529836434, -0.013165173535985246, -0.024968238283535362, -0.04761958841119022, -0.052606516544836376, 0.045740356767143435, -0.019480834488399712, 0.04120456943632127, -0.02091918188006858, -0.013772469944998927, -0.016033229672794524, -0.05395592451012351, -0.04930173899385342, 0.027608495876382214, 0.03885449347953052, -0.01631763364943634, -0.016893560922995883, 0.03962915477338135, 0.020262545512562926, -0.05162559714330063, -0.04394592473139575, -0.02433197688677344, -0.0319060272551119, -0.052847737173936093, 0.04799692942575996, 0.023337423656553016, 0.027990810080656132, -0.05371855940615718, -0.05305113052462058, -0.04694880703823582, 0.0023261574719465423, 0.02360028144916407, 0.005823170174264264, 0.0015187515256174203, 0.024854864436764004, -0.010800032413310044, 0.02566433123236863, -0.04722346801078073, -0.053367308254504246, -0.04980329045781474, 0.005770181891033601, 0.04980069037909622, 0.0382916121279725, -0.05131869117257712, -0.048456601234832496, 0.025119526204792863, -0.051395314757054396, 0.0043031654901304105, 0.023902818629247972, -0.05049074230528997, -0.02482574026632659, -0.05466419623329885, 0.009755860023107533, -0.0043537552908992985, -0.05051409809124243, 0.04647317049541783, -0.02954528193558394, -0.052011044647983284, 0.05424355380119552, -0.03227777391480632, -0.019972674016258577, -0.007883287111522837, 0.02572665638420816, -0.05152142123706543, 0.008133062801654125, -0.02512078735993566, -0.05442644019063846, 0.012842482233514594, -0.013687528163166615, 0.00025206854876446197, -0.008565816281382605, -0.02257816412486411, -0.037464768959351524, 0.02638697758364244, 0.021881070319305775, -0.03482557791556315, -0.009091574924416165, -0.007380780544721248, -0.014291986964229852, 0.03109807437963529, 0.018584791500073774, -0.050495454693902195, 0.017660355043651564, -0.04131039199518895, 0.018017297983633187, 0.02237598615938972, -0.03007463685042175, -0.010472993036008462, -0.054167071280140464, -0.04374813047665327, 0.026972968210273996, 0.02770334130484369, -0.03916458690749739, 0.01653507719765418, -0.032022549269139305, -0.05390346723150744, -0.003538957834973235, -0.0239077061331928, -0.04954252317278556, 0.024426775786556828, -0.03798357707120069, -0.04904476639436885, -0.031072735185750745, -0.014193696380485335, 0.023223623046374573, 0.027854964248361393, -0.02103096872412184, -0.007359392953574188, 0.022714092439587368, 0.023696035201049022, 0.0072668772275802885, -0.01367740036384363, -0.022212852659683847, -0.010902456875609078, 0.025810143338851163, 0.027151154130240072, 0.0251066544569596, -0.02610312590575635, -0.054028685512003814, 0.02386478312406555, 0.006335880344792127, -0.01066956397564974, 0.0013541911691898772, -0.02686919183297248, -0.0010510231579816717, 0.047787559699182844, 0.016997802085009322, 0.0004564828223817554, -0.05420574267788681, 0.003752975935587808, -0.02141969888961389, 0.02752181852524797, -0.04777351360092074, -0.0004671972676941365, 0.027744782204648894, 0.0043243202066915055, -0.04009096943801183, 0.0015418522740331226, 0.023353529704482307, -0.054364594571969474, -0.028051145618474858, -0.009533055215570675, 0.0017814645782947465, 0.015785012102806792, -0.05364023053672891, -0.04867085818122425, 0.020395521752633414, -0.05043756109790026, 0.016649843323036054, 0.015979123674171963, -0.035961920611498534, -0.052938967440862635, -0.048457343803841604, 0.03960443037989135, 0.020531951811799305, 0.02799214305963499, -0.03356242150902028, 0.045851575589279915, 0.0048817851853114, -0.029103771047161154, 0.03805747202577156, 0.021738169683449993, 0.015819352974444333, -0.02068113866010154, -0.02969707151370761, -0.03772886846292223, -0.02084675070917984, 0.005552128617002508, -0.0390835572339676, 0.021757561447113872, -0.05199292186381997, 0.015743739872876434, 0.04584580335789406, 0.027300054510699046, -0.0008522342934274062, 0.02784420431418865, -0.054264997781507084, -0.038385603373884455, 0.026554147056520174, -0.053093191495939045, -0.05704885113455541, 0.02819297550486062, -0.04268818149441141, 0.027669459889127467, -0.040894399937165635, 0.006091948728106715, 0.020504666244601587, -0.02070473536601962, -0.03236231063354961, -0.0036634568045847494, 0.014140344078420419, -0.010781115336239622, -0.03206857429793894, -0.011169078374696103, -0.05474363731481474, 0.027527051402081337, 0.03795913098900213, 0.030214135820394974, -0.009367466366570095, -0.038525649740263714, -0.011013369537649696, -0.03684129911141166, 0.0010190855596417742, 0.007187476811918064, 0.027660304513183673, -0.05123718986747935, 0.039683947289174314, -0.003951947099055288, -0.05128706427203999, -0.04104734710804685, 0.021842121444025347, 0.019608985569749906, -0.027044272866153386, -0.04935500075428777, -0.039077051553602554, 0.023801270354214855, -0.03337968664565457, 0.0249210019964502, 0.019259806437537375, -0.032222628807600136, 0.018406291562773992, -0.009711954345695672, 0.038501122327979496, -0.03726078568420864, 0.021769860847950295, 0.0306093897409502, 0.025504153328235354, -0.04174606060596287, -0.036742400594847846, -0.012581123844225365, 0.054574101659978794, 0.036810477032498186, 2.2077594507395457e-05, 0.020830382067352642, -0.05123643966104465, -0.026605352317341218, -0.0438587034839533, -0.02909800964974447, -0.026352662220746514, 0.003883531463226219, -0.030716488951069234, 0.006076537024748754, 0.02368939517930994, -0.017752187572961788, -0.006637236552794418, 0.027295434269349786, -0.014033795796023098, 0.02411887380306121, -0.012450566753352533, -0.05416409515393668, -0.042280009330070784, 0.005147527211849897, 0.004118099783668069, 0.027809100440538612, 0.022446598365865555, 0.025351673394066097, 0.039567212270132365, -0.030545386439206793, 0.046177278036890444, 0.027283762848735696, 0.014700542203109061, 0.027148681359705322, -0.03276826999082197, 0.05164273199143344, -0.041478440838008585, 0.002474983950154322, -0.05288796201263824, 0.025757650181598795, 0.05009499548862958, -0.05323871563641813, -0.007167018020398612, 0.038017937097617645, -0.004550380433855231, -0.00940696803956887, -0.011800342476610267, -0.009312281540201238, -0.05005073416106223, -0.0502299025447659, 0.02423463285504408, -0.05752420269752332, 0.01659636835593869, 0.02731194328714049, -0.003551831533594401, -0.050898813437791554, -0.03559868627866575, 0.027028299815537515, 0.02434737043750032, -0.0024781420863039345, 0.025135320314378966, 0.01917240057218024, 0.01877246179963186, -0.031810976058968904, 0.023390777555163073, -0.005975289997859426, 0.026116443873271198, -0.0043633266513821364, 0.05002614348983502, 0.003146152564277539, 0.02358333405635104, 0.02797782274422811, -0.053900656850728444, -0.030510393295483565, 0.02776829704377415, -0.00021542851123861577, -0.05355834148389033, 0.019850219452344, -0.017421707592089643, 0.015919332878038907, 0.04669243573247804, -0.024965281078858707, -0.012392091535933172, 0.01365784280468095, -0.02269032264544059, 0.009426260082327881, -0.010015760512279832, -0.0009190277087390926, 0.0023839768912582945, -0.02057241590589151, -0.05662806382969585, -0.012082973059398065, 0.026135352574614766, -0.004417643594814354, -0.05830059099270681, 0.015098271333980905, 0.018506994228951704, -0.03045073793064346, 0.02310217983354665, 0.027752889711936762, -0.03379300650035912, -0.05268569208934004, 0.004899705931706387, -0.05047316209637073, 0.02771314146089953, -0.03499174264830199, 0.023395934080192637, -0.05307555959656579, -0.03232427284064891, 0.02751150315374468, 0.0006849061755608579, -0.040971156985667806, 0.0022204271577910403, -0.015533602468986241, 0.02038820197766032, -0.011385696949402158, -0.02056372043292621, 0.0009150606526249156, 0.04657435788900359, 0.0042248825431564435, -0.052845871934511665, 0.027639167284432293, -0.004433707156730094, 0.028210059921125397, -0.025161782191287563, -0.05818862028038414, 0.004520966196625027, -0.04881516992785452, -0.011096048700990346, 0.028032073752077915, -0.049754807367577356, 0.026453740181838, 0.027874240649851768, 0.023456631061603204, -0.008689629698387498, -0.0019146213789448395, 0.030812763095527045, -0.0038255803128301237, 0.02018049701636758, 0.027788244215816833, 0.03763153281500066, 0.05454910374580657, -0.04717999881739279, 0.013320461178820834, 0.02790661310589801, 0.025015191315102395, -0.03195663039891575, -0.043812921405535825, -0.023398810567281936, -0.02418259354665149, -0.038441748176569264, 0.008107007250305368, 0.02520913774759516, -0.007103898239504426, 0.027372201641716314, -0.05444878488278781, 0.03909856642460004, 0.0001338312623330575, -0.024565341594000516, 0.015897723830777432, 0.05391567141926172, -0.04850371400389887, -0.052920659575345, -0.05396695081876536, -0.0076485881262835405, 0.02497923252911444, -0.04903880699094751, 0.01916605390207177, -0.009959274987452237, -0.007087143140455351, 0.022395651553810802, 0.051931981389798994, 0.01974071472159787, 0.02588841385737888, -0.01887999699740734, -0.011892194697898548, 0.02269816826549336, -0.05060361252074641, -0.009262139694742894, -0.020938622364169192, -0.007279091522513029, -0.0429075645649969, -0.03926613259468482, -0.052168559072193844, -0.058421678752639684, 0.02291519398118074, -0.0505500739055647, 0.02639456826388997, 0.027991544532033157, -0.013642249011737712, -0.05367519050663614, 0.027838373096115608, 0.047130379332733625, -0.010017365713684936, 0.024997778320971203, 0.023987202501715675, 0.019746813699675653, 0.026600126248375357, -0.009982996400538449, -0.03298850588001594, -0.040740692840116124, -0.04708563011937195, 0.018000641523484653, 0.02777782853079338, 0.028144781077763525, 0.006175889353067561, 0.038167451443967035, 0.02784728374715129, 0.05171121147232267, -0.010335157707147019, -0.05196315306721817, -0.0005990793357324248, 0.004173963288460081, -0.04636409419024329, -0.04734439276113846, 0.02753813168163661, 0.02258148195959651, 0.02685717907501305, -0.01740758413637583, -0.014118219147238814, 0.003874607201300243, -0.035076571916248245, 0.019301798523180112, 0.027246766858966504, 0.02029349997726177, -0.010633849839517857, -0.017544817263524637, 0.0270448522228366, 0.01161278363561706, -0.033912172744542494, -0.02474525082644141, 0.026012873963079778, -0.011236196832710937, 0.02458048482949752, -0.025417262689492463, -0.009092241801414325, -0.05402733201665231, 0.026257690062946863, 0.051821900619122375, 0.03894310664804806, 0.037030584900948876, 0.009616116488545925, 0.02732886517163357, 0.027962961215863006, -0.005833206489866424, -0.020337756132650767, 0.02678117578178673, -0.006053927550640577, 0.0055965372454026335, -0.0544123691828692, -0.03710471282918454, 0.027760970813483277, 0.0491881341610089, -0.006780081878862652, 0.020353667427723484, -0.05432331940757721, -0.009687704650370079, 0.006977519075474396, 0.024174402304147146, 0.023871217357324667, 0.026115829413373152, -0.05386793507133724, -0.05561515335089032, 0.05083805223961364, 0.027587723976851088, -0.014425180701277922, -0.03573240473290527, -0.05312315374205665, 0.01920526650836712, 0.0032582537655523316, 0.024631688937040253, -0.05326539174088734, 0.05019746309412777, 0.051786683534432186, 0.02810074532120659, -0.001927972775766261, -0.03342688555255059, 0.01939857667897212, -0.048965964358915905, 0.05176425218323686, -0.039604370028236476, -0.035043115733439364, 0.05373235891309628, 0.05142862572496543, -0.052016738792066836, 0.01553646384710588, -0.04809288145027285, -0.006693759600502749, -0.029732910883833525, 0.039287132955440916, -0.043142375510825316, 0.027566167224830178, 0.017337012966406846, -0.04938703734705214, -0.004582818307096713, 0.024413836660616136, 0.006901597056305841, -0.009471937083180417, 0.028185200871112797, -0.03919297727737204, 0.02406041397905709, -0.014289709034652168, 0.012032754609054949, -0.053863160029132745, 0.027039068003750086, 0.02708721621813258, 0.02758646961125006, -0.05166343074678208, -0.05785314358772468, -0.02749102296949217, 0.02770763667632821, -0.015018887333821715, 0.002790190703336716, 0.021828413020741858, -0.0044163432117925614, 0.015964264110591684, -0.017129447690045572, -0.04701658456809016, 0.00808270260305721, -0.015153119056447709, -0.02554269033662662, 0.024770721618471003, 0.027772003316234042, -0.051464014361098195, 0.03550455196412686, 0.019553712544839365, -0.04215003090168411, -0.0410787145779335, 0.007334478239163805, 0.050379284972209754, -0.05018961707091731, 0.026600249509822465, 0.01850710072457963, -0.05202869053068033, 0.02633437186577884, -0.009015077785426553, 0.018390606242425993, -0.053979753243192916, 0.027419726865919123, -0.02598257814021006, -0.030523166685562597, 0.0239772786808037, -0.005579992171493313, -0.02244310123044238, 0.026679930544386738, -0.053790717729650585, 0.026915067542414666, 0.02732853192732999, -0.02301903353377755, 0.014053121686288281, -0.05323894910089577, -0.04603966795532842, 0.03644098123750691, 0.010999827712219483, -0.0469319195507988, 0.023574169802093405, 0.008798958803511166, 0.026257484426999312, -0.02668949093561329, 0.023918284260318307, -0.006284105122421387, 0.007989388420226964, 0.03850136894920601, 0.05409288791572328, 0.014342883138011327, -0.0385902695299757, -0.01027460168545494, 0.009063508889754308, -0.002876174143044233, 0.023637830632886526, 0.023371373213289946, 0.02023836160914216, 0.023683703932348744, -0.008653390665094964, 0.03798922909713915, -0.028051664440447464, 0.027126676706007165, -0.04097821105983233, -0.04913015984978, -0.04602708065905502, 0.004015601785079872, 0.02794778761205055, 0.03865358622089085, -0.01258043447581608, -0.029834097915665703, -0.058157746913333044, -0.005436009947615549, 0.03888414786585796, 0.03962717430534165, -0.053499037427293575, -0.029567253758494748, -0.05303037561033244, -0.05239574491288691, -0.014283012875595186, -0.01435732601265098, 0.003012246067601498, 0.027269636488020027, 0.025834695522310252, -0.023957879948155437, 0.015899516346028163, 0.020489272307745415, 0.027441199888690745, 0.027160147666514332, 0.03034259836816281, -0.052434296383372096, 0.006492475341921124, -0.03870903406116837, 0.023943471034506742, 0.013007822109647536, -0.03051900038455919, -0.046596701948743116, 0.003380367408646549, -0.05471035220474315, -0.03201314441005169, 0.023847560703427355, 0.004167192753560424, 0.024720153073161888, 0.023909172152413432, -0.025119252870690247, 0.02403278298038486, -0.00020880696610481281, -0.010745890641042716, -0.03257184066545715, 0.004285819549951727, -0.044551934722559645, 0.022732889843746523, 0.02773839831850964, 0.017810394257822038, 0.023129600407620934, 0.02013619410522329, 0.029186102274134672, 0.026249844948940452, 0.023513392025303493, 0.002323212142330849, 0.026313722583385983, 0.003950692970453161, -0.00892728683535021, 0.02576260540684494, -0.01603986343750454, -0.0032728099078564612, -0.050608523199263046, 0.02736434276341985, -0.026786777948084962, 0.028171132580743333, -0.0032860154837713387, -0.03839203931689578, -0.05112641707857524, -0.005921860613906071, 0.015931302151258077, -0.048395317964203856, 0.01946119250304147, 0.027787204284257575, 0.02305923388688002, -0.03232665419281772, -0.0532521230491535, -0.005699063247962666, -0.009037535598037622, 0.03547909725794849, 0.012241676718164379, 0.0276575683727411, -0.01199048768886216, 0.009081112436919003, -0.03241709773259784, -0.02108672054105873, 0.039247901890725495, 0.027790790308658126, 0.023737510935453947, 0.003295160646539175, 0.020093816747627002, -0.012582868220160744, -0.054201893366147176, -0.026026865871770367, -0.053063391364044726, 0.0044365541626319015, 0.004862704650942683, 0.026963373542497154, 0.024010034860141874, -0.049477530851502353, 0.02397307989102243, 0.027822939180483224, -0.0502694940126681, -0.04999145420604137, 0.003587546092587477, -0.013801359041351265, -0.003189964195748646, 0.027198025096754692, -0.014427417422510969, 0.026945568369940238, 0.003713011153391728, 0.023873456659272395, 0.015553201857204246, 0.006590821521476251, -0.05455443153831216, -0.054483453760616765, -0.03749778078535459, 0.02753657617962406, 0.02655903944326775, -0.053846237417950485, -0.02581971708965157, 0.014062817289864058, -0.052551655060276946, -0.03817018975161291, -0.016025467819163388, 0.025779086050857707, -0.0069329880796989984, -0.008359595706069029, 0.017922854321066443, 0.01501147095830708, 0.0020777680316255193, -0.03324337885420317, -0.0524933467099325, -0.04999756671824979, 0.024698563045690937, 0.016174110559988693, 0.027559449275399526, -0.05830242982105492, -0.022181568892002176, 0.025297966652442647, 0.024985181889888273, -0.0002691177080685857, -0.04494564511349592, 0.018028676311880126, -0.0013195879714141922, -0.012867095825408396, 0.00385926238436713, 0.02794968322523934, -0.05835322852664143, 0.015521826022435337, -0.04698536410967272, -0.0025924553077969225, -0.009162616365169622, 0.003194773323534221, -0.05221386848050461, 0.02519922268910857, -0.05402194039880813, -0.03818694368914134, 0.010179625882648338, 0.026671224450952297, -0.05847867070999074, -0.0202682803896285, -0.05355756624892353, -0.01049447207715213, -0.014405578034666567, -0.05334577723227811, -0.05023587164909629, -0.0157348398528409, -0.0141676611157641, 0.02507868481344397, -0.01314287761322267, -0.04223091604521364, 0.01705632411839822, 0.008074978127160893, -0.05466414421702811, -0.01006853683458194, 0.03789246869278504, 0.026420615554618325, 0.027940593267152015, 0.02631594122009633, 0.05456573525940018, 0.049809248694223915, -0.0534263464115274, -0.01561187890199329, 0.018242469064954966, -0.016182513454385608, -0.006290457858954134, -0.03840382960329514, 0.050253525786655186, 0.002248873199857465, 0.027376291889671188, 0.01359362486455607, 0.05213642028009275, -0.05466716495215634, -0.023313116347764624, 0.02591819049906614, 0.027882179362857362, 0.007707498642243004, 0.002353440213909205, 0.02286799008984753, 0.012478566022061897, -0.011437207988677589, 0.02418703821691642, 0.024141343570911352, 0.029237709930143616, -0.03479260197870552, -0.012276955657082454, 0.02050152465275173, 0.027776532059134138, -0.04814288642744499, -0.051160834826642285, -0.05810541435481782, -0.05590468191206571, -0.001141805469440012, 0.027971689042508942, 0.028208637280446036, 0.051666674521878474, -0.006662572194947854, -0.012619970812714758, 0.026668254504067766, -0.04685259733996744, 0.027951157557722272, 0.0019175025249483022, -0.024699770783787156, -0.05162678677297141, 0.026816981913847668, 0.027528538336861197, -0.040481802906152636, -0.007915982717592666, 0.05016927650573926, -0.046972459602928555, -0.04866578426292503, 0.004846285249848973, -0.01091397963342185, 0.054557692897832646, -0.04569267755453134, 0.015291646280298275, -0.04728209237530248, 0.0060972161282902455, 0.01526412563034798, 0.02743778049907351, -0.001581834106133177, -0.023993918074845723, 0.03766575423675645, 0.023755862985725136, -0.020237492764233207, 0.037805860254555505, 0.0467075717181219, -0.02909864286078883, -0.016739517724384454, -0.009538959853282047, 0.04579646793734352, 0.027854842845655613, 0.0071513755056600535, -0.005810660815145116, -0.029753620324795966, 0.02108738830460163, 0.016069807478295287, -0.013560374262611894, 0.04344553592865009, -0.054050076534716246, 0.02137823852749076, -0.0280080990803038, -0.04649392548526489, 0.001780267274678011, -0.03036517267630268, 0.027871732061381237, 0.027098807085296158, -0.05065192450801464, 0.026708591903808945, -0.0581681261737266, -0.04967959288063762, 0.025950945326180173, 0.004729316585895997, 0.024415772249156437, -0.04552207859223548, 0.019148058839885844, 0.02269313479431106, -0.028973776299991646, -0.0460968018817063, 0.05053097992817746, 0.004407779753316328, 0.017893502884793838, 0.027334897550370017, -0.027314677238056567, 0.02358375448278833, -0.054517913321295665, 0.017717295495133727, 0.029667098817427958, 0.022316637974296113, -0.04792683896644688, 0.01165735181779326, -0.014847596592468062, -0.0420960584434785, 0.01618752213773749, -0.05538694968097903, -0.009748762672487936, -0.008912457238869095, 0.039464713582125284, -0.04155864073582381, 0.027951416608597093, 0.0026717212394742162, 0.027599794541623333, -0.030482121377544087, 0.018722149409739496, -0.0028286492427691047, -0.024216221755905393, -0.005963458027167397, 0.018088963952655423, 0.01808948694407461, -0.04150931107634496, 0.017731561087423072, 0.027431343079316682, 0.02616528783718093, -0.011941053263082408, -0.0026521674916881663, 0.022650456182100924, 0.020621113479877547, 0.014524077397861837, 0.049202485067989604, -0.006821779381276306, 0.009411429573142737, 0.015759222868314667, 0.004254592514352206, 0.02800031653119965, -0.022415122829805362, -0.0031575853011660986, 0.019803157554008927, 0.011704507114095812, -0.006365518944770145, 0.024556831255899338, -0.04583636609215556, 0.02579669684189284, -0.024837018849732804, 0.04950897355150563, -0.04248872361245768, 0.026246619187464564, -0.008086263415381023, 0.005251614713452554, -0.052471991107807155, 0.025562636721717654, 0.027997735643722287, -0.04815902428284752, 0.02402910991793644, -0.05010015670486655, 0.027099270059245652, 0.011028641280188711, 0.02310506011360787, 0.021829523196376783, -0.04333882639412719, -0.026569883492497993, 0.01894949569725637, -0.014464656966618998, 0.03464721970668064], \"yaxis\": \"y\"}],\n",
              "                        {\"coloraxis\": {\"colorbar\": {\"title\": {\"text\": \"color\"}}, \"colorscale\": [[0.0, \"#0d0887\"], [0.1111111111111111, \"#46039f\"], [0.2222222222222222, \"#7201a8\"], [0.3333333333333333, \"#9c179e\"], [0.4444444444444444, \"#bd3786\"], [0.5555555555555556, \"#d8576b\"], [0.6666666666666666, \"#ed7953\"], [0.7777777777777778, \"#fb9f3a\"], [0.8888888888888888, \"#fdca26\"], [1.0, \"#f0f921\"]]}, \"legend\": {\"tracegroupgap\": 0}, \"margin\": {\"t\": 60}, \"template\": {\"data\": {\"bar\": [{\"error_x\": {\"color\": \"#2a3f5f\"}, \"error_y\": {\"color\": \"#2a3f5f\"}, \"marker\": {\"line\": {\"color\": \"#E5ECF6\", \"width\": 0.5}}, \"type\": \"bar\"}], \"barpolar\": [{\"marker\": {\"line\": {\"color\": \"#E5ECF6\", \"width\": 0.5}}, \"type\": \"barpolar\"}], \"carpet\": [{\"aaxis\": {\"endlinecolor\": \"#2a3f5f\", \"gridcolor\": \"white\", \"linecolor\": \"white\", \"minorgridcolor\": \"white\", \"startlinecolor\": \"#2a3f5f\"}, \"baxis\": {\"endlinecolor\": \"#2a3f5f\", \"gridcolor\": \"white\", \"linecolor\": \"white\", \"minorgridcolor\": \"white\", \"startlinecolor\": \"#2a3f5f\"}, \"type\": \"carpet\"}], \"choropleth\": [{\"colorbar\": {\"outlinewidth\": 0, \"ticks\": \"\"}, \"type\": \"choropleth\"}], \"contour\": [{\"colorbar\": {\"outlinewidth\": 0, \"ticks\": \"\"}, \"colorscale\": [[0.0, \"#0d0887\"], [0.1111111111111111, \"#46039f\"], [0.2222222222222222, \"#7201a8\"], [0.3333333333333333, \"#9c179e\"], [0.4444444444444444, \"#bd3786\"], [0.5555555555555556, \"#d8576b\"], [0.6666666666666666, \"#ed7953\"], [0.7777777777777778, \"#fb9f3a\"], [0.8888888888888888, \"#fdca26\"], [1.0, \"#f0f921\"]], \"type\": \"contour\"}], \"contourcarpet\": [{\"colorbar\": {\"outlinewidth\": 0, \"ticks\": \"\"}, \"type\": \"contourcarpet\"}], \"heatmap\": [{\"colorbar\": {\"outlinewidth\": 0, \"ticks\": \"\"}, \"colorscale\": [[0.0, \"#0d0887\"], [0.1111111111111111, \"#46039f\"], [0.2222222222222222, \"#7201a8\"], [0.3333333333333333, \"#9c179e\"], [0.4444444444444444, \"#bd3786\"], [0.5555555555555556, \"#d8576b\"], [0.6666666666666666, \"#ed7953\"], [0.7777777777777778, \"#fb9f3a\"], [0.8888888888888888, \"#fdca26\"], [1.0, \"#f0f921\"]], \"type\": \"heatmap\"}], \"heatmapgl\": [{\"colorbar\": {\"outlinewidth\": 0, \"ticks\": \"\"}, \"colorscale\": [[0.0, \"#0d0887\"], [0.1111111111111111, \"#46039f\"], [0.2222222222222222, \"#7201a8\"], [0.3333333333333333, \"#9c179e\"], [0.4444444444444444, \"#bd3786\"], [0.5555555555555556, \"#d8576b\"], [0.6666666666666666, \"#ed7953\"], [0.7777777777777778, \"#fb9f3a\"], [0.8888888888888888, \"#fdca26\"], [1.0, \"#f0f921\"]], \"type\": \"heatmapgl\"}], \"histogram\": [{\"marker\": {\"colorbar\": {\"outlinewidth\": 0, \"ticks\": \"\"}}, \"type\": \"histogram\"}], \"histogram2d\": [{\"colorbar\": {\"outlinewidth\": 0, \"ticks\": \"\"}, \"colorscale\": [[0.0, \"#0d0887\"], [0.1111111111111111, \"#46039f\"], [0.2222222222222222, \"#7201a8\"], [0.3333333333333333, \"#9c179e\"], [0.4444444444444444, \"#bd3786\"], [0.5555555555555556, \"#d8576b\"], [0.6666666666666666, \"#ed7953\"], [0.7777777777777778, \"#fb9f3a\"], [0.8888888888888888, \"#fdca26\"], [1.0, \"#f0f921\"]], \"type\": \"histogram2d\"}], \"histogram2dcontour\": [{\"colorbar\": {\"outlinewidth\": 0, \"ticks\": \"\"}, \"colorscale\": [[0.0, \"#0d0887\"], [0.1111111111111111, \"#46039f\"], [0.2222222222222222, \"#7201a8\"], [0.3333333333333333, \"#9c179e\"], [0.4444444444444444, \"#bd3786\"], [0.5555555555555556, \"#d8576b\"], [0.6666666666666666, \"#ed7953\"], [0.7777777777777778, \"#fb9f3a\"], [0.8888888888888888, \"#fdca26\"], [1.0, \"#f0f921\"]], \"type\": \"histogram2dcontour\"}], \"mesh3d\": [{\"colorbar\": {\"outlinewidth\": 0, \"ticks\": \"\"}, \"type\": \"mesh3d\"}], \"parcoords\": [{\"line\": {\"colorbar\": {\"outlinewidth\": 0, \"ticks\": \"\"}}, \"type\": \"parcoords\"}], \"pie\": [{\"automargin\": true, \"type\": \"pie\"}], \"scatter\": [{\"marker\": {\"colorbar\": {\"outlinewidth\": 0, \"ticks\": \"\"}}, \"type\": \"scatter\"}], \"scatter3d\": [{\"line\": {\"colorbar\": {\"outlinewidth\": 0, \"ticks\": \"\"}}, \"marker\": {\"colorbar\": {\"outlinewidth\": 0, \"ticks\": \"\"}}, \"type\": \"scatter3d\"}], \"scattercarpet\": [{\"marker\": {\"colorbar\": {\"outlinewidth\": 0, \"ticks\": \"\"}}, \"type\": \"scattercarpet\"}], \"scattergeo\": [{\"marker\": {\"colorbar\": {\"outlinewidth\": 0, \"ticks\": \"\"}}, \"type\": \"scattergeo\"}], \"scattergl\": [{\"marker\": {\"colorbar\": {\"outlinewidth\": 0, \"ticks\": \"\"}}, \"type\": \"scattergl\"}], \"scattermapbox\": [{\"marker\": {\"colorbar\": {\"outlinewidth\": 0, \"ticks\": \"\"}}, \"type\": \"scattermapbox\"}], \"scatterpolar\": [{\"marker\": {\"colorbar\": {\"outlinewidth\": 0, \"ticks\": \"\"}}, \"type\": \"scatterpolar\"}], \"scatterpolargl\": [{\"marker\": {\"colorbar\": {\"outlinewidth\": 0, \"ticks\": \"\"}}, \"type\": \"scatterpolargl\"}], \"scatterternary\": [{\"marker\": {\"colorbar\": {\"outlinewidth\": 0, \"ticks\": \"\"}}, \"type\": \"scatterternary\"}], \"surface\": [{\"colorbar\": {\"outlinewidth\": 0, \"ticks\": \"\"}, \"colorscale\": [[0.0, \"#0d0887\"], [0.1111111111111111, \"#46039f\"], [0.2222222222222222, \"#7201a8\"], [0.3333333333333333, \"#9c179e\"], [0.4444444444444444, \"#bd3786\"], [0.5555555555555556, \"#d8576b\"], [0.6666666666666666, \"#ed7953\"], [0.7777777777777778, \"#fb9f3a\"], [0.8888888888888888, \"#fdca26\"], [1.0, \"#f0f921\"]], \"type\": \"surface\"}], \"table\": [{\"cells\": {\"fill\": {\"color\": \"#EBF0F8\"}, \"line\": {\"color\": \"white\"}}, \"header\": {\"fill\": {\"color\": \"#C8D4E3\"}, \"line\": {\"color\": \"white\"}}, \"type\": \"table\"}]}, \"layout\": {\"annotationdefaults\": {\"arrowcolor\": \"#2a3f5f\", \"arrowhead\": 0, \"arrowwidth\": 1}, \"coloraxis\": {\"colorbar\": {\"outlinewidth\": 0, \"ticks\": \"\"}}, \"colorscale\": {\"diverging\": [[0, \"#8e0152\"], [0.1, \"#c51b7d\"], [0.2, \"#de77ae\"], [0.3, \"#f1b6da\"], [0.4, \"#fde0ef\"], [0.5, \"#f7f7f7\"], [0.6, \"#e6f5d0\"], [0.7, \"#b8e186\"], [0.8, \"#7fbc41\"], [0.9, \"#4d9221\"], [1, \"#276419\"]], \"sequential\": [[0.0, \"#0d0887\"], [0.1111111111111111, \"#46039f\"], [0.2222222222222222, \"#7201a8\"], [0.3333333333333333, \"#9c179e\"], [0.4444444444444444, \"#bd3786\"], [0.5555555555555556, \"#d8576b\"], [0.6666666666666666, \"#ed7953\"], [0.7777777777777778, \"#fb9f3a\"], [0.8888888888888888, \"#fdca26\"], [1.0, \"#f0f921\"]], \"sequentialminus\": [[0.0, \"#0d0887\"], [0.1111111111111111, \"#46039f\"], [0.2222222222222222, \"#7201a8\"], [0.3333333333333333, \"#9c179e\"], [0.4444444444444444, \"#bd3786\"], [0.5555555555555556, \"#d8576b\"], [0.6666666666666666, \"#ed7953\"], [0.7777777777777778, \"#fb9f3a\"], [0.8888888888888888, \"#fdca26\"], [1.0, \"#f0f921\"]]}, \"colorway\": [\"#636efa\", \"#EF553B\", \"#00cc96\", \"#ab63fa\", \"#FFA15A\", \"#19d3f3\", \"#FF6692\", \"#B6E880\", \"#FF97FF\", \"#FECB52\"], \"font\": {\"color\": \"#2a3f5f\"}, \"geo\": {\"bgcolor\": \"white\", \"lakecolor\": \"white\", \"landcolor\": \"#E5ECF6\", \"showlakes\": true, \"showland\": true, \"subunitcolor\": \"white\"}, \"hoverlabel\": {\"align\": \"left\"}, \"hovermode\": \"closest\", \"mapbox\": {\"style\": \"light\"}, \"paper_bgcolor\": \"white\", \"plot_bgcolor\": \"#E5ECF6\", \"polar\": {\"angularaxis\": {\"gridcolor\": \"white\", \"linecolor\": \"white\", \"ticks\": \"\"}, \"bgcolor\": \"#E5ECF6\", \"radialaxis\": {\"gridcolor\": \"white\", \"linecolor\": \"white\", \"ticks\": \"\"}}, \"scene\": {\"xaxis\": {\"backgroundcolor\": \"#E5ECF6\", \"gridcolor\": \"white\", \"gridwidth\": 2, \"linecolor\": \"white\", \"showbackground\": true, \"ticks\": \"\", \"zerolinecolor\": \"white\"}, \"yaxis\": {\"backgroundcolor\": \"#E5ECF6\", \"gridcolor\": \"white\", \"gridwidth\": 2, \"linecolor\": \"white\", \"showbackground\": true, \"ticks\": \"\", \"zerolinecolor\": \"white\"}, \"zaxis\": {\"backgroundcolor\": \"#E5ECF6\", \"gridcolor\": \"white\", \"gridwidth\": 2, \"linecolor\": \"white\", \"showbackground\": true, \"ticks\": \"\", \"zerolinecolor\": \"white\"}}, \"shapedefaults\": {\"line\": {\"color\": \"#2a3f5f\"}}, \"ternary\": {\"aaxis\": {\"gridcolor\": \"white\", \"linecolor\": \"white\", \"ticks\": \"\"}, \"baxis\": {\"gridcolor\": \"white\", \"linecolor\": \"white\", \"ticks\": \"\"}, \"bgcolor\": \"#E5ECF6\", \"caxis\": {\"gridcolor\": \"white\", \"linecolor\": \"white\", \"ticks\": \"\"}}, \"title\": {\"x\": 0.05}, \"xaxis\": {\"automargin\": true, \"gridcolor\": \"white\", \"linecolor\": \"white\", \"ticks\": \"\", \"title\": {\"standoff\": 15}, \"zerolinecolor\": \"white\", \"zerolinewidth\": 2}, \"yaxis\": {\"automargin\": true, \"gridcolor\": \"white\", \"linecolor\": \"white\", \"ticks\": \"\", \"title\": {\"standoff\": 15}, \"zerolinecolor\": \"white\", \"zerolinewidth\": 2}}}, \"xaxis\": {\"anchor\": \"y\", \"domain\": [0.0, 1.0], \"title\": {\"text\": \"x\"}}, \"yaxis\": {\"anchor\": \"x\", \"domain\": [0.0, 1.0], \"title\": {\"text\": \"y\"}}},\n",
              "                        {\"responsive\": true}\n",
              "                    ).then(function(){\n",
              "                            \n",
              "var gd = document.getElementById('f23ee2d5-4af5-4dd3-ad13-7d46125523fd');\n",
              "var x = new MutationObserver(function (mutations, observer) {{\n",
              "        var display = window.getComputedStyle(gd).display;\n",
              "        if (!display || display === 'none') {{\n",
              "            console.log([gd, 'removed!']);\n",
              "            Plotly.purge(gd);\n",
              "            observer.disconnect();\n",
              "        }}\n",
              "}});\n",
              "\n",
              "// Listen for the removal of the full notebook cells\n",
              "var notebookContainer = gd.closest('#notebook-container');\n",
              "if (notebookContainer) {{\n",
              "    x.observe(notebookContainer, {childList: true});\n",
              "}}\n",
              "\n",
              "// Listen for the clearing of the current output cell\n",
              "var outputEl = gd.closest('.output');\n",
              "if (outputEl) {{\n",
              "    x.observe(outputEl, {childList: true});\n",
              "}}\n",
              "\n",
              "                        })\n",
              "                };\n",
              "                \n",
              "            </script>\n",
              "        </div>\n",
              "</body>\n",
              "</html>"
            ]
          },
          "metadata": {}
        }
      ]
    },
    {
      "cell_type": "markdown",
      "source": [
        "#Handwritten digits"
      ],
      "metadata": {
        "id": "fAuZbfqS027z"
      }
    },
    {
      "cell_type": "code",
      "source": [
        "from sklearn.datasets import load_digits\n",
        "digits = load_digits() \n",
        "\n",
        "X = digits.data\n",
        "y = digits.target \n",
        "\n",
        "N = X.shape[0]\n",
        "dist_matrix = zeros([N,N])\n",
        "for i in range(N):\n",
        "  for j in range(N):\n",
        "    dist_matrix[i,j]=norm(X[i]-X[j])"
      ],
      "metadata": {
        "id": "lTFFU1Z11Azi"
      },
      "execution_count": 93,
      "outputs": []
    },
    {
      "cell_type": "code",
      "source": [
        "def plot_embedding(X, title=None):\n",
        "    x_min, x_max = np.min(X, 0), np.max(X, 0)\n",
        "    X = (X - x_min) / (x_max - x_min)\n",
        "\n",
        "    plt.figure()\n",
        "    ax = plt.subplot(111)\n",
        "    for i in range(X.shape[0]):\n",
        "        #color=y[i] / 10.0\n",
        "        color=(y[i]+1) / 11.0 # ensure each digit gets unique color\n",
        "        plt.text(X[i, 0], X[i, 1], str(y[i]),\n",
        "                 color=plt.cm.Set1(color),\n",
        "                 fontdict={'weight': 'bold', 'size': 9})\n",
        "\n",
        "\n",
        "        # only print thumbnails with matplotlib > 1.0\n",
        "    shown_images = np.array([[1., 1.]])  # just something big\n",
        "    for i in range(X.shape[0]):\n",
        "        dist = np.sum((X[i] - shown_images) ** 2, 1)\n",
        "        if np.min(dist) < 4e-3:\n",
        "                # don't show points that are too close\n",
        "            continue\n",
        "        shown_images = np.r_[shown_images, [X[i]]]\n",
        "    plt.xticks([]), plt.yticks([])"
      ],
      "metadata": {
        "id": "dAk82M0s1fWx"
      },
      "execution_count": 75,
      "outputs": []
    },
    {
      "cell_type": "code",
      "source": [
        "method = {'fun':  eps_ball,\n",
        "          'para': 40}\n",
        "t =400   \n",
        "d =2 \n",
        "options = 'random' "
      ],
      "metadata": {
        "id": "l9Eca5Mx1HjT"
      },
      "execution_count": 174,
      "outputs": []
    },
    {
      "cell_type": "code",
      "source": [
        "Z, eigval,method = LE(dist_matrix, method, 'random',t,d)"
      ],
      "metadata": {
        "id": "BUwSpC6V1PBu"
      },
      "execution_count": 175,
      "outputs": []
    },
    {
      "cell_type": "code",
      "source": [
        "plot_embedding(Z)"
      ],
      "metadata": {
        "colab": {
          "base_uri": "https://localhost:8080/",
          "height": 259
        },
        "id": "Y5b2U8Hr1hrv",
        "outputId": "99df7b29-4b9f-4dc1-939b-1a502c8b0a71"
      },
      "execution_count": 176,
      "outputs": [
        {
          "output_type": "display_data",
          "data": {
            "image/png": "[encoded data removed]",
            "text/plain": [
              "<Figure size 432x288 with 1 Axes>"
            ]
          },
          "metadata": {}
        }
      ]
    }
  ]
}