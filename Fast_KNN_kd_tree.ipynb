{
  "nbformat": 4,
  "nbformat_minor": 0,
  "metadata": {
    "colab": {
      "name": "Fast KNN: kd_tree.ipynb",
      "provenance": [],
      "collapsed_sections": [],
      "authorship_tag": "ABX9TyMMSmwwAmWnZZ67vWnX89d+",
      "include_colab_link": true
    },
    "kernelspec": {
      "name": "python3",
      "display_name": "Python 3"
    },
    "language_info": {
      "name": "python"
    }
  },
  "cells": [
    {
      "cell_type": "markdown",
      "metadata": {
        "id": "view-in-github",
        "colab_type": "text"
      },
      "source": [
        "<a href=\"https://colab.research.google.com/github/yexf308/AdvancedMachineLearning/blob/main/Fast_KNN_kd_tree.ipynb\" target=\"_parent\"><img src=\"https://colab.research.google.com/assets/colab-badge.svg\" alt=\"Open In Colab\"/></a>"
      ]
    },
    {
      "cell_type": "markdown",
      "source": [
        "reference [here](https://www.cs.cmu.edu/~awm/) and [here](https://courses.cs.washington.edu/courses/cse547). "
      ],
      "metadata": {
        "id": "WM2Uhj6XCeez"
      }
    },
    {
      "cell_type": "code",
      "source": [
        "from IPython.display import Image\n"
      ],
      "metadata": {
        "id": "2gJmeL2kQTfM"
      },
      "execution_count": 5,
      "outputs": []
    },
    {
      "cell_type": "markdown",
      "source": [
        "$\\def\\m#1{\\mathbf{#1}}$\n",
        "$\\def\\mb#1{\\mathbb{#1}}$\n",
        "$\\def\\c#1{\\mathcal{#1}}$\n",
        "# The Nearest Neighbor Problem\n",
        "We have $N$ points, $\\{\\m{x}^{(1)},\\dots, \\m{x}^{(N)}\\} \\subset \\mathcal{X}$ (possibly in $D$ dimensions or possibly more abstract). We also have a\n",
        "distance function $d(\\m{x},\\m{y})$ on our points. \n",
        "\n",
        "**Goal:** Find all pairs of data points $(\\m{x}^{(i)}, \\m{x}^{(j)})$ that are within distance threshold $d(\\m{x}^{(i)},\\m{x}^{(j)})\\le \\epsilon$. Naïvely, we would have to compute pairwise\n",
        "similarities for every pair. It will take $O(N^2)$. It is too slow!! We want to have $O(N)$.\n",
        "\n",
        "Or given some new point $\\m{y}$ we would like to find either: 1) an exact nearest\n",
        "neighbor or 2) a point in our $\\m{x} \\in \\mathcal{X}$ that is “close” to $\\m{y}$ (Voronoi diagrams). Naively, given a new point finding its nearest neighbor would take us $O(N)$. We want to have $O(\\log(N))$\n",
        "\n"
      ],
      "metadata": {
        "id": "gVgZRh-VYWPy"
      }
    },
    {
      "cell_type": "code",
      "source": [
        "display(Image(url='https://github.com/yexf308/AdvancedMachineLearning/blob/main/image/Knn_voronoi.png?raw=true', width=400))"
      ],
      "metadata": {
        "colab": {
          "base_uri": "https://localhost:8080/",
          "height": 412
        },
        "id": "E7YUtieGgp1l",
        "outputId": "6ebc0f5f-2208-43ff-8a39-0eb342bd46a7"
      },
      "execution_count": 6,
      "outputs": [
        {
          "output_type": "display_data",
          "data": {
            "text/html": [
              "<img src=\"https://github.com/yexf308/AdvancedMachineLearning/blob/main/image/Knn_voronoi.png?raw=true\" width=\"400\"/>"
            ],
            "text/plain": [
              "<IPython.core.display.Image object>"
            ]
          },
          "metadata": {}
        }
      ]
    },
    {
      "cell_type": "markdown",
      "source": [
        "# KD-tree\n",
        "k-d tree (short for k-dimensional tree) is a space-partitioning data structure for organizing points in a k-dimensional space. \n",
        "\n",
        "**Main idea of construction:**  Recursively\tpartitions\tpoints\tinto\taxis\t\n",
        "aligned\tboxes.\n",
        "\n",
        "**Main idea of searching:** Enables\tmore\tefficient\tpruning\tof\t\n",
        "search\tspace. \n",
        "\n",
        "- Examine\tnearby\tpoints\tfirst.\n",
        "\n",
        "- Ignore\tany\tpoints\tthat\tare\tfurther\t\n",
        "than\tthe\tnearest\tpoint\tfound\tso\tfar.\n",
        "\n",
        "\n",
        "k-d tree work\t“well”\tin\t“low-medium”\tdimensions ($k\\le 20$).\n",
        "\n",
        "<img src=\"https://github.com/yexf308/AdvancedMachineLearning/blob/main/image/kd_tree/8.png?raw=true\" width=\"500\" />"
      ],
      "metadata": {
        "id": "atTq0kMufdpk"
      }
    },
    {
      "cell_type": "markdown",
      "source": [
        "## Algorithm step by step\n",
        "\n",
        "### Construction\n",
        "\n",
        "Step 1: Start\twith\ta\tlist\tof\t$d$-dimensional\tpoints.\n",
        "\n",
        "\n",
        "<img src=\"https://github.com/yexf308/AdvancedMachineLearning/blob/main/image/kd_tree/2.png?raw=true\" width=\"500\" />\n",
        "\n",
        "\n",
        "Step 2: Split\tthe\tpoints\tinto\t2\tgroups\tby:\n",
        " - Choosing\tdimension\t$d_j$ and\tvalue\t$V$\n",
        "   - $d_j$: As one moves down the tree, one cycles through the axes used to select the splitting planes. (For example, in a 3-dimensional tree, the root would have an x-aligned plane, the root's children would both have y-aligned planes, the root's grandchildren would all have z-aligned planes, the root's great-grandchildren would all have x-aligned planes, the root's great-great-grandchildren would all have y-aligned planes, and so on.) Another way is to choose the widest dimension.\n",
        "  \n",
        "  - $V$: Points are inserted by selecting the median of the points being put into the subtree, with respect to their coordinates in the axis being used to create the splitting plane. Another way is to choose the center of the range. \n",
        "\n",
        " - Separating\tthe\tpoints into $x_{d_j}^{(i)}>V$ and $x_{d_j}^{(i)}\\ge V$ \n",
        "\n",
        "\n",
        "<img src=\"https://github.com/yexf308/AdvancedMachineLearning/blob/main/image/kd_tree/3.png?raw=true\" width=\"600\" />\n",
        "\n",
        "<img src=\"https://github.com/yexf308/AdvancedMachineLearning/blob/main/image/kd_tree/4.png?raw=true\" width=\"600\" />\n",
        "\n",
        "Step 3: consider each group separately as subtree and repeat step 2. Stop until $m$ points left or box hits minimum width. \n",
        "\n",
        "<img src=\"https://github.com/yexf308/AdvancedMachineLearning/blob/main/image/kd_tree/5.png?raw=true\" width=\"600\" />\n",
        "\n",
        "<img src=\"https://github.com/yexf308/AdvancedMachineLearning/blob/main/image/kd_tree/6.png?raw=true\" width=\"600\" />\n",
        "\n",
        "\n",
        "At the end: create a\tbinary\ttree\tstructure.  Each leaf\tnode contains\ta\tlist\tof points. At each node,  it has\t(tight)\tbounds\tof\tthe\tpoints\tat\tor\tbelow\tthis\tnode.\n"
      ],
      "metadata": {
        "id": "sq3McFmMyzVV"
      }
    },
    {
      "cell_type": "markdown",
      "source": [
        "### Many heuristics\n",
        "\n"
      ],
      "metadata": {
        "id": "1ZvQZFEW5_gO"
      }
    },
    {
      "cell_type": "code",
      "source": [
        "display(Image(url='https://github.com/yexf308/AdvancedMachineLearning/blob/main/image/kd_tree/7.png?raw=true', width=700))"
      ],
      "metadata": {
        "colab": {
          "base_uri": "https://localhost:8080/",
          "height": 363
        },
        "id": "UdlhS-Ya7icN",
        "outputId": "7b86a6e7-49eb-44b5-a5a6-b169ba92bd04"
      },
      "execution_count": 7,
      "outputs": [
        {
          "output_type": "display_data",
          "data": {
            "text/html": [
              "<img src=\"https://github.com/yexf308/AdvancedMachineLearning/blob/main/image/kd_tree/7.png?raw=true\" width=\"700\"/>"
            ],
            "text/plain": [
              "<IPython.core.display.Image object>"
            ]
          },
          "metadata": {}
        }
      ]
    },
    {
      "cell_type": "markdown",
      "source": [
        "### Nearest neighbour search\n",
        "\n",
        "Step 1: Starting with the root node, the algorithm moves down the tree recursively, in the same way that it would if the search point were being inserted (i.e. it goes left or right depending on whether the point is lesser than or greater than the current node in the split dimension).\n",
        "<img src=\"https://github.com/yexf308/AdvancedMachineLearning/blob/main/image/kd_tree/9.png?raw=true\" width=\"600\" />\n",
        "\n",
        "<img src=\"https://github.com/yexf308/AdvancedMachineLearning/blob/main/image/kd_tree/10.png?raw=true\" width=\"600\" />\n",
        "\n",
        "\n",
        "\n",
        "Step 2: Once the algorithm reaches a leaf node, it checks that node point and if the distance is better, that node point is saved as the \"current best\". Calculate the current distance bound $r$.\n",
        "\n",
        "<img src=\"https://github.com/yexf308/AdvancedMachineLearning/blob/main/image/kd_tree/11.png?raw=true\" width=\"600\" />\n",
        "\n",
        "Step 3: \tBacktrack\tand\ttry\tthe\tother\tbranch at\teach node\tvisited. Each\ttime a\tnew\tclosest\tnode is found, update the\tdistance bound $r$. Using\tthe\tdistance\tbound\tand\tbounding\tbox\tof\teach\tnode to prune\tparts\tof\tthe\ttree\tthat\tcould\tNOT\tinclude\tthe\tnearest\tneighbor. \n",
        "\n",
        "<img src=\"https://github.com/yexf308/AdvancedMachineLearning/blob/main/image/kd_tree/12.png?raw=true\" width=\"600\" />\n",
        "\n",
        "<img src=\"https://github.com/yexf308/AdvancedMachineLearning/blob/main/image/kd_tree/13.png?raw=true\" width=\"600\" />\n",
        "\n",
        "<img src=\"https://github.com/yexf308/AdvancedMachineLearning/blob/main/image/kd_tree/14.png?raw=true\" width=\"600\" />\n",
        "\n",
        "<img src=\"https://github.com/yexf308/AdvancedMachineLearning/blob/main/image/kd_tree/15.png?raw=true\" width=\"600\" />\n",
        "\n",
        "<img src=\"https://github.com/yexf308/AdvancedMachineLearning/blob/main/image/kd_tree/16.png?raw=true\" width=\"600\" />\n",
        "\n",
        "<img src=\"https://github.com/yexf308/AdvancedMachineLearning/blob/main/image/kd_tree/17.png?raw=true\" width=\"600\" />"
      ],
      "metadata": {
        "id": "lmLY0-_q8uII"
      }
    },
    {
      "cell_type": "markdown",
      "source": [
        "## Approximate kNN with kd-tree\n",
        "**Before:**\tPrune\twhen\tdistance\tto\tbounding\tbox\t> $r$.\n",
        "\n",
        "**Now:**\tPrune\twhen\tdistance\tto\tbounding\tbox\t> $r/\\alpha$, where $\\alpha>1$. \n",
        "\n",
        "Will\tprune\tmore\tthan\tallowed,\tbut\tcan\tguarantee\tthat\tif\twe\treturn\ta\tneighbor\tat\t\n",
        "distance $r$,\tthen\tthere\tis\tno\tneighbor\tcloser\tthan $r/\\alpha$. \n",
        "\n",
        "Saves\tlots\tof\tsearch\ttime\tat\tlittle\tcost\tin\tquality\tof\tnearest\tneighbor. \n",
        "\n",
        "<img src=\"https://github.com/yexf308/AdvancedMachineLearning/blob/main/image/kd_tree/20.png?raw=true\" width=\"600\" />\n"
      ],
      "metadata": {
        "id": "AleEnL3-ABdJ"
      }
    },
    {
      "cell_type": "markdown",
      "source": [
        "## Complexity \n",
        "### Complexity\tfor\t1\tQueries\n",
        "For nearly balanced binary tree, \n",
        "- Construction \n",
        "  - size: $2N-1$, $O(N)$.\n",
        "\n",
        "  - depth: $O(\\log(N))$\n",
        "\n",
        "  - Median\t+\tsend\tpoints\tleft\tright:\t$O(N)$ at each tree level.\n",
        "\n",
        "  - Construction time: $O(N\\log(N))$\n",
        "\n",
        "- 1-NN\tquery\t\n",
        "  - Traverse\tdown\ttree\tto\tstarting\tpoint:\t$O(\\log(N))$\n",
        "\n",
        "  - Maximum\tbacktrack\tand\ttraverse:\t$O(N)$ worse case\n",
        "\n",
        "  - exponential in $d$\n",
        "\n",
        "  - Complexity\trange:\t$O(2^d\\log(N))$ to $O(2^dN)$\n",
        "\n",
        "\n",
        "<img src=\"https://github.com/yexf308/AdvancedMachineLearning/blob/main/image/kd_tree/18.png?raw=true\" width=\"600\" />  \n",
        "\n",
        "Left: pruned many, order is $\\log(N)$\n",
        "Right: pruned few, order is $N$.\n",
        "\n",
        "### Complexity\tfor\t$N$\tQueries\n",
        "Ask\tfor\tnearest\tneighbor\tto\teach data\n",
        "\n",
        "- Brute\tforce\t1-NN: $O(N^2)$\n",
        "\n",
        "- K-d tree: $O(N\\log(N))$ to $O(N^2)$\n",
        "\n",
        "\n",
        "### Complexity for kNN\n",
        "\n",
        "Exactly\tthe\tsame\talgorithm,\tbut\tmaintain\tdistance\tas\tdistance\t\n",
        "to\tfurthest\tof\tcurrent\t$k$\tnearest\tneighbors. \n",
        "\n",
        "- k-d tree: $O(k\\log(N))$\n",
        "\n",
        "\n",
        "### Issue\n",
        "High\tdimensional\tspaces\tare\thard!\t Number\tof\tkd-tree\tsearches\tcan\tbe\texponential\tin\tdimension\t$d$. Rule of thumb, k-d tree is useful when $N\\gg 2^d$. k-d tree is useless for very large $d$ since we don't have enough observation. \n",
        "\n",
        "Distances\tare\tsensitive\tto irrelevant\tfeatures in high dimensions.\n",
        "\n",
        "- Most\tdimensions\tare\tjust\tnoise and everything iss far away. \n",
        "\n",
        "- Need\ttechnique\tto\tlearn\twhat\tfeatures\tare\timportant\tfor\tyour\ttask. \n"
      ],
      "metadata": {
        "id": "66U0A3ZQxyik"
      }
    },
    {
      "cell_type": "code",
      "source": [
        "# https://github.com/Vectorized/Python-KD-Tree\n",
        "\n",
        "# Makes the KD-Tree for fast lookup\n",
        "def make_kd_tree(points, dim, i=0):\n",
        "    if len(points) > 1:\n",
        "        points.sort(key=lambda x: x[i])\n",
        "        i = (i + 1) % dim\n",
        "        half = len(points) >> 1\n",
        "        return [\n",
        "            make_kd_tree(points[: half], dim, i),\n",
        "            make_kd_tree(points[half + 1:], dim, i),\n",
        "            points[half]\n",
        "        ]\n",
        "    elif len(points) == 1:\n",
        "        return [None, None, points[0]]\n",
        "\n",
        "# Adds a point to the kd-tree\n",
        "def add_point(kd_node, point, dim, i=0):\n",
        "    if kd_node is not None:\n",
        "        dx = kd_node[2][i] - point[i]\n",
        "        i = (i + 1) % dim\n",
        "        for j, c in ((0, dx >= 0), (1, dx < 0)):\n",
        "            if c and kd_node[j] is None:\n",
        "                kd_node[j] = [None, None, point]\n",
        "            elif c:\n",
        "                add_point(kd_node[j], point, dim, i)\n",
        "\n",
        "# k nearest neighbors\n",
        "def get_knn(kd_node, point, k, dim, dist_func, return_distances=True, i=0, heap=None):\n",
        "    import heapq\n",
        "    is_root = not heap\n",
        "    if is_root:\n",
        "        heap = []\n",
        "    if kd_node is not None:\n",
        "        dist = dist_func(point, kd_node[2])\n",
        "        dx = kd_node[2][i] - point[i]\n",
        "        if len(heap) < k:\n",
        "            heapq.heappush(heap, (-dist, kd_node[2]))\n",
        "        elif dist < -heap[0][0]:\n",
        "            heapq.heappushpop(heap, (-dist, kd_node[2]))\n",
        "        i = (i + 1) % dim\n",
        "        # Goes into the left branch, and then the right branch if needed\n",
        "        for b in [dx < 0] + [dx >= 0] * (dx * dx < -heap[0][0]):\n",
        "            get_knn(kd_node[b], point, k, dim, dist_func, return_distances, i, heap)\n",
        "    if is_root:\n",
        "        neighbors = sorted((-h[0], h[1]) for h in heap)\n",
        "        return neighbors if return_distances else [n[1] for n in neighbors]\n",
        "\n",
        "# For the closest neighbor\n",
        "def get_nearest(kd_node, point, dim, dist_func, return_distances=True, i=0, best=None):\n",
        "    if kd_node is not None:\n",
        "        dist = dist_func(point, kd_node[2])\n",
        "        dx = kd_node[2][i] - point[i]\n",
        "        if not best:\n",
        "            best = [dist, kd_node[2]]\n",
        "        elif dist < best[0]:\n",
        "            best[0], best[1] = dist, kd_node[2]\n",
        "        i = (i + 1) % dim\n",
        "        # Goes into the left branch, and then the right branch if needed\n",
        "        for b in [dx < 0] + [dx >= 0] * (dx * dx < best[0]):\n",
        "            get_nearest(kd_node[b], point, dim, dist_func, return_distances, i, best)\n",
        "    return best if return_distances else best[1]\n",
        "\n",
        "def get_knn_naive(points, point, k, dist_func, return_distances=True):\n",
        "    neighbors = []\n",
        "    for i, pp in enumerate(points):\n",
        "        dist = dist_func(point, pp)\n",
        "        neighbors.append((dist, pp))\n",
        "    neighbors = sorted(neighbors)[:k]\n",
        "    return neighbors if return_distances else [n[1] for n in neighbors]\n",
        "\n",
        "def rand_point(dim):\n",
        "    return [random.uniform(-1, 1) for d in range(dim)]\n",
        "\n",
        "def dist_sq(a, b, dim):\n",
        "    return sum((a[i] - b[i]) ** 2 for i in range(dim))\n",
        "\n",
        "def dist_sq_dim(a, b):\n",
        "    return dist_sq(a, b, dim)    "
      ],
      "metadata": {
        "id": "3sckKazBDBTq"
      },
      "execution_count": 19,
      "outputs": []
    },
    {
      "cell_type": "code",
      "source": [
        "\n",
        "\"\"\"\n",
        "Below is all the testing code\n",
        "\"\"\"\n",
        "\n",
        "import random, cProfile\n",
        "\n",
        "dim = 8\n",
        "points = [rand_point(dim) for x in range(10000)]\n",
        "additional_points = [rand_point(dim) for x in range(50)]\n",
        "#points = [rand_point(dim) for x in range(5000)]\n",
        "test = [rand_point(dim) for x in range(100)]\n",
        "result1 = []\n",
        "result2 = []\n",
        "\n",
        "\n",
        "def bench1():\n",
        "    kd_tree = make_kd_tree(points, dim)\n",
        "    for point in additional_points:\n",
        "        add_point(kd_tree, point, dim)\n",
        "    result1.append(tuple(get_knn(kd_tree, [0] * dim, 8, dim, dist_sq_dim)))\n",
        "    for t in test:\n",
        "        result1.append(tuple(get_knn(kd_tree, t, 8, dim, dist_sq_dim)))\n",
        "\n",
        "\n",
        "def bench2():\n",
        "    all_points = points + additional_points\n",
        "    result2.append(tuple(get_knn_naive(all_points, [0] * dim, 8, dist_sq_dim)))\n",
        "    for t in test:\n",
        "        result2.append(tuple(get_knn_naive(all_points, t, 8, dist_sq_dim)))\n",
        "\n",
        "cProfile.run(\"bench1()\")\n",
        "cProfile.run(\"bench2()\")\n",
        "\n",
        "\n",
        "print(\"Is the result same as naive version?: {}\".format(result1 == result2))\n",
        "\n",
        "print(\"\")\n",
        "kd_tree = make_kd_tree(points, dim)\n",
        "\n",
        "print(get_nearest(kd_tree, [0] * dim, dim, dist_sq_dim))\n",
        "\n"
      ],
      "metadata": {
        "colab": {
          "base_uri": "https://localhost:8080/"
        },
        "id": "qPXXew1LbRQk",
        "outputId": "c44a418d-51f6-4b58-a1d1-baba93b138fc"
      },
      "execution_count": 25,
      "outputs": [
        {
          "output_type": "stream",
          "name": "stdout",
          "text": [
            "         5077136 function calls (4495456 primitive calls) in 2.853 seconds\n",
            "\n",
            "   Ordered by: standard name\n",
            "\n",
            "   ncalls  tottime  percall  cumtime  percall filename:lineno(function)\n",
            "   673/50    0.001    0.000    0.001    0.000 <ipython-input-19-c164e2fa9c0b>:18(add_point)\n",
            "569350/101    0.983    0.000    2.765    0.027 <ipython-input-19-c164e2fa9c0b>:29(get_knn)\n",
            "  11809/1    0.020    0.000    0.084    0.084 <ipython-input-19-c164e2fa9c0b>:4(make_kd_tree)\n",
            "      909    0.001    0.000    0.001    0.000 <ipython-input-19-c164e2fa9c0b>:46(<genexpr>)\n",
            "   119535    0.028    0.000    0.028    0.000 <ipython-input-19-c164e2fa9c0b>:6(<lambda>)\n",
            "   333993    0.254    0.000    1.627    0.000 <ipython-input-19-c164e2fa9c0b>:75(dist_sq)\n",
            "  3005937    1.010    0.000    1.010    0.000 <ipython-input-19-c164e2fa9c0b>:76(<genexpr>)\n",
            "   333993    0.123    0.000    1.750    0.000 <ipython-input-19-c164e2fa9c0b>:78(dist_sq_dim)\n",
            "        1    0.001    0.001    2.852    2.852 <ipython-input-25-7da0fabfbdcf>:17(bench1)\n",
            "        1    0.001    0.001    2.853    2.853 <string>:1(<module>)\n",
            "     2415    0.002    0.000    0.002    0.000 {built-in method _heapq.heappushpop}\n",
            "      808    0.000    0.000    0.000    0.000 {built-in method _heapq.heappush}\n",
            "        1    0.000    0.000    2.853    2.853 {built-in method builtins.exec}\n",
            "   357611    0.030    0.000    0.030    0.000 {built-in method builtins.len}\n",
            "      101    0.001    0.000    0.002    0.000 {built-in method builtins.sorted}\n",
            "   333993    0.363    0.000    1.373    0.000 {built-in method builtins.sum}\n",
            "      101    0.000    0.000    0.000    0.000 {method 'append' of 'list' objects}\n",
            "        1    0.000    0.000    0.000    0.000 {method 'disable' of '_lsprof.Profiler' objects}\n",
            "     5904    0.034    0.000    0.063    0.000 {method 'sort' of 'list' objects}\n",
            "\n",
            "\n",
            "         13195957 function calls in 8.272 seconds\n",
            "\n",
            "   Ordered by: standard name\n",
            "\n",
            "   ncalls  tottime  percall  cumtime  percall filename:lineno(function)\n",
            "      101    0.840    0.008    8.269    0.082 <ipython-input-19-c164e2fa9c0b>:64(get_knn_naive)\n",
            "  1015050    2.259    0.000    6.424    0.000 <ipython-input-19-c164e2fa9c0b>:75(dist_sq)\n",
            "  9135450    3.057    0.000    3.057    0.000 <ipython-input-19-c164e2fa9c0b>:76(<genexpr>)\n",
            "  1015050    0.380    0.000    6.804    0.000 <ipython-input-19-c164e2fa9c0b>:78(dist_sq_dim)\n",
            "        1    0.003    0.003    8.272    8.272 <ipython-input-25-7da0fabfbdcf>:26(bench2)\n",
            "        1    0.000    0.000    8.272    8.272 <string>:1(<module>)\n",
            "        1    0.000    0.000    8.272    8.272 {built-in method builtins.exec}\n",
            "      101    0.530    0.005    0.530    0.005 {built-in method builtins.sorted}\n",
            "  1015050    1.108    0.000    4.165    0.000 {built-in method builtins.sum}\n",
            "  1015151    0.096    0.000    0.096    0.000 {method 'append' of 'list' objects}\n",
            "        1    0.000    0.000    0.000    0.000 {method 'disable' of '_lsprof.Profiler' objects}\n",
            "\n",
            "\n",
            "Is the result same as naive version?: True\n",
            "\n",
            "[0.3296087929319812, [0.37598219305180214, -0.1989948908310688, -0.16260158859620533, 0.1228631156359461, -0.3065469972534174, -0.0849941070237139, 0.06482846846212875, -0.0414102039151909]]\n"
          ]
        }
      ]
    }
  ]
}